{
  "nbformat": 4,
  "nbformat_minor": 0,
  "metadata": {
    "colab": {
      "name": "inception_v3_No_augmentation_No_rescale.ipynb",
      "provenance": [],
      "collapsed_sections": []
    },
    "kernelspec": {
      "name": "python3",
      "display_name": "Python 3"
    },
    "language_info": {
      "name": "python"
    },
    "accelerator": "GPU"
  },
  "cells": [
    {
      "cell_type": "code",
      "metadata": {
        "id": "_YeuRhJaM3O2"
      },
      "source": [
        "from __future__ import print_function, division\n",
        "import os\n",
        "import torch\n",
        "import pandas as pd\n",
        "from skimage import io, transform\n",
        "import numpy as np\n",
        "import matplotlib.pyplot as plt\n",
        "from torch.utils.data import Dataset, DataLoader\n",
        "from torchvision import transforms, utils, datasets\n",
        "import torch.nn as nn\n",
        "from torch.nn import functional as F\n",
        "import torch.optim as optim"
      ],
      "execution_count": null,
      "outputs": []
    },
    {
      "cell_type": "code",
      "metadata": {
        "id": "kneGxim5M5Xg"
      },
      "source": [
        "input_path = \"../content/DATA_CHAMBER_2021/\"\n",
        "device = torch.device('cuda' if torch.cuda.is_available() else 'cpu')"
      ],
      "execution_count": null,
      "outputs": []
    },
    {
      "cell_type": "code",
      "metadata": {
        "id": "XklVl_hnNZ4e",
        "colab": {
          "base_uri": "https://localhost:8080/"
        },
        "outputId": "e1b19daf-742a-4fe1-97fe-6605617d67a3"
      },
      "source": [
        "from google.colab import drive\n",
        "drive.mount('/content/drive')"
      ],
      "execution_count": null,
      "outputs": [
        {
          "output_type": "stream",
          "name": "stdout",
          "text": [
            "Mounted at /content/drive\n"
          ]
        }
      ]
    },
    {
      "cell_type": "code",
      "metadata": {
        "id": "qMN4khQrNcrS"
      },
      "source": [
        "!unzip -uq \"/content/drive/My Drive/DATA_CHAMBER_2021.zip\" -d \"./\""
      ],
      "execution_count": null,
      "outputs": []
    },
    {
      "cell_type": "code",
      "metadata": {
        "id": "8Wlreb7qNfDx"
      },
      "source": [
        "class ImageFolderWithPaths(datasets.ImageFolder):\n",
        "\n",
        "    # called by dataloaders\n",
        "    def __getitem__(self, index):\n",
        "        original_tuple = super(ImageFolderWithPaths, self).__getitem__(index)\n",
        "        # the image file path\n",
        "        path = self.imgs[index][0]\n",
        "        tuple_with_path = (original_tuple + (path,))\n",
        "        return tuple_with_path"
      ],
      "execution_count": null,
      "outputs": []
    },
    {
      "cell_type": "code",
      "metadata": {
        "id": "T-mJ7dSLNif1"
      },
      "source": [
        "preprocess = {\n",
        "    'train':\n",
        "    transforms.Compose([\n",
        "        transforms.Resize(256),\n",
        "        transforms.CenterCrop(299),\n",
        "        # transforms.RandomHorizontalFlip(),\n",
        "        transforms.ToTensor(),\n",
        "        transforms.Normalize(mean=[0.485, 0.456, 0.406], std=[0.229, 0.224, 0.225]),\n",
        "    ]),\n",
        "    'validation':\n",
        "    transforms.Compose([\n",
        "        transforms.Resize(256),\n",
        "        transforms.CenterCrop(299),\n",
        "        # transforms.RandomHorizontalFlip(),\n",
        "        transforms.ToTensor(),\n",
        "        transforms.Normalize(mean=[0.485, 0.456, 0.406], std=[0.229, 0.224, 0.225]),\n",
        "    ]),\n",
        "}\n",
        "\n",
        "image_datasets = {\n",
        "    'train': \n",
        "    ImageFolderWithPaths(input_path + 'train', preprocess['train']),\n",
        "    'validation': \n",
        "    ImageFolderWithPaths(input_path + 'test', preprocess['validation'])\n",
        "}\n",
        "dataset_sizes = {x: len(image_datasets[x]) for x in ['train','validation']}\n",
        "\n",
        "dataloaders = {\n",
        "    'train':\n",
        "    torch.utils.data.DataLoader(image_datasets['train'],\n",
        "                                batch_size=32,\n",
        "                                shuffle=True,\n",
        "                                num_workers=2, pin_memory=True),\n",
        "    'validation':\n",
        "    torch.utils.data.DataLoader(image_datasets['validation'],\n",
        "                                batch_size=32,\n",
        "                                shuffle=True,\n",
        "                                num_workers=2, pin_memory=True)\n",
        "}"
      ],
      "execution_count": null,
      "outputs": []
    },
    {
      "cell_type": "code",
      "metadata": {
        "id": "vCf6IAp4Nkk6",
        "colab": {
          "base_uri": "https://localhost:8080/"
        },
        "outputId": "a1588d3e-0481-4eba-8410-4cbbad4c4a1e"
      },
      "source": [
        "model = torch.hub.load('pytorch/vision:v0.10.0', 'inception_v3', pretrained=False)\n",
        "model.AuxLogits.fc = nn.Linear(768, 3)\n",
        "model.fc = nn.Linear(2048, 3)\n",
        "# fine tuning"
      ],
      "execution_count": null,
      "outputs": [
        {
          "output_type": "stream",
          "name": "stderr",
          "text": [
            "Downloading: \"https://github.com/pytorch/vision/archive/v0.10.0.zip\" to /root/.cache/torch/hub/v0.10.0.zip\n",
            "/usr/local/lib/python3.7/dist-packages/torchvision/models/inception.py:83: FutureWarning: The default weight initialization of inception_v3 will be changed in future releases of torchvision. If you wish to keep the old behavior (which leads to long initialization times due to scipy/scipy#11299), please set init_weights=True.\n",
            "  ' due to scipy/scipy#11299), please set init_weights=True.', FutureWarning)\n"
          ]
        }
      ]
    },
    {
      "cell_type": "code",
      "metadata": {
        "id": "ALIESf0lOUFq"
      },
      "source": [
        "import torchvision\n",
        "from torch.autograd import Variable\n",
        "import time\n",
        "from PIL import Image\n",
        "from torchvision import transforms"
      ],
      "execution_count": null,
      "outputs": []
    },
    {
      "cell_type": "code",
      "metadata": {
        "id": "8NE_fEG_OelG"
      },
      "source": [
        "criterion = nn.CrossEntropyLoss()\n",
        "optimizer = optim.SGD(model.parameters(), lr=0.001,momentum=0.9)"
      ],
      "execution_count": null,
      "outputs": []
    },
    {
      "cell_type": "code",
      "metadata": {
        "id": "2aX3vWMOOg3n"
      },
      "source": [
        "# t0 = time.time()\n",
        "# print('{} seconds'.format(time.time() - t0)\n",
        "epochLine = [1, 2, 3, 4, 5, 6, 7, 8, 9, 10, 11, 12, 13, 14, 15, 16, 17, 18, 19, 20]"
      ],
      "execution_count": null,
      "outputs": []
    },
    {
      "cell_type": "code",
      "metadata": {
        "id": "ouvQxeyeOit-"
      },
      "source": [
        "def train_model(model, criterion, optimizer, num_epochs=1, is_inception = True):\n",
        "    train_batches = len(dataloaders['train'])\n",
        "    lossLine = []\n",
        "    accLine = []\n",
        "    timeLine = []\n",
        "    for epoch in range(num_epochs):\n",
        "        print('-' * 40)\n",
        "        print('Epoch {}/{}'.format(epoch+1, num_epochs))\n",
        "        print('-' * 20)\n",
        "        t0 = time.time()\n",
        "\n",
        "        for phase in ['train']:\n",
        "            if phase == 'train':\n",
        "                model.train()\n",
        "            else:\n",
        "                model.eval()\n",
        "\n",
        "            training_loss = 0.0\n",
        "            training_corrects = 0\n",
        "\n",
        "            for i,data in enumerate(dataloaders[phase]):\n",
        "                inputs, labels,_ = data\n",
        "                print(\"\\rTraining batch {}/{}\".format(i+1, train_batches), end='', flush=True)\n",
        "                inputs = inputs.to(device)\n",
        "                labels = labels.to(device)\n",
        "\n",
        "                outputs,  aux_outputs = model(inputs)\n",
        "                loss1 = criterion(outputs, labels)\n",
        "                loss2 = criterion(aux_outputs, labels)\n",
        "                loss = loss1 + 0.4 * loss2\n",
        "                # loss.requires_grad = True\n",
        "\n",
        "                if phase == 'train':\n",
        "                    optimizer.zero_grad()\n",
        "                    loss.backward()\n",
        "                    optimizer.step()\n",
        "\n",
        "                _, preds = torch.max(outputs, 1)\n",
        "                training_loss += loss.item() * inputs.size(0)\n",
        "                training_corrects += torch.sum(preds == labels.data)\n",
        "\n",
        "            epoch_loss = training_loss / len(image_datasets[phase])\n",
        "            lossLine.append(epoch_loss)\n",
        "            epoch_acc = training_corrects.double() / len(image_datasets[phase])\n",
        "            accLine.append(epoch_acc)\n",
        "\n",
        "            print('{} loss: {:.4f}, acc: {:.4f}'.format(phase,\n",
        "                                                        epoch_loss,\n",
        "                                                        epoch_acc))\n",
        "            t1 = time.time()\n",
        "            t = t1 - t0\n",
        "            print('Duration :{} seconds'.format(t))\n",
        "            ts = pd.DataFrame([t]).apply(np.float32)\n",
        "            timeLine.append(ts)\n",
        "    return model, lossLine, accLine, timeLine"
      ],
      "execution_count": null,
      "outputs": []
    },
    {
      "cell_type": "code",
      "metadata": {
        "id": "1JYyfEH4OniS",
        "colab": {
          "base_uri": "https://localhost:8080/"
        },
        "outputId": "24afee38-36b6-4f42-8171-46d55eb2f499"
      },
      "source": [
        "model = model.to(device)\n",
        "model_trained, lossLine, accLine, timeLine = train_model(model, criterion, optimizer, num_epochs=20)"
      ],
      "execution_count": null,
      "outputs": [
        {
          "output_type": "stream",
          "name": "stdout",
          "text": [
            "----------------------------------------\n",
            "Epoch 1/20\n",
            "--------------------\n",
            "Training batch 210/210train loss: 1.3967, acc: 0.4472\n",
            "Duration :217.77934908866882 seconds\n",
            "----------------------------------------\n",
            "Epoch 2/20\n",
            "--------------------\n",
            "Training batch 210/210train loss: 1.0121, acc: 0.6332\n",
            "Duration :219.89999914169312 seconds\n",
            "----------------------------------------\n",
            "Epoch 3/20\n",
            "--------------------\n",
            "Training batch 210/210train loss: 0.6331, acc: 0.7937\n",
            "Duration :219.7683539390564 seconds\n",
            "----------------------------------------\n",
            "Epoch 4/20\n",
            "--------------------\n",
            "Training batch 210/210train loss: 0.3856, acc: 0.8965\n",
            "Duration :217.36736941337585 seconds\n",
            "----------------------------------------\n",
            "Epoch 5/20\n",
            "--------------------\n",
            "Training batch 210/210train loss: 0.2184, acc: 0.9534\n",
            "Duration :216.3793556690216 seconds\n",
            "----------------------------------------\n",
            "Epoch 6/20\n",
            "--------------------\n",
            "Training batch 210/210train loss: 0.1113, acc: 0.9805\n",
            "Duration :217.10634636878967 seconds\n",
            "----------------------------------------\n",
            "Epoch 7/20\n",
            "--------------------\n",
            "Training batch 210/210train loss: 0.0631, acc: 0.9912\n",
            "Duration :217.32000827789307 seconds\n",
            "----------------------------------------\n",
            "Epoch 8/20\n",
            "--------------------\n",
            "Training batch 210/210train loss: 0.0396, acc: 0.9958\n",
            "Duration :217.2419924736023 seconds\n",
            "----------------------------------------\n",
            "Epoch 9/20\n",
            "--------------------\n",
            "Training batch 210/210train loss: 0.0254, acc: 0.9976\n",
            "Duration :217.31323766708374 seconds\n",
            "----------------------------------------\n",
            "Epoch 10/20\n",
            "--------------------\n",
            "Training batch 210/210train loss: 0.0209, acc: 0.9979\n",
            "Duration :217.20208024978638 seconds\n",
            "----------------------------------------\n",
            "Epoch 11/20\n",
            "--------------------\n",
            "Training batch 210/210train loss: 0.0130, acc: 0.9996\n",
            "Duration :216.9361183643341 seconds\n",
            "----------------------------------------\n",
            "Epoch 12/20\n",
            "--------------------\n",
            "Training batch 210/210train loss: 0.0105, acc: 0.9996\n",
            "Duration :217.04926443099976 seconds\n",
            "----------------------------------------\n",
            "Epoch 13/20\n",
            "--------------------\n",
            "Training batch 210/210train loss: 0.0086, acc: 1.0000\n",
            "Duration :217.09586763381958 seconds\n",
            "----------------------------------------\n",
            "Epoch 14/20\n",
            "--------------------\n",
            "Training batch 210/210train loss: 0.0089, acc: 0.9996\n",
            "Duration :217.19459342956543 seconds\n",
            "----------------------------------------\n",
            "Epoch 15/20\n",
            "--------------------\n",
            "Training batch 210/210train loss: 0.0072, acc: 0.9997\n",
            "Duration :217.1996715068817 seconds\n",
            "----------------------------------------\n",
            "Epoch 16/20\n",
            "--------------------\n",
            "Training batch 210/210train loss: 0.0060, acc: 0.9999\n",
            "Duration :217.24652099609375 seconds\n",
            "----------------------------------------\n",
            "Epoch 17/20\n",
            "--------------------\n",
            "Training batch 210/210train loss: 0.0076, acc: 0.9993\n",
            "Duration :217.00587606430054 seconds\n",
            "----------------------------------------\n",
            "Epoch 18/20\n",
            "--------------------\n",
            "Training batch 210/210train loss: 0.0053, acc: 1.0000\n",
            "Duration :216.91844010353088 seconds\n",
            "----------------------------------------\n",
            "Epoch 19/20\n",
            "--------------------\n",
            "Training batch 210/210train loss: 0.0042, acc: 1.0000\n",
            "Duration :217.1021387577057 seconds\n",
            "----------------------------------------\n",
            "Epoch 20/20\n",
            "--------------------\n",
            "Training batch 210/210train loss: 0.0044, acc: 0.9999\n",
            "Duration :217.04781699180603 seconds\n"
          ]
        }
      ]
    },
    {
      "cell_type": "code",
      "metadata": {
        "id": "VZpjKw4TOpsq",
        "colab": {
          "base_uri": "https://localhost:8080/",
          "height": 295
        },
        "outputId": "a1199447-7999-48bf-a06f-eed32d2fd7b2"
      },
      "source": [
        "plt.plot(epochLine, lossLine, label=\"Loss\")\n",
        "plt.plot()\n",
        "\n",
        "plt.xlabel(\"Epochs\")\n",
        "plt.ylabel(\"Loss rate\")\n",
        "plt.title(\"Inception v3 Loss per Epoch\")\n",
        "plt.legend()\n",
        "plt.show()"
      ],
      "execution_count": null,
      "outputs": [
        {
          "output_type": "display_data",
          "data": {
            "image/png": "[encoded data removed]",
            "text/plain": [
              "<Figure size 432x288 with 1 Axes>"
            ]
          },
          "metadata": {
            "needs_background": "light"
          }
        }
      ]
    },
    {
      "cell_type": "code",
      "metadata": {
        "id": "9UyrfI3JSxL6",
        "colab": {
          "base_uri": "https://localhost:8080/"
        },
        "outputId": "1afe5271-dfde-4601-e2b4-e84802f83840"
      },
      "source": [
        "print(lossLine)"
      ],
      "execution_count": null,
      "outputs": [
        {
          "output_type": "stream",
          "name": "stdout",
          "text": [
            "[1.396746168502903, 1.012086679152085, 0.6331111646947964, 0.38556656863019634, 0.21840172946603947, 0.11128126422116066, 0.06308209467820687, 0.0396377887167519, 0.025414854667451883, 0.020913016469851057, 0.013000876281992238, 0.010528172369510072, 0.008602270692752172, 0.008877368890125073, 0.007167236354047851, 0.005975097937081539, 0.007606475172128744, 0.005332022662293535, 0.004188061014091762, 0.004384817557071928]\n"
          ]
        }
      ]
    },
    {
      "cell_type": "code",
      "metadata": {
        "id": "HMNVo97qOrmD",
        "colab": {
          "base_uri": "https://localhost:8080/",
          "height": 295
        },
        "outputId": "2b8b5491-cdcd-486e-f0aa-65256b6c6940"
      },
      "source": [
        "plt.plot(epochLine, accLine, label=\"Accuracy\")\n",
        "plt.plot()\n",
        "\n",
        "plt.xlabel(\"Epochs\")\n",
        "plt.ylabel(\"Accuracy rate\")\n",
        "plt.title(\"Inception v3 Accurate per Epoch\")\n",
        "plt.legend()\n",
        "plt.show()"
      ],
      "execution_count": null,
      "outputs": [
        {
          "output_type": "display_data",
          "data": {
            "image/png": "[encoded data removed]",
            "text/plain": [
              "<Figure size 432x288 with 1 Axes>"
            ]
          },
          "metadata": {
            "needs_background": "light"
          }
        }
      ]
    },
    {
      "cell_type": "code",
      "metadata": {
        "id": "AILA-x_fSz4t",
        "colab": {
          "base_uri": "https://localhost:8080/"
        },
        "outputId": "d836cd06-3c9b-4126-f78a-3f6e77947123"
      },
      "source": [
        "print(accLine)"
      ],
      "execution_count": null,
      "outputs": [
        {
          "output_type": "stream",
          "name": "stdout",
          "text": [
            "[tensor(0.4472, device='cuda:0', dtype=torch.float64), tensor(0.6332, device='cuda:0', dtype=torch.float64), tensor(0.7937, device='cuda:0', dtype=torch.float64), tensor(0.8965, device='cuda:0', dtype=torch.float64), tensor(0.9534, device='cuda:0', dtype=torch.float64), tensor(0.9805, device='cuda:0', dtype=torch.float64), tensor(0.9912, device='cuda:0', dtype=torch.float64), tensor(0.9958, device='cuda:0', dtype=torch.float64), tensor(0.9976, device='cuda:0', dtype=torch.float64), tensor(0.9979, device='cuda:0', dtype=torch.float64), tensor(0.9996, device='cuda:0', dtype=torch.float64), tensor(0.9996, device='cuda:0', dtype=torch.float64), tensor(1., device='cuda:0', dtype=torch.float64), tensor(0.9996, device='cuda:0', dtype=torch.float64), tensor(0.9997, device='cuda:0', dtype=torch.float64), tensor(0.9999, device='cuda:0', dtype=torch.float64), tensor(0.9993, device='cuda:0', dtype=torch.float64), tensor(1., device='cuda:0', dtype=torch.float64), tensor(1., device='cuda:0', dtype=torch.float64), tensor(0.9999, device='cuda:0', dtype=torch.float64)]\n"
          ]
        }
      ]
    },
    {
      "cell_type": "code",
      "metadata": {
        "id": "QCmfnNQJOvAC",
        "colab": {
          "base_uri": "https://localhost:8080/"
        },
        "outputId": "aef2b770-12b3-4e49-c496-4d91bc9df83c"
      },
      "source": [
        "total_time_train = 0\n",
        "for i in timeLine:  total_time_train += i\n",
        "print(total_time_train)"
      ],
      "execution_count": null,
      "outputs": [
        {
          "output_type": "stream",
          "name": "stdout",
          "text": [
            "             0\n",
            "0  4348.174805\n"
          ]
        }
      ]
    },
    {
      "cell_type": "code",
      "metadata": {
        "id": "dSmHI3_mOvj6"
      },
      "source": [
        "def test_model(model, criterion, optimizer):\n",
        "    labels_input=list()\n",
        "    labels_output=list()\n",
        "    vid_id = list()\n",
        "    for phase in ['validation']:\n",
        "        model.eval()\n",
        "\n",
        "        for inputs, labels, fname in dataloaders[phase]:\n",
        "            inputs = inputs.to(device)\n",
        "            labels = labels.to(device)\n",
        "            labels_input= labels_input + labels.tolist()\n",
        "            for f in fname:\n",
        "                vid_id.append(f.split('/')[-1].split('.')[0].split('_')[0])\n",
        "            outputs = model(inputs)\n",
        "            \n",
        "            loss = criterion(outputs, labels)\n",
        "            _, preds = torch.max(outputs, 1)\n",
        "            \n",
        "            labels_output= labels_output + preds.tolist()\n",
        "    return labels_input,labels_output,vid_id\n",
        "            \n",
        "y_true,y_pred,vid_id = test_model(model, criterion, optimizer)"
      ],
      "execution_count": null,
      "outputs": []
    },
    {
      "cell_type": "code",
      "metadata": {
        "id": "Jhhv9ufbOycy",
        "colab": {
          "base_uri": "https://localhost:8080/"
        },
        "outputId": "2d05246b-bdbd-4972-a934-0b8c96e38950"
      },
      "source": [
        "from sklearn.metrics import confusion_matrix,accuracy_score,classification_report\n",
        "print(classification_report(y_true,y_pred))\n",
        "accuracy_score(y_true, y_pred)"
      ],
      "execution_count": null,
      "outputs": [
        {
          "output_type": "stream",
          "name": "stdout",
          "text": [
            "              precision    recall  f1-score   support\n",
            "\n",
            "           0       0.63      0.85      0.73       409\n",
            "           1       0.64      0.90      0.75       367\n",
            "           2       0.99      0.64      0.78       831\n",
            "\n",
            "    accuracy                           0.75      1607\n",
            "   macro avg       0.75      0.80      0.75      1607\n",
            "weighted avg       0.82      0.75      0.76      1607\n",
            "\n"
          ]
        },
        {
          "output_type": "execute_result",
          "data": {
            "text/plain": [
              "0.7542003733665215"
            ]
          },
          "metadata": {},
          "execution_count": 19
        }
      ]
    },
    {
      "cell_type": "code",
      "metadata": {
        "id": "qcL36XkcO17q"
      },
      "source": [
        "df = pd.DataFrame(list(zip(y_true,y_pred,vid_id)),\n",
        "               columns =['y_true','y_pred','vid_id'])\n",
        "df.to_csv('df.csv',encoding='utf-8',index=False)"
      ],
      "execution_count": null,
      "outputs": []
    },
    {
      "cell_type": "code",
      "metadata": {
        "id": "ZgisEmGNO4V2",
        "colab": {
          "base_uri": "https://localhost:8080/"
        },
        "outputId": "b7621edc-bc21-4f06-c40b-dbe17958f6ec"
      },
      "source": [
        "vid_list = list(set(df['vid_id'].values))\n",
        "\n",
        "y_true = []\n",
        "y_pred = []\n",
        "for vid in vid_list:\n",
        "    #print(vid)\n",
        "    tmp_df = df[df['vid_id']==vid]\n",
        "    #print(len(tmp_df))\n",
        "    vid_pred = tmp_df['y_pred'].mode().values[0]\n",
        "    vid_label = tmp_df['y_true'].mode().values[0]\n",
        "    y_true.append(vid_label)\n",
        "    y_pred.append(vid_pred)\n",
        "    #print(vid_label,\"\\n\",vid_pred)\n",
        "    \n",
        "    print('vid: {} label: {} pred: {}'.format(vid,vid_label,vid_pred))"
      ],
      "execution_count": null,
      "outputs": [
        {
          "output_type": "stream",
          "name": "stdout",
          "text": [
            "vid: 190 label: 1 pred: 1\n",
            "vid: 178 label: 0 pred: 0\n",
            "vid: 167 label: 2 pred: 0\n",
            "vid: 192 label: 0 pred: 0\n",
            "vid: 186 label: 1 pred: 1\n",
            "vid: 165 label: 0 pred: 0\n",
            "vid: 189 label: 1 pred: 1\n",
            "vid: 159 label: 1 pred: 1\n",
            "vid: 179 label: 1 pred: 1\n",
            "vid: 157 label: 1 pred: 1\n",
            "vid: 193 label: 2 pred: 0\n",
            "vid: 173 label: 2 pred: 2\n",
            "vid: 184 label: 2 pred: 2\n",
            "vid: 182 label: 2 pred: 2\n",
            "vid: 169 label: 0 pred: 0\n",
            "vid: 177 label: 0 pred: 0\n",
            "vid: 183 label: 0 pred: 0\n",
            "vid: 180 label: 2 pred: 2\n",
            "vid: 187 label: 2 pred: 2\n",
            "vid: 176 label: 0 pred: 0\n",
            "vid: 174 label: 1 pred: 0\n",
            "vid: 181 label: 0 pred: 1\n",
            "vid: 166 label: 1 pred: 1\n",
            "vid: 194 label: 1 pred: 1\n",
            "vid: 188 label: 2 pred: 2\n",
            "vid: 170 label: 2 pred: 2\n",
            "vid: 160 label: 2 pred: 1\n",
            "vid: 163 label: 2 pred: 2\n",
            "vid: 158 label: 0 pred: 0\n",
            "vid: 162 label: 1 pred: 1\n",
            "vid: 175 label: 1 pred: 1\n",
            "vid: 172 label: 2 pred: 2\n",
            "vid: 185 label: 1 pred: 1\n",
            "vid: 195 label: 2 pred: 2\n",
            "vid: 161 label: 1 pred: 1\n",
            "vid: 168 label: 0 pred: 0\n",
            "vid: 171 label: 0 pred: 0\n",
            "vid: 164 label: 2 pred: 2\n",
            "vid: 191 label: 0 pred: 0\n"
          ]
        }
      ]
    },
    {
      "cell_type": "code",
      "metadata": {
        "id": "9McfersxO6BW",
        "colab": {
          "base_uri": "https://localhost:8080/"
        },
        "outputId": "ec4fc6fd-984c-41fc-d515-7e87ffa836de"
      },
      "source": [
        "accuracy_score(y_true,y_pred)"
      ],
      "execution_count": null,
      "outputs": [
        {
          "output_type": "execute_result",
          "data": {
            "text/plain": [
              "0.8717948717948718"
            ]
          },
          "metadata": {},
          "execution_count": 22
        }
      ]
    }
  ]
}