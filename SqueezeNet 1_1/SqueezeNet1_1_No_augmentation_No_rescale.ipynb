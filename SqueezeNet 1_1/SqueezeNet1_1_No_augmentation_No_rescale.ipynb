{
  "nbformat": 4,
  "nbformat_minor": 0,
  "metadata": {
    "colab": {
      "name": "SqueezeNet1_1_No_augmentation_No_rescale.ipynb",
      "provenance": [],
      "collapsed_sections": []
    },
    "kernelspec": {
      "name": "python3",
      "display_name": "Python 3"
    },
    "language_info": {
      "name": "python"
    },
    "accelerator": "GPU"
  },
  "cells": [
    {
      "cell_type": "code",
      "metadata": {
        "id": "HoF3nXamQbUX"
      },
      "source": [
        "from __future__ import print_function, division\n",
        "import os\n",
        "import torch\n",
        "import pandas as pd\n",
        "from skimage import io, transform\n",
        "import numpy as np\n",
        "import matplotlib.pyplot as plt\n",
        "from torch.utils.data import Dataset, DataLoader\n",
        "from torchvision import transforms, utils, datasets\n",
        "import torch.nn as nn\n",
        "from torch.nn import functional as F\n",
        "import torch.optim as optim"
      ],
      "execution_count": 1,
      "outputs": []
    },
    {
      "cell_type": "code",
      "metadata": {
        "id": "GX89-qFnQji-"
      },
      "source": [
        "input_path = \"../content/DATA_CHAMBER_2021/\"\n",
        "device = torch.device('cuda' if torch.cuda.is_available() else 'cpu')"
      ],
      "execution_count": 2,
      "outputs": []
    },
    {
      "cell_type": "code",
      "metadata": {
        "id": "jeOu-ZITQnD-",
        "colab": {
          "base_uri": "https://localhost:8080/"
        },
        "outputId": "44063a27-22cb-4175-8b95-841b56bca305"
      },
      "source": [
        "from google.colab import drive\n",
        "drive.mount('/content/drive')"
      ],
      "execution_count": 3,
      "outputs": [
        {
          "output_type": "stream",
          "name": "stdout",
          "text": [
            "Mounted at /content/drive\n"
          ]
        }
      ]
    },
    {
      "cell_type": "code",
      "metadata": {
        "id": "8lSy7FSCQpbW"
      },
      "source": [
        "!unzip -uq \"/content/drive/My Drive/DATA_CHAMBER_2021.zip\" -d \"./\""
      ],
      "execution_count": 4,
      "outputs": []
    },
    {
      "cell_type": "code",
      "metadata": {
        "id": "PmRg15keQp72"
      },
      "source": [
        "class ImageFolderWithPaths(datasets.ImageFolder):\n",
        "\n",
        "    # called by dataloaders\n",
        "    def __getitem__(self, index):\n",
        "        original_tuple = super(ImageFolderWithPaths, self).__getitem__(index)\n",
        "        # the image file path\n",
        "        path = self.imgs[index][0]\n",
        "        tuple_with_path = (original_tuple + (path,))\n",
        "        return tuple_with_path"
      ],
      "execution_count": 5,
      "outputs": []
    },
    {
      "cell_type": "code",
      "metadata": {
        "id": "TYZvqKb0QsSw"
      },
      "source": [
        "preprocess = {\n",
        "    'train':\n",
        "    transforms.Compose([\n",
        "        transforms.Resize(229),\n",
        "        transforms.CenterCrop(229),\n",
        "        # transforms.RandomHorizontalFlip(),\n",
        "        transforms.ToTensor(),\n",
        "        transforms.Normalize(mean=[0.485, 0.456, 0.406], std=[0.229, 0.224, 0.225]),\n",
        "    ]),\n",
        "    'validation':\n",
        "    transforms.Compose([\n",
        "        transforms.Resize(229),\n",
        "        transforms.CenterCrop(229),\n",
        "        # transforms.RandomHorizontalFlip(),\n",
        "        transforms.ToTensor(),\n",
        "        transforms.Normalize(mean=[0.485, 0.456, 0.406], std=[0.229, 0.224, 0.225]),\n",
        "    ]),\n",
        "}\n",
        "\n",
        "image_datasets = {\n",
        "    'train': \n",
        "    ImageFolderWithPaths(input_path + 'train', preprocess['train']),\n",
        "    'validation': \n",
        "    ImageFolderWithPaths(input_path + 'test', preprocess['validation'])\n",
        "}\n",
        "dataset_sizes = {x: len(image_datasets[x]) for x in ['train','validation']}\n",
        "\n",
        "dataloaders = {\n",
        "    'train':\n",
        "    torch.utils.data.DataLoader(image_datasets['train'],\n",
        "                                batch_size=32,\n",
        "                                shuffle=True,\n",
        "                                num_workers=2, pin_memory=True),\n",
        "    'validation':\n",
        "    torch.utils.data.DataLoader(image_datasets['validation'],\n",
        "                                batch_size=32,\n",
        "                                shuffle=True,\n",
        "                                num_workers=2, pin_memory=True)\n",
        "}"
      ],
      "execution_count": 6,
      "outputs": []
    },
    {
      "cell_type": "code",
      "metadata": {
        "id": "x33qOSpUQzKi",
        "colab": {
          "base_uri": "https://localhost:8080/"
        },
        "outputId": "f0ac1d18-7528-4c43-e815-f0f5db8de07d"
      },
      "source": [
        "model = torch.hub.load('pytorch/vision:v0.10.0', 'squeezenet1_1', pretrained=False)\n",
        "model.classifier[1] = nn.Conv2d(512, 3, kernel_size=(1,1), stride=(1,1))\n",
        "# fine tuning"
      ],
      "execution_count": 7,
      "outputs": [
        {
          "output_type": "stream",
          "name": "stderr",
          "text": [
            "Downloading: \"https://github.com/pytorch/vision/archive/v0.10.0.zip\" to /root/.cache/torch/hub/v0.10.0.zip\n"
          ]
        }
      ]
    },
    {
      "cell_type": "code",
      "metadata": {
        "id": "tK8NYZBzRJ2W"
      },
      "source": [
        "import torchvision\n",
        "from torch.autograd import Variable\n",
        "import time\n",
        "from PIL import Image\n",
        "from torchvision import transforms"
      ],
      "execution_count": 8,
      "outputs": []
    },
    {
      "cell_type": "code",
      "metadata": {
        "id": "TSUHNSu3RN9e"
      },
      "source": [
        "criterion = nn.CrossEntropyLoss()\n",
        "optimizer = optim.SGD(model.parameters(), lr=0.001,momentum=0.9)"
      ],
      "execution_count": 9,
      "outputs": []
    },
    {
      "cell_type": "code",
      "metadata": {
        "id": "PtqkSnJHRQ67"
      },
      "source": [
        "# t0 = time.time()\n",
        "# print('{} seconds'.format(time.time() - t0)\n",
        "epochLine = [1, 2, 3, 4, 5, 6, 7, 8, 9, 10, 11, 12, 13, 14, 15, 16, 17, 18, 19, 20]"
      ],
      "execution_count": 10,
      "outputs": []
    },
    {
      "cell_type": "code",
      "metadata": {
        "id": "O7e-USiPRRom"
      },
      "source": [
        "def train_model(model, criterion, optimizer, num_epochs=1):\n",
        "    train_batches = len(dataloaders['train'])\n",
        "    lossLine = []\n",
        "    accLine = []\n",
        "    timeLine = []\n",
        "    for epoch in range(num_epochs):\n",
        "        print('-' * 40)\n",
        "        print('Epoch {}/{}'.format(epoch+1, num_epochs))\n",
        "        print('-' * 20)\n",
        "        t0 = time.time()\n",
        "\n",
        "        for phase in ['train']:\n",
        "            if phase == 'train':\n",
        "                model.train()\n",
        "            else:\n",
        "                model.eval()\n",
        "\n",
        "            training_loss = 0.0\n",
        "            training_corrects = 0\n",
        "\n",
        "            for i,data in enumerate(dataloaders[phase]):\n",
        "                inputs, labels,_ = data\n",
        "                print(\"\\rTraining batch {}/{}\".format(i+1, train_batches), end='', flush=True)\n",
        "                inputs = inputs.to(device)\n",
        "                labels = labels.to(device)\n",
        "\n",
        "                outputs = model(inputs)\n",
        "                loss = criterion(outputs, labels)\n",
        "                # loss.requires_grad = True\n",
        "\n",
        "                if phase == 'train':\n",
        "                    optimizer.zero_grad()\n",
        "                    loss.backward()\n",
        "                    optimizer.step()\n",
        "\n",
        "                _, preds = torch.max(outputs, 1)\n",
        "                training_loss += loss.item() * inputs.size(0)\n",
        "                training_corrects += torch.sum(preds == labels.data)\n",
        "\n",
        "            epoch_loss = training_loss / len(image_datasets[phase])\n",
        "            lossLine.append(epoch_loss)\n",
        "            epoch_acc = training_corrects.double() / len(image_datasets[phase])\n",
        "            accLine.append(epoch_acc)\n",
        "\n",
        "            print('{} loss: {:.4f}, acc: {:.4f}'.format(phase,\n",
        "                                                        epoch_loss,\n",
        "                                                        epoch_acc))\n",
        "            t1 = time.time()\n",
        "            t = t1 - t0\n",
        "            print('Duration :{} seconds'.format(t))\n",
        "            ts = pd.DataFrame([t]).apply(np.float32)\n",
        "            timeLine.append(ts)\n",
        "    return model, lossLine, accLine, timeLine"
      ],
      "execution_count": 11,
      "outputs": []
    },
    {
      "cell_type": "code",
      "metadata": {
        "id": "S-grm30lRU1O",
        "colab": {
          "base_uri": "https://localhost:8080/"
        },
        "outputId": "10b2ff0a-1e94-4d0f-8569-931503f93886"
      },
      "source": [
        "model = model.to(device)\n",
        "model_trained, lossLine, accLine, timeLine = train_model(model, criterion, optimizer, num_epochs=20)"
      ],
      "execution_count": 12,
      "outputs": [
        {
          "output_type": "stream",
          "name": "stdout",
          "text": [
            "----------------------------------------\n",
            "Epoch 1/20\n",
            "--------------------\n",
            "Training batch 210/210train loss: 1.0978, acc: 0.3563\n",
            "Duration :62.35540747642517 seconds\n",
            "----------------------------------------\n",
            "Epoch 2/20\n",
            "--------------------\n",
            "Training batch 210/210train loss: 1.0930, acc: 0.3655\n",
            "Duration :60.08956527709961 seconds\n",
            "----------------------------------------\n",
            "Epoch 3/20\n",
            "--------------------\n",
            "Training batch 210/210train loss: 1.0765, acc: 0.4018\n",
            "Duration :60.04800891876221 seconds\n",
            "----------------------------------------\n",
            "Epoch 4/20\n",
            "--------------------\n",
            "Training batch 210/210train loss: 1.0160, acc: 0.4730\n",
            "Duration :58.9672908782959 seconds\n",
            "----------------------------------------\n",
            "Epoch 5/20\n",
            "--------------------\n",
            "Training batch 210/210train loss: 0.8347, acc: 0.6245\n",
            "Duration :59.78667068481445 seconds\n",
            "----------------------------------------\n",
            "Epoch 6/20\n",
            "--------------------\n",
            "Training batch 210/210train loss: 0.6959, acc: 0.7022\n",
            "Duration :59.976394176483154 seconds\n",
            "----------------------------------------\n",
            "Epoch 7/20\n",
            "--------------------\n",
            "Training batch 210/210train loss: 0.5150, acc: 0.7925\n",
            "Duration :60.01297307014465 seconds\n",
            "----------------------------------------\n",
            "Epoch 8/20\n",
            "--------------------\n",
            "Training batch 210/210train loss: 0.4212, acc: 0.8368\n",
            "Duration :59.992719411849976 seconds\n",
            "----------------------------------------\n",
            "Epoch 9/20\n",
            "--------------------\n",
            "Training batch 210/210train loss: 0.3016, acc: 0.8849\n",
            "Duration :59.56314778327942 seconds\n",
            "----------------------------------------\n",
            "Epoch 10/20\n",
            "--------------------\n",
            "Training batch 210/210train loss: 0.2140, acc: 0.9198\n",
            "Duration :59.955368995666504 seconds\n",
            "----------------------------------------\n",
            "Epoch 11/20\n",
            "--------------------\n",
            "Training batch 210/210train loss: 0.2332, acc: 0.9123\n",
            "Duration :60.538310050964355 seconds\n",
            "----------------------------------------\n",
            "Epoch 12/20\n",
            "--------------------\n",
            "Training batch 210/210train loss: 0.1304, acc: 0.9507\n",
            "Duration :60.39493918418884 seconds\n",
            "----------------------------------------\n",
            "Epoch 13/20\n",
            "--------------------\n",
            "Training batch 210/210train loss: 0.0947, acc: 0.9646\n",
            "Duration :60.779685735702515 seconds\n",
            "----------------------------------------\n",
            "Epoch 14/20\n",
            "--------------------\n",
            "Training batch 210/210train loss: 0.0359, acc: 0.9888\n",
            "Duration :60.08506417274475 seconds\n",
            "----------------------------------------\n",
            "Epoch 15/20\n",
            "--------------------\n",
            "Training batch 210/210train loss: 0.0531, acc: 0.9796\n",
            "Duration :59.5306613445282 seconds\n",
            "----------------------------------------\n",
            "Epoch 16/20\n",
            "--------------------\n",
            "Training batch 210/210train loss: 0.0618, acc: 0.9780\n",
            "Duration :59.07962989807129 seconds\n",
            "----------------------------------------\n",
            "Epoch 17/20\n",
            "--------------------\n",
            "Training batch 210/210train loss: 0.0322, acc: 0.9888\n",
            "Duration :58.641157150268555 seconds\n",
            "----------------------------------------\n",
            "Epoch 18/20\n",
            "--------------------\n",
            "Training batch 210/210train loss: 0.0114, acc: 0.9975\n",
            "Duration :58.7368049621582 seconds\n",
            "----------------------------------------\n",
            "Epoch 19/20\n",
            "--------------------\n",
            "Training batch 210/210train loss: 0.0093, acc: 0.9970\n",
            "Duration :57.94653820991516 seconds\n",
            "----------------------------------------\n",
            "Epoch 20/20\n",
            "--------------------\n",
            "Training batch 210/210train loss: 0.0030, acc: 0.9994\n",
            "Duration :58.52061605453491 seconds\n"
          ]
        }
      ]
    },
    {
      "cell_type": "code",
      "metadata": {
        "id": "DyQilElRRXLu",
        "colab": {
          "base_uri": "https://localhost:8080/",
          "height": 295
        },
        "outputId": "184b93fa-2ba9-43b1-d750-7ae52ee334d8"
      },
      "source": [
        "plt.plot(epochLine, lossLine, label=\"Loss\")\n",
        "plt.plot()\n",
        "\n",
        "plt.xlabel(\"Epochs\")\n",
        "plt.ylabel(\"Loss rate\")\n",
        "plt.title(\"Squeeze Net 1_1 Loss per Epoch\")\n",
        "plt.legend()\n",
        "plt.show()"
      ],
      "execution_count": 13,
      "outputs": [
        {
          "output_type": "display_data",
          "data": {
            "image/png": "[encoded data removed]",
            "text/plain": [
              "<Figure size 432x288 with 1 Axes>"
            ]
          },
          "metadata": {
            "needs_background": "light"
          }
        }
      ]
    },
    {
      "cell_type": "code",
      "metadata": {
        "id": "5ulx6VhtSK2O",
        "colab": {
          "base_uri": "https://localhost:8080/"
        },
        "outputId": "68978443-8964-4476-eb72-d569db892784"
      },
      "source": [
        "print(lossLine)"
      ],
      "execution_count": 14,
      "outputs": [
        {
          "output_type": "stream",
          "name": "stdout",
          "text": [
            "[1.0977571119026217, 1.0930049645327484, 1.0765468512721514, 1.016026627392717, 0.8347416537866114, 0.6958848567560562, 0.5149765838127823, 0.4211597408640681, 0.301643376444819, 0.2139644465788154, 0.23319310028185283, 0.13038307537839264, 0.09473255353714803, 0.035888704297837, 0.053109308766988404, 0.06179919992337159, 0.0321860358929204, 0.011380249772863362, 0.009254703111031482, 0.00299107660807999]\n"
          ]
        }
      ]
    },
    {
      "cell_type": "code",
      "metadata": {
        "id": "g0B4g9hPRag-",
        "colab": {
          "base_uri": "https://localhost:8080/",
          "height": 295
        },
        "outputId": "91fac6c2-05b1-44c8-e9c8-86a1d680b1c1"
      },
      "source": [
        "plt.plot(epochLine, accLine, label=\"Accuracy\")\n",
        "plt.plot()\n",
        "\n",
        "plt.xlabel(\"Epochs\")\n",
        "plt.ylabel(\"Accuracy rate\")\n",
        "plt.title(\"Squeeze Net 1_1 Accurate per Epoch\")\n",
        "plt.legend()\n",
        "plt.show()"
      ],
      "execution_count": 15,
      "outputs": [
        {
          "output_type": "display_data",
          "data": {
            "image/png": "[encoded data removed]",
            "text/plain": [
              "<Figure size 432x288 with 1 Axes>"
            ]
          },
          "metadata": {
            "needs_background": "light"
          }
        }
      ]
    },
    {
      "cell_type": "code",
      "metadata": {
        "id": "-Uwu4BhjSRdc",
        "colab": {
          "base_uri": "https://localhost:8080/"
        },
        "outputId": "abfb8d78-fef6-4e16-9b7b-166ff0348f06"
      },
      "source": [
        "print(accLine)"
      ],
      "execution_count": 16,
      "outputs": [
        {
          "output_type": "stream",
          "name": "stdout",
          "text": [
            "[tensor(0.3563, device='cuda:0', dtype=torch.float64), tensor(0.3655, device='cuda:0', dtype=torch.float64), tensor(0.4018, device='cuda:0', dtype=torch.float64), tensor(0.4730, device='cuda:0', dtype=torch.float64), tensor(0.6245, device='cuda:0', dtype=torch.float64), tensor(0.7022, device='cuda:0', dtype=torch.float64), tensor(0.7925, device='cuda:0', dtype=torch.float64), tensor(0.8368, device='cuda:0', dtype=torch.float64), tensor(0.8849, device='cuda:0', dtype=torch.float64), tensor(0.9198, device='cuda:0', dtype=torch.float64), tensor(0.9123, device='cuda:0', dtype=torch.float64), tensor(0.9507, device='cuda:0', dtype=torch.float64), tensor(0.9646, device='cuda:0', dtype=torch.float64), tensor(0.9888, device='cuda:0', dtype=torch.float64), tensor(0.9796, device='cuda:0', dtype=torch.float64), tensor(0.9780, device='cuda:0', dtype=torch.float64), tensor(0.9888, device='cuda:0', dtype=torch.float64), tensor(0.9975, device='cuda:0', dtype=torch.float64), tensor(0.9970, device='cuda:0', dtype=torch.float64), tensor(0.9994, device='cuda:0', dtype=torch.float64)]\n"
          ]
        }
      ]
    },
    {
      "cell_type": "code",
      "metadata": {
        "id": "aUzxS8zmRcga",
        "colab": {
          "base_uri": "https://localhost:8080/"
        },
        "outputId": "e3ce545d-1a18-442e-d690-d6b955f91158"
      },
      "source": [
        "total_time_train = 0\n",
        "for i in timeLine:  total_time_train += i\n",
        "print(total_time_train)"
      ],
      "execution_count": 17,
      "outputs": [
        {
          "output_type": "stream",
          "name": "stdout",
          "text": [
            "             0\n",
            "0  1195.000977\n"
          ]
        }
      ]
    },
    {
      "cell_type": "code",
      "metadata": {
        "id": "w9Cg7ixxRexk"
      },
      "source": [
        "def test_model(model, criterion, optimizer):\n",
        "    labels_input=list()\n",
        "    labels_output=list()\n",
        "    vid_id = list()\n",
        "    for phase in ['validation']:\n",
        "        model.eval()\n",
        "\n",
        "        for inputs, labels, fname in dataloaders[phase]:\n",
        "            inputs = inputs.to(device)\n",
        "            labels = labels.to(device)\n",
        "            labels_input= labels_input + labels.tolist()\n",
        "            for f in fname:\n",
        "                vid_id.append(f.split('/')[-1].split('.')[0].split('_')[0])\n",
        "            outputs = model(inputs)\n",
        "            \n",
        "            loss = criterion(outputs, labels)\n",
        "            _, preds = torch.max(outputs, 1)\n",
        "            \n",
        "            labels_output= labels_output + preds.tolist()\n",
        "    return labels_input,labels_output,vid_id\n",
        "            \n",
        "y_true,y_pred,vid_id = test_model(model, criterion, optimizer)"
      ],
      "execution_count": 18,
      "outputs": []
    },
    {
      "cell_type": "code",
      "metadata": {
        "id": "6DJZ-0IFRgbe",
        "colab": {
          "base_uri": "https://localhost:8080/"
        },
        "outputId": "53ca5852-89fd-4355-d92f-2c26a60637e4"
      },
      "source": [
        "from sklearn.metrics import confusion_matrix,accuracy_score,classification_report\n",
        "print(classification_report(y_true,y_pred))\n",
        "accuracy_score(y_true, y_pred)"
      ],
      "execution_count": 19,
      "outputs": [
        {
          "output_type": "stream",
          "name": "stdout",
          "text": [
            "              precision    recall  f1-score   support\n",
            "\n",
            "           0       0.75      0.80      0.77       409\n",
            "           1       0.63      0.88      0.73       367\n",
            "           2       1.00      0.79      0.88       831\n",
            "\n",
            "    accuracy                           0.81      1607\n",
            "   macro avg       0.79      0.82      0.80      1607\n",
            "weighted avg       0.85      0.81      0.82      1607\n",
            "\n"
          ]
        },
        {
          "output_type": "execute_result",
          "data": {
            "text/plain": [
              "0.8139390168014935"
            ]
          },
          "metadata": {},
          "execution_count": 19
        }
      ]
    },
    {
      "cell_type": "code",
      "metadata": {
        "id": "Il74LxrXRh-J"
      },
      "source": [
        "df = pd.DataFrame(list(zip(y_true,y_pred,vid_id)),\n",
        "               columns =['y_true','y_pred','vid_id'])\n",
        "df.to_csv('df.csv',encoding='utf-8',index=False)"
      ],
      "execution_count": 20,
      "outputs": []
    },
    {
      "cell_type": "code",
      "metadata": {
        "id": "Xosd3q8ARkGR",
        "colab": {
          "base_uri": "https://localhost:8080/"
        },
        "outputId": "42d04eb8-be40-4a5c-e59c-18c1b9858609"
      },
      "source": [
        "vid_list = list(set(df['vid_id'].values))\n",
        "\n",
        "y_true = []\n",
        "y_pred = []\n",
        "for vid in vid_list:\n",
        "    #print(vid)\n",
        "    tmp_df = df[df['vid_id']==vid]\n",
        "    #print(len(tmp_df))\n",
        "    vid_pred = tmp_df['y_pred'].mode().values[0]\n",
        "    vid_label = tmp_df['y_true'].mode().values[0]\n",
        "    y_true.append(vid_label)\n",
        "    y_pred.append(vid_pred)\n",
        "    #print(vid_label,\"\\n\",vid_pred)\n",
        "    \n",
        "    print('vid: {} label: {} pred: {}'.format(vid,vid_label,vid_pred))"
      ],
      "execution_count": 21,
      "outputs": [
        {
          "output_type": "stream",
          "name": "stdout",
          "text": [
            "vid: 193 label: 2 pred: 2\n",
            "vid: 167 label: 2 pred: 2\n",
            "vid: 161 label: 1 pred: 1\n",
            "vid: 175 label: 1 pred: 1\n",
            "vid: 174 label: 1 pred: 0\n",
            "vid: 171 label: 0 pred: 0\n",
            "vid: 179 label: 1 pred: 0\n",
            "vid: 172 label: 2 pred: 2\n",
            "vid: 187 label: 2 pred: 2\n",
            "vid: 188 label: 2 pred: 0\n",
            "vid: 182 label: 2 pred: 2\n",
            "vid: 186 label: 1 pred: 1\n",
            "vid: 164 label: 2 pred: 2\n",
            "vid: 163 label: 2 pred: 2\n",
            "vid: 173 label: 2 pred: 2\n",
            "vid: 169 label: 0 pred: 0\n",
            "vid: 159 label: 1 pred: 1\n",
            "vid: 183 label: 0 pred: 1\n",
            "vid: 184 label: 2 pred: 2\n",
            "vid: 189 label: 1 pred: 1\n",
            "vid: 185 label: 1 pred: 0\n",
            "vid: 178 label: 0 pred: 0\n",
            "vid: 157 label: 1 pred: 1\n",
            "vid: 194 label: 1 pred: 1\n",
            "vid: 176 label: 0 pred: 0\n",
            "vid: 160 label: 2 pred: 1\n",
            "vid: 191 label: 0 pred: 0\n",
            "vid: 158 label: 0 pred: 0\n",
            "vid: 180 label: 2 pred: 2\n",
            "vid: 177 label: 0 pred: 0\n",
            "vid: 166 label: 1 pred: 1\n",
            "vid: 181 label: 0 pred: 1\n",
            "vid: 192 label: 0 pred: 0\n",
            "vid: 162 label: 1 pred: 1\n",
            "vid: 168 label: 0 pred: 0\n",
            "vid: 195 label: 2 pred: 2\n",
            "vid: 170 label: 2 pred: 2\n",
            "vid: 165 label: 0 pred: 0\n",
            "vid: 190 label: 1 pred: 1\n"
          ]
        }
      ]
    },
    {
      "cell_type": "code",
      "metadata": {
        "id": "UdXmYWuYRl15",
        "colab": {
          "base_uri": "https://localhost:8080/"
        },
        "outputId": "8304d494-9726-4a92-e4d1-c17ebe1f031f"
      },
      "source": [
        "accuracy_score(y_true,y_pred)"
      ],
      "execution_count": 24,
      "outputs": [
        {
          "output_type": "execute_result",
          "data": {
            "text/plain": [
              "0.8205128205128205"
            ]
          },
          "metadata": {},
          "execution_count": 24
        }
      ]
    }
  ]
}