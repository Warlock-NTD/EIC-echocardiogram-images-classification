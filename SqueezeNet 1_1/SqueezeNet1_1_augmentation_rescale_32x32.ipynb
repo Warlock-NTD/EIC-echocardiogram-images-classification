{
  "nbformat": 4,
  "nbformat_minor": 0,
  "metadata": {
    "colab": {
      "name": "SqueezeNet1_1_augmentation_rescale_32x32.ipynb",
      "provenance": [],
      "collapsed_sections": []
    },
    "kernelspec": {
      "name": "python3",
      "display_name": "Python 3"
    },
    "language_info": {
      "name": "python"
    },
    "accelerator": "GPU"
  },
  "cells": [
    {
      "cell_type": "code",
      "metadata": {
        "id": "HoF3nXamQbUX"
      },
      "source": [
        "from __future__ import print_function, division\n",
        "import os\n",
        "import torch\n",
        "import pandas as pd\n",
        "from skimage import io, transform\n",
        "import numpy as np\n",
        "import matplotlib.pyplot as plt\n",
        "from torch.utils.data import Dataset, DataLoader\n",
        "from torchvision import transforms, utils, datasets\n",
        "import torch.nn as nn\n",
        "from torch.nn import functional as F\n",
        "import torch.optim as optim"
      ],
      "execution_count": null,
      "outputs": []
    },
    {
      "cell_type": "code",
      "metadata": {
        "id": "GX89-qFnQji-"
      },
      "source": [
        "input_path = \"../content/DATA_CHAMBER_2021/\"\n",
        "device = torch.device('cuda' if torch.cuda.is_available() else 'cpu')"
      ],
      "execution_count": null,
      "outputs": []
    },
    {
      "cell_type": "code",
      "metadata": {
        "id": "jeOu-ZITQnD-",
        "colab": {
          "base_uri": "https://localhost:8080/"
        },
        "outputId": "be9281cb-d791-421d-b70f-ee92b76bfb63"
      },
      "source": [
        "from google.colab import drive\n",
        "drive.mount('/content/drive')"
      ],
      "execution_count": null,
      "outputs": [
        {
          "output_type": "stream",
          "name": "stdout",
          "text": [
            "Drive already mounted at /content/drive; to attempt to forcibly remount, call drive.mount(\"/content/drive\", force_remount=True).\n"
          ]
        }
      ]
    },
    {
      "cell_type": "code",
      "metadata": {
        "id": "8lSy7FSCQpbW"
      },
      "source": [
        "!unzip -uq \"/content/drive/My Drive/DATA_CHAMBER_2021.zip\" -d \"./\""
      ],
      "execution_count": null,
      "outputs": []
    },
    {
      "cell_type": "code",
      "metadata": {
        "id": "PmRg15keQp72"
      },
      "source": [
        "class ImageFolderWithPaths(datasets.ImageFolder):\n",
        "\n",
        "    # called by dataloaders\n",
        "    def __getitem__(self, index):\n",
        "        original_tuple = super(ImageFolderWithPaths, self).__getitem__(index)\n",
        "        # the image file path\n",
        "        path = self.imgs[index][0]\n",
        "        tuple_with_path = (original_tuple + (path,))\n",
        "        return tuple_with_path"
      ],
      "execution_count": null,
      "outputs": []
    },
    {
      "cell_type": "code",
      "metadata": {
        "id": "TYZvqKb0QsSw"
      },
      "source": [
        "preprocess = {\n",
        "    'train':\n",
        "    transforms.Compose([\n",
        "        transforms.Resize(32),\n",
        "        transforms.CenterCrop(229),\n",
        "        # transforms.RandomHorizontalFlip(),\n",
        "        transforms.ToTensor(),\n",
        "        transforms.Normalize(mean=[0.485, 0.456, 0.406], std=[0.229, 0.224, 0.225]),\n",
        "    ]),\n",
        "    'validation':\n",
        "    transforms.Compose([\n",
        "        transforms.Resize(32),\n",
        "        transforms.CenterCrop(229),\n",
        "        transforms.RandomHorizontalFlip(),\n",
        "        transforms.ToTensor(),\n",
        "        transforms.Normalize(mean=[0.485, 0.456, 0.406], std=[0.229, 0.224, 0.225]),\n",
        "    ]),\n",
        "}\n",
        "\n",
        "image_datasets = {\n",
        "    'train': \n",
        "    ImageFolderWithPaths(input_path + 'train', preprocess['train']),\n",
        "    'validation': \n",
        "    ImageFolderWithPaths(input_path + 'test', preprocess['validation'])\n",
        "}\n",
        "dataset_sizes = {x: len(image_datasets[x]) for x in ['train','validation']}\n",
        "\n",
        "dataloaders = {\n",
        "    'train':\n",
        "    torch.utils.data.DataLoader(image_datasets['train'],\n",
        "                                batch_size=32,\n",
        "                                shuffle=True,\n",
        "                                num_workers=2, pin_memory=True),\n",
        "    'validation':\n",
        "    torch.utils.data.DataLoader(image_datasets['validation'],\n",
        "                                batch_size=32,\n",
        "                                shuffle=True,\n",
        "                                num_workers=2, pin_memory=True)\n",
        "}"
      ],
      "execution_count": null,
      "outputs": []
    },
    {
      "cell_type": "code",
      "metadata": {
        "id": "x33qOSpUQzKi",
        "colab": {
          "base_uri": "https://localhost:8080/"
        },
        "outputId": "34af6bb4-0279-42bd-d0d6-a46401ec5d7a"
      },
      "source": [
        "model = torch.hub.load('pytorch/vision:v0.10.0', 'squeezenet1_1', pretrained=False)\n",
        "model.classifier[1] = nn.Conv2d(512, 3, kernel_size=(1,1), stride=(1,1))\n",
        "# fine tuning"
      ],
      "execution_count": null,
      "outputs": [
        {
          "output_type": "stream",
          "name": "stderr",
          "text": [
            "Using cache found in /root/.cache/torch/hub/pytorch_vision_v0.10.0\n"
          ]
        }
      ]
    },
    {
      "cell_type": "code",
      "metadata": {
        "id": "tK8NYZBzRJ2W"
      },
      "source": [
        "import torchvision\n",
        "from torch.autograd import Variable\n",
        "import time\n",
        "from PIL import Image\n",
        "from torchvision import transforms"
      ],
      "execution_count": null,
      "outputs": []
    },
    {
      "cell_type": "code",
      "metadata": {
        "id": "TSUHNSu3RN9e"
      },
      "source": [
        "criterion = nn.CrossEntropyLoss()\n",
        "optimizer = optim.SGD(model.parameters(), lr=0.001,momentum=0.9)"
      ],
      "execution_count": null,
      "outputs": []
    },
    {
      "cell_type": "code",
      "metadata": {
        "id": "PtqkSnJHRQ67"
      },
      "source": [
        "# t0 = time.time()\n",
        "# print('{} seconds'.format(time.time() - t0)\n",
        "epochLine = [1, 2, 3, 4, 5, 6, 7, 8, 9, 10, 11, 12, 13, 14, 15, 16, 17, 18, 19, 20]"
      ],
      "execution_count": null,
      "outputs": []
    },
    {
      "cell_type": "code",
      "metadata": {
        "id": "O7e-USiPRRom"
      },
      "source": [
        "def train_model(model, criterion, optimizer, num_epochs=1):\n",
        "    train_batches = len(dataloaders['train'])\n",
        "    lossLine = []\n",
        "    accLine = []\n",
        "    timeLine = []\n",
        "    for epoch in range(num_epochs):\n",
        "        print('-' * 40)\n",
        "        print('Epoch {}/{}'.format(epoch+1, num_epochs))\n",
        "        print('-' * 20)\n",
        "        t0 = time.time()\n",
        "\n",
        "        for phase in ['train']:\n",
        "            if phase == 'train':\n",
        "                model.train()\n",
        "            else:\n",
        "                model.eval()\n",
        "\n",
        "            training_loss = 0.0\n",
        "            training_corrects = 0\n",
        "\n",
        "            for i,data in enumerate(dataloaders[phase]):\n",
        "                inputs, labels,_ = data\n",
        "                print(\"\\rTraining batch {}/{}\".format(i+1, train_batches), end='', flush=True)\n",
        "                inputs = inputs.to(device)\n",
        "                labels = labels.to(device)\n",
        "\n",
        "                outputs = model(inputs)\n",
        "                loss = criterion(outputs, labels)\n",
        "                # loss.requires_grad = True\n",
        "\n",
        "                if phase == 'train':\n",
        "                    optimizer.zero_grad()\n",
        "                    loss.backward()\n",
        "                    optimizer.step()\n",
        "\n",
        "                _, preds = torch.max(outputs, 1)\n",
        "                training_loss += loss.item() * inputs.size(0)\n",
        "                training_corrects += torch.sum(preds == labels.data)\n",
        "\n",
        "            epoch_loss = training_loss / len(image_datasets[phase])\n",
        "            lossLine.append(epoch_loss)\n",
        "            epoch_acc = training_corrects.double() / len(image_datasets[phase])\n",
        "            accLine.append(epoch_acc)\n",
        "\n",
        "            print('{} loss: {:.4f}, acc: {:.4f}'.format(phase,\n",
        "                                                        epoch_loss,\n",
        "                                                        epoch_acc))\n",
        "            t1 = time.time()\n",
        "            t = t1 - t0\n",
        "            print('Duration :{} seconds'.format(t))\n",
        "            ts = pd.DataFrame([t]).apply(np.float32)\n",
        "            timeLine.append(ts)\n",
        "    return model, lossLine, accLine, timeLine"
      ],
      "execution_count": null,
      "outputs": []
    },
    {
      "cell_type": "code",
      "metadata": {
        "id": "S-grm30lRU1O",
        "colab": {
          "base_uri": "https://localhost:8080/"
        },
        "outputId": "cf8ca735-7f7f-4490-e127-6b1735a573bd"
      },
      "source": [
        "model = model.to(device)\n",
        "model_trained, lossLine, accLine, timeLine = train_model(model, criterion, optimizer, num_epochs=20)"
      ],
      "execution_count": null,
      "outputs": [
        {
          "output_type": "stream",
          "name": "stdout",
          "text": [
            "----------------------------------------\n",
            "Epoch 1/20\n",
            "--------------------\n",
            "Training batch 210/210train loss: 1.0972, acc: 0.3561\n",
            "Duration :52.84388709068298 seconds\n",
            "----------------------------------------\n",
            "Epoch 2/20\n",
            "--------------------\n",
            "Training batch 210/210train loss: 1.0959, acc: 0.3612\n",
            "Duration :54.381014347076416 seconds\n",
            "----------------------------------------\n",
            "Epoch 3/20\n",
            "--------------------\n",
            "Training batch 210/210train loss: 1.0967, acc: 0.3502\n",
            "Duration :54.919541120529175 seconds\n",
            "----------------------------------------\n",
            "Epoch 4/20\n",
            "--------------------\n",
            "Training batch 210/210train loss: 1.0962, acc: 0.3589\n",
            "Duration :53.6529381275177 seconds\n",
            "----------------------------------------\n",
            "Epoch 5/20\n",
            "--------------------\n",
            "Training batch 210/210train loss: 1.0956, acc: 0.3589\n",
            "Duration :53.858612298965454 seconds\n",
            "----------------------------------------\n",
            "Epoch 6/20\n",
            "--------------------\n",
            "Training batch 210/210train loss: 1.0951, acc: 0.3706\n",
            "Duration :53.4408061504364 seconds\n",
            "----------------------------------------\n",
            "Epoch 7/20\n",
            "--------------------\n",
            "Training batch 210/210train loss: 1.0931, acc: 0.3865\n",
            "Duration :53.42953681945801 seconds\n",
            "----------------------------------------\n",
            "Epoch 8/20\n",
            "--------------------\n",
            "Training batch 210/210train loss: 1.0880, acc: 0.4096\n",
            "Duration :54.9158136844635 seconds\n",
            "----------------------------------------\n",
            "Epoch 9/20\n",
            "--------------------\n",
            "Training batch 210/210train loss: 1.0673, acc: 0.4218\n",
            "Duration :53.979795932769775 seconds\n",
            "----------------------------------------\n",
            "Epoch 10/20\n",
            "--------------------\n",
            "Training batch 210/210train loss: 1.0456, acc: 0.4186\n",
            "Duration :53.39121651649475 seconds\n",
            "----------------------------------------\n",
            "Epoch 11/20\n",
            "--------------------\n",
            "Training batch 210/210train loss: 1.0984, acc: 0.3537\n",
            "Duration :53.63909125328064 seconds\n",
            "----------------------------------------\n",
            "Epoch 12/20\n",
            "--------------------\n",
            "Training batch 210/210train loss: 1.0982, acc: 0.3539\n",
            "Duration :54.7885856628418 seconds\n",
            "----------------------------------------\n",
            "Epoch 13/20\n",
            "--------------------\n",
            "Training batch 210/210train loss: 1.0983, acc: 0.3549\n",
            "Duration :54.421865463256836 seconds\n",
            "----------------------------------------\n",
            "Epoch 14/20\n",
            "--------------------\n",
            "Training batch 210/210train loss: 1.0978, acc: 0.3539\n",
            "Duration :55.713417291641235 seconds\n",
            "----------------------------------------\n",
            "Epoch 15/20\n",
            "--------------------\n",
            "Training batch 210/210train loss: 1.0976, acc: 0.3539\n",
            "Duration :55.53013777732849 seconds\n",
            "----------------------------------------\n",
            "Epoch 16/20\n",
            "--------------------\n",
            "Training batch 210/210train loss: 1.0973, acc: 0.3539\n",
            "Duration :55.452744245529175 seconds\n",
            "----------------------------------------\n",
            "Epoch 17/20\n",
            "--------------------\n",
            "Training batch 210/210train loss: 1.0971, acc: 0.3539\n",
            "Duration :55.50034141540527 seconds\n",
            "----------------------------------------\n",
            "Epoch 18/20\n",
            "--------------------\n",
            "Training batch 210/210train loss: 1.0955, acc: 0.3505\n",
            "Duration :54.343360900878906 seconds\n",
            "----------------------------------------\n",
            "Epoch 19/20\n",
            "--------------------\n",
            "Training batch 210/210train loss: 1.0901, acc: 0.3601\n",
            "Duration :53.42949843406677 seconds\n",
            "----------------------------------------\n",
            "Epoch 20/20\n",
            "--------------------\n",
            "Training batch 210/210train loss: 1.0775, acc: 0.4118\n",
            "Duration :54.24281406402588 seconds\n"
          ]
        }
      ]
    },
    {
      "cell_type": "code",
      "metadata": {
        "id": "DyQilElRRXLu",
        "colab": {
          "base_uri": "https://localhost:8080/",
          "height": 295
        },
        "outputId": "2e94e584-e9b9-4042-c732-8bb91e297f9c"
      },
      "source": [
        "plt.plot(epochLine, lossLine, label=\"Loss\")\n",
        "plt.plot()\n",
        "\n",
        "plt.xlabel(\"Epochs\")\n",
        "plt.ylabel(\"Loss rate\")\n",
        "plt.title(\"Squeeze Net 1_1 Loss per Epoch\")\n",
        "plt.legend()\n",
        "plt.show()"
      ],
      "execution_count": null,
      "outputs": [
        {
          "output_type": "display_data",
          "data": {
            "image/png": "[encoded data removed]",
            "text/plain": [
              "<Figure size 432x288 with 1 Axes>"
            ]
          },
          "metadata": {
            "needs_background": "light"
          }
        }
      ]
    },
    {
      "cell_type": "code",
      "metadata": {
        "id": "5ulx6VhtSK2O",
        "colab": {
          "base_uri": "https://localhost:8080/"
        },
        "outputId": "64f6ef8b-e095-43a9-a533-3ae8e3cca53c"
      },
      "source": [
        "print(lossLine)"
      ],
      "execution_count": null,
      "outputs": [
        {
          "output_type": "stream",
          "name": "stdout",
          "text": [
            "[1.0972339128017496, 1.095928733043946, 1.0967219432088544, 1.0961872035768108, 1.095579433196248, 1.0951063705906905, 1.0931369117173444, 1.0880425909329725, 1.0673385267902276, 1.0455576125329957, 1.0983685776469287, 1.098186266693807, 1.0983411658816489, 1.097802846297207, 1.097638376876856, 1.0973200253011997, 1.0971452386957452, 1.0954939255459564, 1.0900813123202668, 1.0774916888738613]\n"
          ]
        }
      ]
    },
    {
      "cell_type": "code",
      "metadata": {
        "id": "g0B4g9hPRag-",
        "colab": {
          "base_uri": "https://localhost:8080/",
          "height": 295
        },
        "outputId": "18b2cee7-08ee-4b29-a27c-640ec4c13104"
      },
      "source": [
        "plt.plot(epochLine, accLine, label=\"Accuracy\")\n",
        "plt.plot()\n",
        "\n",
        "plt.xlabel(\"Epochs\")\n",
        "plt.ylabel(\"Accuracy rate\")\n",
        "plt.title(\"Squeeze Net 1_1 Accurate per Epoch\")\n",
        "plt.legend()\n",
        "plt.show()"
      ],
      "execution_count": null,
      "outputs": [
        {
          "output_type": "display_data",
          "data": {
            "image/png": "[encoded data removed]",
            "text/plain": [
              "<Figure size 432x288 with 1 Axes>"
            ]
          },
          "metadata": {
            "needs_background": "light"
          }
        }
      ]
    },
    {
      "cell_type": "code",
      "metadata": {
        "id": "-Uwu4BhjSRdc",
        "colab": {
          "base_uri": "https://localhost:8080/"
        },
        "outputId": "1ada5ffa-15c6-4ad1-c2d0-b1172327879c"
      },
      "source": [
        "print(accLine)"
      ],
      "execution_count": null,
      "outputs": [
        {
          "output_type": "stream",
          "name": "stdout",
          "text": [
            "[tensor(0.3561, device='cuda:0', dtype=torch.float64), tensor(0.3612, device='cuda:0', dtype=torch.float64), tensor(0.3502, device='cuda:0', dtype=torch.float64), tensor(0.3589, device='cuda:0', dtype=torch.float64), tensor(0.3589, device='cuda:0', dtype=torch.float64), tensor(0.3706, device='cuda:0', dtype=torch.float64), tensor(0.3865, device='cuda:0', dtype=torch.float64), tensor(0.4096, device='cuda:0', dtype=torch.float64), tensor(0.4218, device='cuda:0', dtype=torch.float64), tensor(0.4186, device='cuda:0', dtype=torch.float64), tensor(0.3537, device='cuda:0', dtype=torch.float64), tensor(0.3539, device='cuda:0', dtype=torch.float64), tensor(0.3549, device='cuda:0', dtype=torch.float64), tensor(0.3539, device='cuda:0', dtype=torch.float64), tensor(0.3539, device='cuda:0', dtype=torch.float64), tensor(0.3539, device='cuda:0', dtype=torch.float64), tensor(0.3539, device='cuda:0', dtype=torch.float64), tensor(0.3505, device='cuda:0', dtype=torch.float64), tensor(0.3601, device='cuda:0', dtype=torch.float64), tensor(0.4118, device='cuda:0', dtype=torch.float64)]\n"
          ]
        }
      ]
    },
    {
      "cell_type": "code",
      "metadata": {
        "id": "aUzxS8zmRcga",
        "colab": {
          "base_uri": "https://localhost:8080/"
        },
        "outputId": "e2262d30-91a5-42b3-8fef-0daeb8287d9c"
      },
      "source": [
        "total_time_train = 0\n",
        "for i in timeLine:  total_time_train += i\n",
        "print(total_time_train)"
      ],
      "execution_count": null,
      "outputs": [
        {
          "output_type": "stream",
          "name": "stdout",
          "text": [
            "             0\n",
            "0  1085.875122\n"
          ]
        }
      ]
    },
    {
      "cell_type": "code",
      "metadata": {
        "id": "w9Cg7ixxRexk"
      },
      "source": [
        "def test_model(model, criterion, optimizer):\n",
        "    labels_input=list()\n",
        "    labels_output=list()\n",
        "    vid_id = list()\n",
        "    for phase in ['validation']:\n",
        "        model.eval()\n",
        "\n",
        "        for inputs, labels, fname in dataloaders[phase]:\n",
        "            inputs = inputs.to(device)\n",
        "            labels = labels.to(device)\n",
        "            labels_input= labels_input + labels.tolist()\n",
        "            for f in fname:\n",
        "                vid_id.append(f.split('/')[-1].split('.')[0].split('_')[0])\n",
        "            outputs = model(inputs)\n",
        "            \n",
        "            loss = criterion(outputs, labels)\n",
        "            _, preds = torch.max(outputs, 1)\n",
        "            \n",
        "            labels_output= labels_output + preds.tolist()\n",
        "    return labels_input,labels_output,vid_id\n",
        "            \n",
        "y_true,y_pred,vid_id = test_model(model, criterion, optimizer)"
      ],
      "execution_count": null,
      "outputs": []
    },
    {
      "cell_type": "code",
      "metadata": {
        "id": "6DJZ-0IFRgbe",
        "colab": {
          "base_uri": "https://localhost:8080/"
        },
        "outputId": "7e221f28-4baa-4f03-c9ad-1a1ea28139c1"
      },
      "source": [
        "from sklearn.metrics import confusion_matrix,accuracy_score,classification_report\n",
        "print(classification_report(y_true,y_pred))\n",
        "accuracy_score(y_true, y_pred)"
      ],
      "execution_count": null,
      "outputs": [
        {
          "output_type": "stream",
          "name": "stdout",
          "text": [
            "              precision    recall  f1-score   support\n",
            "\n",
            "           0       0.37      0.67      0.48       409\n",
            "           1       0.34      0.79      0.47       367\n",
            "           2       0.00      0.00      0.00       831\n",
            "\n",
            "    accuracy                           0.35      1607\n",
            "   macro avg       0.24      0.49      0.32      1607\n",
            "weighted avg       0.17      0.35      0.23      1607\n",
            "\n"
          ]
        },
        {
          "output_type": "stream",
          "name": "stderr",
          "text": [
            "/usr/local/lib/python3.7/dist-packages/sklearn/metrics/_classification.py:1308: UndefinedMetricWarning: Precision and F-score are ill-defined and being set to 0.0 in labels with no predicted samples. Use `zero_division` parameter to control this behavior.\n",
            "  _warn_prf(average, modifier, msg_start, len(result))\n",
            "/usr/local/lib/python3.7/dist-packages/sklearn/metrics/_classification.py:1308: UndefinedMetricWarning: Precision and F-score are ill-defined and being set to 0.0 in labels with no predicted samples. Use `zero_division` parameter to control this behavior.\n",
            "  _warn_prf(average, modifier, msg_start, len(result))\n",
            "/usr/local/lib/python3.7/dist-packages/sklearn/metrics/_classification.py:1308: UndefinedMetricWarning: Precision and F-score are ill-defined and being set to 0.0 in labels with no predicted samples. Use `zero_division` parameter to control this behavior.\n",
            "  _warn_prf(average, modifier, msg_start, len(result))\n"
          ]
        },
        {
          "output_type": "execute_result",
          "data": {
            "text/plain": [
              "0.3522090852520224"
            ]
          },
          "metadata": {},
          "execution_count": 19
        }
      ]
    },
    {
      "cell_type": "code",
      "metadata": {
        "id": "Il74LxrXRh-J"
      },
      "source": [
        "df = pd.DataFrame(list(zip(y_true,y_pred,vid_id)),\n",
        "               columns =['y_true','y_pred','vid_id'])\n",
        "df.to_csv('df.csv',encoding='utf-8',index=False)"
      ],
      "execution_count": null,
      "outputs": []
    },
    {
      "cell_type": "code",
      "metadata": {
        "id": "Xosd3q8ARkGR",
        "colab": {
          "base_uri": "https://localhost:8080/"
        },
        "outputId": "60c638e6-26eb-46ff-819c-ec8b21469ed1"
      },
      "source": [
        "vid_list = list(set(df['vid_id'].values))\n",
        "\n",
        "y_true = []\n",
        "y_pred = []\n",
        "for vid in vid_list:\n",
        "    #print(vid)\n",
        "    tmp_df = df[df['vid_id']==vid]\n",
        "    #print(len(tmp_df))\n",
        "    vid_pred = tmp_df['y_pred'].mode().values[0]\n",
        "    vid_label = tmp_df['y_true'].mode().values[0]\n",
        "    y_true.append(vid_label)\n",
        "    y_pred.append(vid_pred)\n",
        "    #print(vid_label,\"\\n\",vid_pred)\n",
        "    \n",
        "    print('vid: {} label: {} pred: {}'.format(vid,vid_label,vid_pred))"
      ],
      "execution_count": null,
      "outputs": [
        {
          "output_type": "stream",
          "name": "stdout",
          "text": [
            "vid: 162 label: 1 pred: 1\n",
            "vid: 175 label: 1 pred: 0\n",
            "vid: 157 label: 1 pred: 1\n",
            "vid: 183 label: 0 pred: 1\n",
            "vid: 186 label: 1 pred: 1\n",
            "vid: 190 label: 1 pred: 1\n",
            "vid: 188 label: 2 pred: 0\n",
            "vid: 161 label: 1 pred: 1\n",
            "vid: 177 label: 0 pred: 0\n",
            "vid: 174 label: 1 pred: 1\n",
            "vid: 167 label: 2 pred: 0\n",
            "vid: 172 label: 2 pred: 1\n",
            "vid: 184 label: 2 pred: 1\n",
            "vid: 187 label: 2 pred: 0\n",
            "vid: 160 label: 2 pred: 1\n",
            "vid: 165 label: 0 pred: 0\n",
            "vid: 168 label: 0 pred: 1\n",
            "vid: 169 label: 0 pred: 0\n",
            "vid: 185 label: 1 pred: 1\n",
            "vid: 180 label: 2 pred: 1\n",
            "vid: 182 label: 2 pred: 1\n",
            "vid: 171 label: 0 pred: 0\n",
            "vid: 191 label: 0 pred: 0\n",
            "vid: 164 label: 2 pred: 1\n",
            "vid: 189 label: 1 pred: 0\n",
            "vid: 194 label: 1 pred: 1\n",
            "vid: 159 label: 1 pred: 1\n",
            "vid: 179 label: 1 pred: 0\n",
            "vid: 158 label: 0 pred: 1\n",
            "vid: 173 label: 2 pred: 0\n",
            "vid: 192 label: 0 pred: 0\n",
            "vid: 178 label: 0 pred: 1\n",
            "vid: 176 label: 0 pred: 0\n",
            "vid: 163 label: 2 pred: 1\n",
            "vid: 170 label: 2 pred: 1\n",
            "vid: 166 label: 1 pred: 1\n",
            "vid: 195 label: 2 pred: 1\n",
            "vid: 193 label: 2 pred: 0\n",
            "vid: 181 label: 0 pred: 0\n"
          ]
        }
      ]
    },
    {
      "cell_type": "code",
      "metadata": {
        "id": "UdXmYWuYRl15",
        "colab": {
          "base_uri": "https://localhost:8080/"
        },
        "outputId": "427a34a2-9b85-497f-9bc0-599645a5df95"
      },
      "source": [
        "accuracy_score(y_true,y_pred)"
      ],
      "execution_count": null,
      "outputs": [
        {
          "output_type": "execute_result",
          "data": {
            "text/plain": [
              "0.46153846153846156"
            ]
          },
          "metadata": {},
          "execution_count": 22
        }
      ]
    }
  ]
}