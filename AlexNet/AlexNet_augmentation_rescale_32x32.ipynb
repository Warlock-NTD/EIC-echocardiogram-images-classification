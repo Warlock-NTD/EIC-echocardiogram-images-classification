{
  "nbformat": 4,
  "nbformat_minor": 0,
  "metadata": {
    "colab": {
      "name": "AlexNet_augmentation_rescale_64x64.ipynb",
      "provenance": [],
      "collapsed_sections": []
    },
    "kernelspec": {
      "name": "python3",
      "display_name": "Python 3"
    },
    "language_info": {
      "name": "python"
    },
    "accelerator": "GPU"
  },
  "cells": [
    {
      "cell_type": "code",
      "metadata": {
        "id": "duu5OBzkwKEC"
      },
      "source": [
        "from __future__ import print_function, division\n",
        "import os\n",
        "import torch\n",
        "import pandas as pd\n",
        "from skimage import io, transform\n",
        "import numpy as np\n",
        "import matplotlib.pyplot as plt\n",
        "from torch.utils.data import Dataset, DataLoader\n",
        "from torchvision import transforms, utils, datasets\n",
        "import torch.nn as nn\n",
        "from torch.nn import functional as F\n",
        "import torch.optim as optim\n"
      ],
      "execution_count": 1,
      "outputs": []
    },
    {
      "cell_type": "code",
      "metadata": {
        "id": "y24dpAl_2ZRU"
      },
      "source": [
        "input_path = \"../content/DATA_CHAMBER_2021/\"\n",
        "device = torch.device('cuda' if torch.cuda.is_available() else 'cpu')"
      ],
      "execution_count": 2,
      "outputs": []
    },
    {
      "cell_type": "code",
      "metadata": {
        "colab": {
          "base_uri": "https://localhost:8080/"
        },
        "id": "6oUifWqq2kcQ",
        "outputId": "cd8b5e7b-9dd4-4f98-974f-3efa921699e3"
      },
      "source": [
        "from google.colab import drive\n",
        "drive.mount('/content/drive')"
      ],
      "execution_count": 3,
      "outputs": [
        {
          "output_type": "stream",
          "name": "stdout",
          "text": [
            "Mounted at /content/drive\n"
          ]
        }
      ]
    },
    {
      "cell_type": "code",
      "metadata": {
        "id": "pP_W5E_b2m4i"
      },
      "source": [
        "!unzip -uq \"/content/drive/My Drive/DATA_CHAMBER_2021.zip\" -d \"./\""
      ],
      "execution_count": 4,
      "outputs": []
    },
    {
      "cell_type": "code",
      "metadata": {
        "id": "WVkK2DSE1TKw"
      },
      "source": [
        "class ImageFolderWithPaths(datasets.ImageFolder):\n",
        "\n",
        "    # called by dataloaders\n",
        "    def __getitem__(self, index):\n",
        "        original_tuple = super(ImageFolderWithPaths, self).__getitem__(index)\n",
        "        # the image file path\n",
        "        path = self.imgs[index][0]\n",
        "        tuple_with_path = (original_tuple + (path,))\n",
        "        return tuple_with_path"
      ],
      "execution_count": 5,
      "outputs": []
    },
    {
      "cell_type": "code",
      "metadata": {
        "id": "lmGIk7T-1iEf"
      },
      "source": [
        "preprocess = {\n",
        "    'train':\n",
        "    transforms.Compose([\n",
        "        transforms.Resize(256),\n",
        "        transforms.CenterCrop(224),\n",
        "        transforms.RandomHorizontalFlip(),\n",
        "        transforms.ToTensor(),\n",
        "        transforms.Normalize(mean=[0.485, 0.456, 0.406], std=[0.229, 0.224, 0.225]),\n",
        "    ]),\n",
        "    'validation':\n",
        "    transforms.Compose([\n",
        "        transforms.Resize(32),\n",
        "        transforms.CenterCrop(224),\n",
        "        transforms.RandomHorizontalFlip(),\n",
        "        transforms.ToTensor(),\n",
        "        transforms.Normalize(mean=[0.485, 0.456, 0.406], std=[0.229, 0.224, 0.225]),\n",
        "    ]),\n",
        "}\n",
        "\n",
        "image_datasets = {\n",
        "    'train': \n",
        "    ImageFolderWithPaths(input_path + 'train', preprocess['train']),\n",
        "    'validation': \n",
        "    ImageFolderWithPaths(input_path + 'test', preprocess['validation'])\n",
        "}\n",
        "dataset_sizes = {x: len(image_datasets[x]) for x in ['train','validation']}\n",
        "\n",
        "dataloaders = {\n",
        "    'train':\n",
        "    torch.utils.data.DataLoader(image_datasets['train'],\n",
        "                                batch_size=32,\n",
        "                                shuffle=True,\n",
        "                                num_workers=2, pin_memory=True),\n",
        "    'validation':\n",
        "    torch.utils.data.DataLoader(image_datasets['validation'],\n",
        "                                batch_size=32,\n",
        "                                shuffle=True,\n",
        "                                num_workers=2, pin_memory=True)\n",
        "}"
      ],
      "execution_count": 6,
      "outputs": []
    },
    {
      "cell_type": "code",
      "metadata": {
        "colab": {
          "base_uri": "https://localhost:8080/"
        },
        "id": "c25teGKj0qUa",
        "outputId": "1abf1598-75c0-499a-a166-8916012e682c"
      },
      "source": [
        "model = torch.hub.load('pytorch/vision:v0.10.0', 'alexnet', pretrained=False)\n",
        "model.classifier[6] = nn.Linear(4096,3)\n",
        "# fine tuning"
      ],
      "execution_count": 7,
      "outputs": [
        {
          "output_type": "stream",
          "name": "stderr",
          "text": [
            "Downloading: \"https://github.com/pytorch/vision/archive/v0.10.0.zip\" to /root/.cache/torch/hub/v0.10.0.zip\n"
          ]
        }
      ]
    },
    {
      "cell_type": "code",
      "metadata": {
        "colab": {
          "base_uri": "https://localhost:8080/"
        },
        "id": "rO6cu_GNi1bY",
        "outputId": "8bc1f6c6-820f-4f35-ac8d-c0db69ee8b78"
      },
      "source": [
        "print(model)"
      ],
      "execution_count": 8,
      "outputs": [
        {
          "output_type": "stream",
          "name": "stdout",
          "text": [
            "AlexNet(\n",
            "  (features): Sequential(\n",
            "    (0): Conv2d(3, 64, kernel_size=(11, 11), stride=(4, 4), padding=(2, 2))\n",
            "    (1): ReLU(inplace=True)\n",
            "    (2): MaxPool2d(kernel_size=3, stride=2, padding=0, dilation=1, ceil_mode=False)\n",
            "    (3): Conv2d(64, 192, kernel_size=(5, 5), stride=(1, 1), padding=(2, 2))\n",
            "    (4): ReLU(inplace=True)\n",
            "    (5): MaxPool2d(kernel_size=3, stride=2, padding=0, dilation=1, ceil_mode=False)\n",
            "    (6): Conv2d(192, 384, kernel_size=(3, 3), stride=(1, 1), padding=(1, 1))\n",
            "    (7): ReLU(inplace=True)\n",
            "    (8): Conv2d(384, 256, kernel_size=(3, 3), stride=(1, 1), padding=(1, 1))\n",
            "    (9): ReLU(inplace=True)\n",
            "    (10): Conv2d(256, 256, kernel_size=(3, 3), stride=(1, 1), padding=(1, 1))\n",
            "    (11): ReLU(inplace=True)\n",
            "    (12): MaxPool2d(kernel_size=3, stride=2, padding=0, dilation=1, ceil_mode=False)\n",
            "  )\n",
            "  (avgpool): AdaptiveAvgPool2d(output_size=(6, 6))\n",
            "  (classifier): Sequential(\n",
            "    (0): Dropout(p=0.5, inplace=False)\n",
            "    (1): Linear(in_features=9216, out_features=4096, bias=True)\n",
            "    (2): ReLU(inplace=True)\n",
            "    (3): Dropout(p=0.5, inplace=False)\n",
            "    (4): Linear(in_features=4096, out_features=4096, bias=True)\n",
            "    (5): ReLU(inplace=True)\n",
            "    (6): Linear(in_features=4096, out_features=3, bias=True)\n",
            "  )\n",
            ")\n"
          ]
        }
      ]
    },
    {
      "cell_type": "code",
      "metadata": {
        "id": "QS6CzCgexA_L"
      },
      "source": [
        "import torchvision\n",
        "from torch.autograd import Variable\n",
        "import time\n",
        "from PIL import Image\n",
        "from torchvision import transforms"
      ],
      "execution_count": 9,
      "outputs": []
    },
    {
      "cell_type": "code",
      "metadata": {
        "id": "X9SYXVbk4gDw"
      },
      "source": [
        "criterion = nn.CrossEntropyLoss()\n",
        "optimizer = optim.SGD(model.parameters(), lr=0.001,momentum=0.9)"
      ],
      "execution_count": 10,
      "outputs": []
    },
    {
      "cell_type": "code",
      "metadata": {
        "id": "fYrenFXNP_KT"
      },
      "source": [
        "# t0 = time.time()\n",
        "# print('{} seconds'.format(time.time() - t0)\n",
        "epochLine = [1, 2, 3, 4, 5, 6, 7, 8, 9, 10, 11, 12, 13, 14, 15, 16, 17, 18, 19, 20]"
      ],
      "execution_count": 11,
      "outputs": []
    },
    {
      "cell_type": "code",
      "metadata": {
        "id": "FTg54bKW8rBJ"
      },
      "source": [
        "def train_model(model, criterion, optimizer, num_epochs=1):\n",
        "    train_batches = len(dataloaders['train'])\n",
        "    lossLine = []\n",
        "    accLine = []\n",
        "    timeLine = []\n",
        "    for epoch in range(num_epochs):\n",
        "        print('-' * 40)\n",
        "        print('Epoch {}/{}'.format(epoch+1, num_epochs))\n",
        "        print('-' * 20)\n",
        "        t0 = time.time()\n",
        "\n",
        "        for phase in ['train']:\n",
        "            if phase == 'train':\n",
        "                model.train()\n",
        "            else:\n",
        "                model.eval()\n",
        "\n",
        "            training_loss = 0.0\n",
        "            training_corrects = 0\n",
        "\n",
        "            for i,data in enumerate(dataloaders[phase]):\n",
        "                inputs, labels,_ = data\n",
        "                print(\"\\rTraining batch {}/{}\".format(i+1, train_batches), end='', flush=True)\n",
        "                inputs = inputs.to(device)\n",
        "                labels = labels.to(device)\n",
        "\n",
        "                outputs = model(inputs)\n",
        "                loss = criterion(outputs, labels)\n",
        "                # loss.requires_grad = True\n",
        "\n",
        "                if phase == 'train':\n",
        "                    optimizer.zero_grad()\n",
        "                    loss.backward()\n",
        "                    optimizer.step()\n",
        "\n",
        "                _, preds = torch.max(outputs, 1)\n",
        "                training_loss += loss.item() * inputs.size(0)\n",
        "                training_corrects += torch.sum(preds == labels.data)\n",
        "\n",
        "            epoch_loss = training_loss / len(image_datasets[phase])\n",
        "            lossLine.append(epoch_loss)\n",
        "            epoch_acc = training_corrects.double() / len(image_datasets[phase])\n",
        "            accLine.append(epoch_acc)\n",
        "\n",
        "            print('{} loss: {:.4f}, acc: {:.4f}'.format(phase,\n",
        "                                                        epoch_loss,\n",
        "                                                        epoch_acc))\n",
        "            t1 = time.time()\n",
        "            t = t1 - t0\n",
        "            print('Duration :{} seconds'.format(t))\n",
        "            ts = pd.DataFrame([t]).apply(np.float32)\n",
        "            timeLine.append(ts)\n",
        "    return model, lossLine, accLine, timeLine"
      ],
      "execution_count": 12,
      "outputs": []
    },
    {
      "cell_type": "code",
      "metadata": {
        "colab": {
          "base_uri": "https://localhost:8080/"
        },
        "id": "p-NM9RWZ9g7x",
        "outputId": "7dc56fa3-9084-4f32-aa6e-dd2b51ec0a6c"
      },
      "source": [
        "model = model.to(device)\n",
        "model_trained, lossLine, accLine, timeLine = train_model(model, criterion, optimizer, num_epochs=20)"
      ],
      "execution_count": 13,
      "outputs": [
        {
          "output_type": "stream",
          "name": "stdout",
          "text": [
            "----------------------------------------\n",
            "Epoch 1/20\n",
            "--------------------\n",
            "Training batch 210/210train loss: 1.0974, acc: 0.3531\n",
            "Duration :62.12159514427185 seconds\n",
            "----------------------------------------\n",
            "Epoch 2/20\n",
            "--------------------\n",
            "Training batch 210/210train loss: 1.0961, acc: 0.3603\n",
            "Duration :61.99415826797485 seconds\n",
            "----------------------------------------\n",
            "Epoch 3/20\n",
            "--------------------\n",
            "Training batch 210/210train loss: 1.0953, acc: 0.3728\n",
            "Duration :61.65939259529114 seconds\n",
            "----------------------------------------\n",
            "Epoch 4/20\n",
            "--------------------\n",
            "Training batch 210/210train loss: 1.0940, acc: 0.3850\n",
            "Duration :62.17120051383972 seconds\n",
            "----------------------------------------\n",
            "Epoch 5/20\n",
            "--------------------\n",
            "Training batch 210/210train loss: 1.0907, acc: 0.4042\n",
            "Duration :61.790955781936646 seconds\n",
            "----------------------------------------\n",
            "Epoch 6/20\n",
            "--------------------\n",
            "Training batch 210/210train loss: 1.0750, acc: 0.4305\n",
            "Duration :61.58162045478821 seconds\n",
            "----------------------------------------\n",
            "Epoch 7/20\n",
            "--------------------\n",
            "Training batch 210/210train loss: 0.9666, acc: 0.5184\n",
            "Duration :61.317354917526245 seconds\n",
            "----------------------------------------\n",
            "Epoch 8/20\n",
            "--------------------\n",
            "Training batch 210/210train loss: 0.8462, acc: 0.6034\n",
            "Duration :62.36100101470947 seconds\n",
            "----------------------------------------\n",
            "Epoch 9/20\n",
            "--------------------\n",
            "Training batch 210/210train loss: 0.7507, acc: 0.6644\n",
            "Duration :61.7316689491272 seconds\n",
            "----------------------------------------\n",
            "Epoch 10/20\n",
            "--------------------\n",
            "Training batch 210/210train loss: 0.6354, acc: 0.7192\n",
            "Duration :61.086127042770386 seconds\n",
            "----------------------------------------\n",
            "Epoch 11/20\n",
            "--------------------\n",
            "Training batch 210/210train loss: 0.4955, acc: 0.7989\n",
            "Duration :61.636927366256714 seconds\n",
            "----------------------------------------\n",
            "Epoch 12/20\n",
            "--------------------\n",
            "Training batch 210/210train loss: 0.3611, acc: 0.8602\n",
            "Duration :60.01813268661499 seconds\n",
            "----------------------------------------\n",
            "Epoch 13/20\n",
            "--------------------\n",
            "Training batch 210/210train loss: 0.2569, acc: 0.9055\n",
            "Duration :61.363137006759644 seconds\n",
            "----------------------------------------\n",
            "Epoch 14/20\n",
            "--------------------\n",
            "Training batch 210/210train loss: 0.1821, acc: 0.9309\n",
            "Duration :60.8013231754303 seconds\n",
            "----------------------------------------\n",
            "Epoch 15/20\n",
            "--------------------\n",
            "Training batch 210/210train loss: 0.1331, acc: 0.9527\n",
            "Duration :61.56494903564453 seconds\n",
            "----------------------------------------\n",
            "Epoch 16/20\n",
            "--------------------\n",
            "Training batch 210/210train loss: 0.0925, acc: 0.9661\n",
            "Duration :61.833866596221924 seconds\n",
            "----------------------------------------\n",
            "Epoch 17/20\n",
            "--------------------\n",
            "Training batch 210/210train loss: 0.0643, acc: 0.9780\n",
            "Duration :61.61073708534241 seconds\n",
            "----------------------------------------\n",
            "Epoch 18/20\n",
            "--------------------\n",
            "Training batch 210/210train loss: 0.0537, acc: 0.9826\n",
            "Duration :61.66627764701843 seconds\n",
            "----------------------------------------\n",
            "Epoch 19/20\n",
            "--------------------\n",
            "Training batch 210/210train loss: 0.0467, acc: 0.9844\n",
            "Duration :61.137935161590576 seconds\n",
            "----------------------------------------\n",
            "Epoch 20/20\n",
            "--------------------\n",
            "Training batch 210/210train loss: 0.0382, acc: 0.9878\n",
            "Duration :60.66808724403381 seconds\n"
          ]
        }
      ]
    },
    {
      "cell_type": "code",
      "metadata": {
        "colab": {
          "base_uri": "https://localhost:8080/",
          "height": 295
        },
        "id": "bzFZmYBtMfZ5",
        "outputId": "e0420748-88ed-44a4-9aa6-3f3d07c808ab"
      },
      "source": [
        "plt.plot(epochLine, lossLine, label=\"Loss\")\n",
        "plt.plot()\n",
        "\n",
        "plt.xlabel(\"Epochs\")\n",
        "plt.ylabel(\"Loss rate\")\n",
        "plt.title(\"AlexNet Loss per Epoch\")\n",
        "plt.legend()\n",
        "plt.show()"
      ],
      "execution_count": 14,
      "outputs": [
        {
          "output_type": "display_data",
          "data": {
            "image/png": "[encoded data removed]",
            "text/plain": [
              "<Figure size 432x288 with 1 Axes>"
            ]
          },
          "metadata": {
            "needs_background": "light"
          }
        }
      ]
    },
    {
      "cell_type": "code",
      "metadata": {
        "colab": {
          "base_uri": "https://localhost:8080/"
        },
        "id": "MI2C9IV-S5-5",
        "outputId": "667fb2c6-cc89-4563-df79-c4c9758f8c2a"
      },
      "source": [
        "print(lossLine)"
      ],
      "execution_count": 15,
      "outputs": [
        {
          "output_type": "stream",
          "name": "stdout",
          "text": [
            "[1.0973907765913387, 1.0960543155670166, 1.0953007379386757, 1.093982164714598, 1.0906508602484788, 1.0750034533033985, 0.9665833086649435, 0.8462298834485384, 0.7506812544420608, 0.6353615183852978, 0.4955442477784662, 0.36109290718233655, 0.2568718565505087, 0.18212992748756113, 0.13305323911162206, 0.09249451443901263, 0.06427472804528679, 0.053656791185288266, 0.04667626482428886, 0.03824337688160294]\n"
          ]
        }
      ]
    },
    {
      "cell_type": "code",
      "metadata": {
        "colab": {
          "base_uri": "https://localhost:8080/",
          "height": 295
        },
        "id": "ByBWLjt7NdKN",
        "outputId": "648f0d6a-7987-496d-ed01-d1ac0352e246"
      },
      "source": [
        "plt.plot(epochLine, accLine, label=\"Accuracy\")\n",
        "plt.plot()\n",
        "\n",
        "plt.xlabel(\"Epochs\")\n",
        "plt.ylabel(\"Accuracy rate\")\n",
        "plt.title(\"AlexNet Accurate per Epoch\")\n",
        "plt.legend()\n",
        "plt.show()"
      ],
      "execution_count": 16,
      "outputs": [
        {
          "output_type": "display_data",
          "data": {
            "image/png": "[encoded data removed]",
            "text/plain": [
              "<Figure size 432x288 with 1 Axes>"
            ]
          },
          "metadata": {
            "needs_background": "light"
          }
        }
      ]
    },
    {
      "cell_type": "code",
      "metadata": {
        "colab": {
          "base_uri": "https://localhost:8080/"
        },
        "id": "ANRYLEAbS8sH",
        "outputId": "eb7d9d83-95c1-4524-bdbc-76f4b287368d"
      },
      "source": [
        "print(accLine)"
      ],
      "execution_count": 17,
      "outputs": [
        {
          "output_type": "stream",
          "name": "stdout",
          "text": [
            "[tensor(0.3531, device='cuda:0', dtype=torch.float64), tensor(0.3603, device='cuda:0', dtype=torch.float64), tensor(0.3728, device='cuda:0', dtype=torch.float64), tensor(0.3850, device='cuda:0', dtype=torch.float64), tensor(0.4042, device='cuda:0', dtype=torch.float64), tensor(0.4305, device='cuda:0', dtype=torch.float64), tensor(0.5184, device='cuda:0', dtype=torch.float64), tensor(0.6034, device='cuda:0', dtype=torch.float64), tensor(0.6644, device='cuda:0', dtype=torch.float64), tensor(0.7192, device='cuda:0', dtype=torch.float64), tensor(0.7989, device='cuda:0', dtype=torch.float64), tensor(0.8602, device='cuda:0', dtype=torch.float64), tensor(0.9055, device='cuda:0', dtype=torch.float64), tensor(0.9309, device='cuda:0', dtype=torch.float64), tensor(0.9527, device='cuda:0', dtype=torch.float64), tensor(0.9661, device='cuda:0', dtype=torch.float64), tensor(0.9780, device='cuda:0', dtype=torch.float64), tensor(0.9826, device='cuda:0', dtype=torch.float64), tensor(0.9844, device='cuda:0', dtype=torch.float64), tensor(0.9878, device='cuda:0', dtype=torch.float64)]\n"
          ]
        }
      ]
    },
    {
      "cell_type": "code",
      "metadata": {
        "colab": {
          "base_uri": "https://localhost:8080/"
        },
        "id": "kMpjltORWLv0",
        "outputId": "8751cd47-b7d8-4a1f-af43-54255f1d505e"
      },
      "source": [
        "total_time_train = 0\n",
        "for i in timeLine:  total_time_train += i\n",
        "print(total_time_train)"
      ],
      "execution_count": 18,
      "outputs": [
        {
          "output_type": "stream",
          "name": "stdout",
          "text": [
            "             0\n",
            "0  1230.116455\n"
          ]
        }
      ]
    },
    {
      "cell_type": "code",
      "metadata": {
        "id": "rmrer5sqCMj3"
      },
      "source": [
        "def test_model(model, criterion, optimizer):\n",
        "    labels_input=list()\n",
        "    labels_output=list()\n",
        "    vid_id = list()\n",
        "    for phase in ['validation']:\n",
        "        model.eval()\n",
        "\n",
        "        for inputs, labels, fname in dataloaders[phase]:\n",
        "            inputs = inputs.to(device)\n",
        "            labels = labels.to(device)\n",
        "            labels_input= labels_input + labels.tolist()\n",
        "            for f in fname:\n",
        "                vid_id.append(f.split('/')[-1].split('.')[0].split('_')[0])\n",
        "            outputs = model(inputs)\n",
        "            \n",
        "            loss = criterion(outputs, labels)\n",
        "            _, preds = torch.max(outputs, 1)\n",
        "            \n",
        "            labels_output= labels_output + preds.tolist()\n",
        "    return labels_input,labels_output,vid_id\n",
        "            \n",
        "y_true,y_pred,vid_id = test_model(model, criterion, optimizer)"
      ],
      "execution_count": 25,
      "outputs": []
    },
    {
      "cell_type": "code",
      "metadata": {
        "colab": {
          "base_uri": "https://localhost:8080/"
        },
        "id": "kA5TB7N3Eic_",
        "outputId": "9dd577d0-8ea4-470b-ba39-06ec1d1bfa7c"
      },
      "source": [
        "from sklearn.metrics import confusion_matrix,accuracy_score,classification_report\n",
        "print(classification_report(y_true,y_pred))\n",
        "accuracy_score(y_true, y_pred)"
      ],
      "execution_count": 26,
      "outputs": [
        {
          "output_type": "stream",
          "name": "stdout",
          "text": [
            "              precision    recall  f1-score   support\n",
            "\n",
            "           0       0.23      0.82      0.36       409\n",
            "           1       0.00      0.00      0.00       367\n",
            "           2       0.21      0.04      0.07       831\n",
            "\n",
            "    accuracy                           0.23      1607\n",
            "   macro avg       0.15      0.29      0.15      1607\n",
            "weighted avg       0.17      0.23      0.13      1607\n",
            "\n"
          ]
        },
        {
          "output_type": "stream",
          "name": "stderr",
          "text": [
            "/usr/local/lib/python3.7/dist-packages/sklearn/metrics/_classification.py:1308: UndefinedMetricWarning: Precision and F-score are ill-defined and being set to 0.0 in labels with no predicted samples. Use `zero_division` parameter to control this behavior.\n",
            "  _warn_prf(average, modifier, msg_start, len(result))\n",
            "/usr/local/lib/python3.7/dist-packages/sklearn/metrics/_classification.py:1308: UndefinedMetricWarning: Precision and F-score are ill-defined and being set to 0.0 in labels with no predicted samples. Use `zero_division` parameter to control this behavior.\n",
            "  _warn_prf(average, modifier, msg_start, len(result))\n",
            "/usr/local/lib/python3.7/dist-packages/sklearn/metrics/_classification.py:1308: UndefinedMetricWarning: Precision and F-score are ill-defined and being set to 0.0 in labels with no predicted samples. Use `zero_division` parameter to control this behavior.\n",
            "  _warn_prf(average, modifier, msg_start, len(result))\n"
          ]
        },
        {
          "output_type": "execute_result",
          "data": {
            "text/plain": [
              "0.23148724331051648"
            ]
          },
          "metadata": {},
          "execution_count": 26
        }
      ]
    },
    {
      "cell_type": "code",
      "metadata": {
        "id": "fkHzMvaAbSfz"
      },
      "source": [
        "df = pd.DataFrame(list(zip(y_true,y_pred,vid_id)),\n",
        "               columns =['y_true','y_pred','vid_id'])\n",
        "df.to_csv('df.csv',encoding='utf-8',index=False)"
      ],
      "execution_count": 29,
      "outputs": []
    },
    {
      "cell_type": "code",
      "metadata": {
        "colab": {
          "base_uri": "https://localhost:8080/"
        },
        "id": "2R5hjKwCEtt_",
        "outputId": "a2646f86-0d69-428f-868d-bf09a88369ec"
      },
      "source": [
        "vid_list = list(set(df['vid_id'].values))\n",
        "\n",
        "y_true = []\n",
        "y_pred = []\n",
        "for vid in vid_list:\n",
        "    #print(vid)\n",
        "    tmp_df = df[df['vid_id']==vid]\n",
        "    #print(len(tmp_df))\n",
        "    vid_pred = tmp_df['y_pred'].mode().values[0]\n",
        "    vid_label = tmp_df['y_true'].mode().values[0]\n",
        "    y_true.append(vid_label)\n",
        "    y_pred.append(vid_pred)\n",
        "    #print(vid_label,\"\\n\",vid_pred)\n",
        "    \n",
        "    print('vid: {} label: {} pred: {}'.format(vid,vid_label,vid_pred))\n"
      ],
      "execution_count": 30,
      "outputs": [
        {
          "output_type": "stream",
          "name": "stdout",
          "text": [
            "vid: 163 label: 0 pred: 0\n",
            "vid: 159 label: 0 pred: 0\n",
            "vid: 184 label: 2 pred: 0\n",
            "vid: 160 label: 0 pred: 0\n",
            "vid: 185 label: 1 pred: 0\n",
            "vid: 170 label: 2 pred: 0\n",
            "vid: 158 label: 2 pred: 0\n",
            "vid: 169 label: 0 pred: 0\n",
            "vid: 193 label: 1 pred: 0\n",
            "vid: 186 label: 0 pred: 0\n",
            "vid: 188 label: 1 pred: 0\n",
            "vid: 173 label: 1 pred: 2\n",
            "vid: 187 label: 0 pred: 0\n",
            "vid: 164 label: 2 pred: 0\n",
            "vid: 176 label: 0 pred: 0\n",
            "vid: 181 label: 0 pred: 0\n",
            "vid: 192 label: 2 pred: 0\n",
            "vid: 191 label: 0 pred: 0\n",
            "vid: 171 label: 0 pred: 2\n",
            "vid: 190 label: 1 pred: 0\n",
            "vid: 177 label: 1 pred: 0\n"
          ]
        }
      ]
    },
    {
      "cell_type": "code",
      "metadata": {
        "colab": {
          "base_uri": "https://localhost:8080/"
        },
        "id": "wimRXnX3EzpH",
        "outputId": "38cb4b36-460c-4de9-fa5a-6e9247aaa42b"
      },
      "source": [
        "accuracy_score(y_true,y_pred)"
      ],
      "execution_count": 23,
      "outputs": [
        {
          "output_type": "execute_result",
          "data": {
            "text/plain": [
              "0.28205128205128205"
            ]
          },
          "metadata": {},
          "execution_count": 23
        }
      ]
    }
  ]
}