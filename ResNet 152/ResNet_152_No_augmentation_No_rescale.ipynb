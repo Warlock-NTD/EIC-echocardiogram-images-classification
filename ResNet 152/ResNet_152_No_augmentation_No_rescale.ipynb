{
  "nbformat": 4,
  "nbformat_minor": 0,
  "metadata": {
    "colab": {
      "name": "ResNet_152_No_augmentation_No_rescale.ipynb",
      "provenance": [],
      "collapsed_sections": []
    },
    "kernelspec": {
      "name": "python3",
      "display_name": "Python 3"
    },
    "language_info": {
      "name": "python"
    },
    "accelerator": "GPU"
  },
  "cells": [
    {
      "cell_type": "code",
      "metadata": {
        "id": "pdv7z0IOHs8N"
      },
      "source": [
        "from __future__ import print_function, division\n",
        "import os\n",
        "import torch\n",
        "import pandas as pd\n",
        "from skimage import io, transform\n",
        "import numpy as np\n",
        "import matplotlib.pyplot as plt\n",
        "from torch.utils.data import Dataset, DataLoader\n",
        "from torchvision import transforms, utils, datasets\n",
        "import torch.nn as nn\n",
        "from torch.nn import functional as F\n",
        "import torch.optim as optim"
      ],
      "execution_count": 1,
      "outputs": []
    },
    {
      "cell_type": "code",
      "metadata": {
        "id": "IQhg9qJ2H0Ni"
      },
      "source": [
        "input_path = \"../content/DATA_CHAMBER_2021/\"\n",
        "device = torch.device('cuda' if torch.cuda.is_available() else 'cpu')"
      ],
      "execution_count": 2,
      "outputs": []
    },
    {
      "cell_type": "code",
      "metadata": {
        "id": "PCiPYTusH27Z",
        "colab": {
          "base_uri": "https://localhost:8080/"
        },
        "outputId": "b24dbea1-8d07-4d02-972c-5887e301aecb"
      },
      "source": [
        "from google.colab import drive\n",
        "drive.mount('/content/drive')"
      ],
      "execution_count": 3,
      "outputs": [
        {
          "output_type": "stream",
          "name": "stdout",
          "text": [
            "Mounted at /content/drive\n"
          ]
        }
      ]
    },
    {
      "cell_type": "code",
      "metadata": {
        "id": "d6v83PedH46d"
      },
      "source": [
        "!unzip -uq \"/content/drive/My Drive/DATA_CHAMBER_2021.zip\" -d \"./\""
      ],
      "execution_count": 4,
      "outputs": []
    },
    {
      "cell_type": "code",
      "metadata": {
        "id": "h_0MJ-lpIA3e"
      },
      "source": [
        "class ImageFolderWithPaths(datasets.ImageFolder):\n",
        "\n",
        "    # called by dataloaders\n",
        "    def __getitem__(self, index):\n",
        "        original_tuple = super(ImageFolderWithPaths, self).__getitem__(index)\n",
        "        # the image file path\n",
        "        path = self.imgs[index][0]\n",
        "        tuple_with_path = (original_tuple + (path,))\n",
        "        return tuple_with_path"
      ],
      "execution_count": 5,
      "outputs": []
    },
    {
      "cell_type": "code",
      "metadata": {
        "id": "Cr2yCjaOIBjd"
      },
      "source": [
        "preprocess = {\n",
        "    'train':\n",
        "    transforms.Compose([\n",
        "        transforms.Resize(256),\n",
        "        transforms.CenterCrop(224),\n",
        "        # transforms.RandomHorizontalFlip(),\n",
        "        transforms.ToTensor(),\n",
        "        transforms.Normalize(mean=[0.485, 0.456, 0.406], std=[0.229, 0.224, 0.225]),\n",
        "    ]),\n",
        "    'validation':\n",
        "    transforms.Compose([\n",
        "        transforms.Resize(256),\n",
        "        transforms.CenterCrop(224),\n",
        "        # transforms.RandomHorizontalFlip(),\n",
        "        transforms.ToTensor(),\n",
        "        transforms.Normalize(mean=[0.485, 0.456, 0.406], std=[0.229, 0.224, 0.225]),\n",
        "    ]),\n",
        "}\n",
        "\n",
        "image_datasets = {\n",
        "    'train': \n",
        "    ImageFolderWithPaths(input_path + 'train', preprocess['train']),\n",
        "    'validation': \n",
        "    ImageFolderWithPaths(input_path + 'test', preprocess['validation'])\n",
        "}\n",
        "dataset_sizes = {x: len(image_datasets[x]) for x in ['train','validation']}\n",
        "\n",
        "dataloaders = {\n",
        "    'train':\n",
        "    torch.utils.data.DataLoader(image_datasets['train'],\n",
        "                                batch_size=16,\n",
        "                                shuffle=True,\n",
        "                                num_workers=2, pin_memory=True),\n",
        "    'validation':\n",
        "    torch.utils.data.DataLoader(image_datasets['validation'],\n",
        "                                batch_size=16,\n",
        "                                shuffle=True,\n",
        "                                num_workers=2, pin_memory=True)\n",
        "}"
      ],
      "execution_count": 6,
      "outputs": []
    },
    {
      "cell_type": "code",
      "metadata": {
        "id": "uFSwql2pIN0j",
        "colab": {
          "base_uri": "https://localhost:8080/"
        },
        "outputId": "166296d0-959b-487f-ca87-2879fdc1e82f"
      },
      "source": [
        "model = torch.hub.load('pytorch/vision:v0.10.0', 'resnet152', pretrained=False)\n",
        "model.fc = nn.Linear(2048, 3)\n",
        "# fine tuning"
      ],
      "execution_count": 7,
      "outputs": [
        {
          "output_type": "stream",
          "name": "stderr",
          "text": [
            "Downloading: \"https://github.com/pytorch/vision/archive/v0.10.0.zip\" to /root/.cache/torch/hub/v0.10.0.zip\n"
          ]
        }
      ]
    },
    {
      "cell_type": "code",
      "metadata": {
        "id": "xhJQ68KDImf4"
      },
      "source": [
        "import torchvision\n",
        "from torch.autograd import Variable\n",
        "import time\n",
        "from PIL import Image\n",
        "from torchvision import transforms"
      ],
      "execution_count": 8,
      "outputs": []
    },
    {
      "cell_type": "code",
      "metadata": {
        "id": "4P8h7vtcIop3"
      },
      "source": [
        "criterion = nn.CrossEntropyLoss()\n",
        "optimizer = optim.SGD(model.parameters(), lr=0.001,momentum=0.9)"
      ],
      "execution_count": 9,
      "outputs": []
    },
    {
      "cell_type": "code",
      "metadata": {
        "id": "myouMo7mIsKT"
      },
      "source": [
        "# t0 = time.time()\n",
        "# print('{} seconds'.format(time.time() - t0)\n",
        "epochLine = [1, 2, 3, 4, 5, 6, 7, 8, 9, 10, 11, 12, 13, 14, 15, 16, 17, 18, 19, 20]"
      ],
      "execution_count": 10,
      "outputs": []
    },
    {
      "cell_type": "code",
      "metadata": {
        "id": "qWFyi0X9IvWO"
      },
      "source": [
        "def train_model(model, criterion, optimizer, num_epochs=1):\n",
        "    train_batches = len(dataloaders['train'])\n",
        "    lossLine = []\n",
        "    accLine = []\n",
        "    timeLine = []\n",
        "    for epoch in range(num_epochs):\n",
        "        print('-' * 40)\n",
        "        print('Epoch {}/{}'.format(epoch+1, num_epochs))\n",
        "        print('-' * 20)\n",
        "        t0 = time.time()\n",
        "\n",
        "        for phase in ['train']:\n",
        "            if phase == 'train':\n",
        "                model.train()\n",
        "            else:\n",
        "                model.eval()\n",
        "\n",
        "            training_loss = 0.0\n",
        "            training_corrects = 0\n",
        "\n",
        "            for i,data in enumerate(dataloaders[phase]):\n",
        "                inputs, labels,_ = data\n",
        "                print(\"\\rTraining batch {}/{}\".format(i+1, train_batches), end='', flush=True)\n",
        "                inputs = inputs.to(device)\n",
        "                labels = labels.to(device)\n",
        "\n",
        "                outputs = model(inputs)\n",
        "                loss = criterion(outputs, labels)\n",
        "                # loss.requires_grad = True\n",
        "\n",
        "                if phase == 'train':\n",
        "                    optimizer.zero_grad()\n",
        "                    loss.backward()\n",
        "                    optimizer.step()\n",
        "\n",
        "                _, preds = torch.max(outputs, 1)\n",
        "                training_loss += loss.item() * inputs.size(0)\n",
        "                training_corrects += torch.sum(preds == labels.data)\n",
        "\n",
        "            epoch_loss = training_loss / len(image_datasets[phase])\n",
        "            lossLine.append(epoch_loss)\n",
        "            epoch_acc = training_corrects.double() / len(image_datasets[phase])\n",
        "            accLine.append(epoch_acc)\n",
        "\n",
        "            print('{} loss: {:.4f}, acc: {:.4f}'.format(phase,\n",
        "                                                        epoch_loss,\n",
        "                                                        epoch_acc))\n",
        "            t1 = time.time()\n",
        "            t = t1 - t0\n",
        "            print('Duration :{} seconds'.format(t))\n",
        "            ts = pd.DataFrame([t]).apply(np.float32)\n",
        "            timeLine.append(ts)\n",
        "    return model, lossLine, accLine, timeLine"
      ],
      "execution_count": 11,
      "outputs": []
    },
    {
      "cell_type": "code",
      "metadata": {
        "id": "PucT0w7SIwCG",
        "colab": {
          "base_uri": "https://localhost:8080/"
        },
        "outputId": "786b69c8-eb22-4161-9f78-35c7ec190595"
      },
      "source": [
        "model = model.to(device)\n",
        "model_trained, lossLine, accLine, timeLine = train_model(model, criterion, optimizer, num_epochs=20)"
      ],
      "execution_count": 12,
      "outputs": [
        {
          "output_type": "stream",
          "name": "stdout",
          "text": [
            "----------------------------------------\n",
            "Epoch 1/20\n",
            "--------------------\n",
            "Training batch 420/420train loss: 1.0625, acc: 0.4946\n",
            "Duration :386.76519989967346 seconds\n",
            "----------------------------------------\n",
            "Epoch 2/20\n",
            "--------------------\n",
            "Training batch 420/420train loss: 0.4131, acc: 0.8370\n",
            "Duration :386.2948739528656 seconds\n",
            "----------------------------------------\n",
            "Epoch 3/20\n",
            "--------------------\n",
            "Training batch 420/420train loss: 0.1432, acc: 0.9483\n",
            "Duration :386.13160943984985 seconds\n",
            "----------------------------------------\n",
            "Epoch 4/20\n",
            "--------------------\n",
            "Training batch 420/420train loss: 0.0703, acc: 0.9766\n",
            "Duration :386.05125403404236 seconds\n",
            "----------------------------------------\n",
            "Epoch 5/20\n",
            "--------------------\n",
            "Training batch 420/420train loss: 0.0328, acc: 0.9882\n",
            "Duration :386.088666677475 seconds\n",
            "----------------------------------------\n",
            "Epoch 6/20\n",
            "--------------------\n",
            "Training batch 420/420train loss: 0.0370, acc: 0.9878\n",
            "Duration :386.25243973731995 seconds\n",
            "----------------------------------------\n",
            "Epoch 7/20\n",
            "--------------------\n",
            "Training batch 420/420train loss: 0.0257, acc: 0.9918\n",
            "Duration :386.2947738170624 seconds\n",
            "----------------------------------------\n",
            "Epoch 8/20\n",
            "--------------------\n",
            "Training batch 420/420train loss: 0.0196, acc: 0.9936\n",
            "Duration :386.2047152519226 seconds\n",
            "----------------------------------------\n",
            "Epoch 9/20\n",
            "--------------------\n",
            "Training batch 420/420train loss: 0.0128, acc: 0.9960\n",
            "Duration :386.3263506889343 seconds\n",
            "----------------------------------------\n",
            "Epoch 10/20\n",
            "--------------------\n",
            "Training batch 420/420train loss: 0.0061, acc: 0.9984\n",
            "Duration :388.1636908054352 seconds\n",
            "----------------------------------------\n",
            "Epoch 11/20\n",
            "--------------------\n",
            "Training batch 420/420train loss: 0.0069, acc: 0.9984\n",
            "Duration :388.30486607551575 seconds\n",
            "----------------------------------------\n",
            "Epoch 12/20\n",
            "--------------------\n",
            "Training batch 420/420train loss: 0.0101, acc: 0.9966\n",
            "Duration :388.29617857933044 seconds\n",
            "----------------------------------------\n",
            "Epoch 13/20\n",
            "--------------------\n",
            "Training batch 420/420train loss: 0.0089, acc: 0.9972\n",
            "Duration :388.66193103790283 seconds\n",
            "----------------------------------------\n",
            "Epoch 14/20\n",
            "--------------------\n",
            "Training batch 420/420train loss: 0.0116, acc: 0.9952\n",
            "Duration :388.36785197257996 seconds\n",
            "----------------------------------------\n",
            "Epoch 15/20\n",
            "--------------------\n",
            "Training batch 420/420train loss: 0.0117, acc: 0.9964\n",
            "Duration :387.82767605781555 seconds\n",
            "----------------------------------------\n",
            "Epoch 16/20\n",
            "--------------------\n",
            "Training batch 420/420train loss: 0.0107, acc: 0.9969\n",
            "Duration :386.0532863140106 seconds\n",
            "----------------------------------------\n",
            "Epoch 17/20\n",
            "--------------------\n",
            "Training batch 420/420train loss: 0.0048, acc: 0.9982\n",
            "Duration :386.2421748638153 seconds\n",
            "----------------------------------------\n",
            "Epoch 18/20\n",
            "--------------------\n",
            "Training batch 420/420train loss: 0.0037, acc: 0.9988\n",
            "Duration :386.29223704338074 seconds\n",
            "----------------------------------------\n",
            "Epoch 19/20\n",
            "--------------------\n",
            "Training batch 420/420train loss: 0.0024, acc: 0.9994\n",
            "Duration :386.2513749599457 seconds\n",
            "----------------------------------------\n",
            "Epoch 20/20\n",
            "--------------------\n",
            "Training batch 420/420train loss: 0.0096, acc: 0.9973\n",
            "Duration :386.2196021080017 seconds\n"
          ]
        }
      ]
    },
    {
      "cell_type": "code",
      "metadata": {
        "id": "jctYdKjiI2gG",
        "colab": {
          "base_uri": "https://localhost:8080/",
          "height": 295
        },
        "outputId": "2d06e68f-95f2-40e9-d2f5-f7176a13fadd"
      },
      "source": [
        "plt.plot(epochLine, lossLine, label=\"Loss\")\n",
        "plt.plot()\n",
        "\n",
        "plt.xlabel(\"Epochs\")\n",
        "plt.ylabel(\"Loss rate\")\n",
        "plt.title(\"ResNet 152 Loss per Epoch\")\n",
        "plt.legend()\n",
        "plt.show()"
      ],
      "execution_count": 13,
      "outputs": [
        {
          "output_type": "display_data",
          "data": {
            "image/png": "[encoded data removed]",
            "text/plain": [
              "<Figure size 432x288 with 1 Axes>"
            ]
          },
          "metadata": {
            "needs_background": "light"
          }
        }
      ]
    },
    {
      "cell_type": "code",
      "metadata": {
        "id": "M2rsHGoITR_e",
        "colab": {
          "base_uri": "https://localhost:8080/"
        },
        "outputId": "b516e920-33d4-4fc7-b973-93f0b69c7d67"
      },
      "source": [
        "print(lossLine)"
      ],
      "execution_count": 14,
      "outputs": [
        {
          "output_type": "stream",
          "name": "stdout",
          "text": [
            "[1.062454155163341, 0.4130585474819411, 0.1432115721097722, 0.07029155875498354, 0.03280913989862835, 0.0370405825390581, 0.02566439269492251, 0.01964091441495002, 0.012796720419885764, 0.006058968892924818, 0.006901553336787734, 0.010146017709368793, 0.008901483752969298, 0.011585520033977009, 0.011732799016353386, 0.010702544979450525, 0.004828955717703313, 0.0037319790013297612, 0.002391901631693506, 0.0096257175502625]\n"
          ]
        }
      ]
    },
    {
      "cell_type": "code",
      "metadata": {
        "id": "GuABUMsZI68e",
        "colab": {
          "base_uri": "https://localhost:8080/",
          "height": 295
        },
        "outputId": "0bb49de5-fa6b-4505-90e1-35550f7b5d99"
      },
      "source": [
        "plt.plot(epochLine, accLine, label=\"Accuracy\")\n",
        "plt.plot()\n",
        "\n",
        "plt.xlabel(\"Epochs\")\n",
        "plt.ylabel(\"Accuracy rate\")\n",
        "plt.title(\"ResNet 152 Accurate per Epoch\")\n",
        "plt.legend()\n",
        "plt.show()"
      ],
      "execution_count": 15,
      "outputs": [
        {
          "output_type": "display_data",
          "data": {
            "image/png": "[encoded data removed]",
            "text/plain": [
              "<Figure size 432x288 with 1 Axes>"
            ]
          },
          "metadata": {
            "needs_background": "light"
          }
        }
      ]
    },
    {
      "cell_type": "code",
      "metadata": {
        "id": "Vg7OSQnETTvy",
        "colab": {
          "base_uri": "https://localhost:8080/"
        },
        "outputId": "e1e707b3-f1fd-4412-dfea-eccb17bde88d"
      },
      "source": [
        "print(accLine)"
      ],
      "execution_count": 16,
      "outputs": [
        {
          "output_type": "stream",
          "name": "stdout",
          "text": [
            "[tensor(0.4946, device='cuda:0', dtype=torch.float64), tensor(0.8370, device='cuda:0', dtype=torch.float64), tensor(0.9483, device='cuda:0', dtype=torch.float64), tensor(0.9766, device='cuda:0', dtype=torch.float64), tensor(0.9882, device='cuda:0', dtype=torch.float64), tensor(0.9878, device='cuda:0', dtype=torch.float64), tensor(0.9918, device='cuda:0', dtype=torch.float64), tensor(0.9936, device='cuda:0', dtype=torch.float64), tensor(0.9960, device='cuda:0', dtype=torch.float64), tensor(0.9984, device='cuda:0', dtype=torch.float64), tensor(0.9984, device='cuda:0', dtype=torch.float64), tensor(0.9966, device='cuda:0', dtype=torch.float64), tensor(0.9972, device='cuda:0', dtype=torch.float64), tensor(0.9952, device='cuda:0', dtype=torch.float64), tensor(0.9964, device='cuda:0', dtype=torch.float64), tensor(0.9969, device='cuda:0', dtype=torch.float64), tensor(0.9982, device='cuda:0', dtype=torch.float64), tensor(0.9988, device='cuda:0', dtype=torch.float64), tensor(0.9994, device='cuda:0', dtype=torch.float64), tensor(0.9973, device='cuda:0', dtype=torch.float64)]\n"
          ]
        }
      ]
    },
    {
      "cell_type": "code",
      "metadata": {
        "id": "K4qs1t--JCGm",
        "colab": {
          "base_uri": "https://localhost:8080/"
        },
        "outputId": "6d5cee71-7261-4ad7-80f2-4d104f93d4c3"
      },
      "source": [
        "total_time_train = 0\n",
        "for i in timeLine:  total_time_train += i\n",
        "print(total_time_train)"
      ],
      "execution_count": 17,
      "outputs": [
        {
          "output_type": "stream",
          "name": "stdout",
          "text": [
            "             0\n",
            "0  7737.091309\n"
          ]
        }
      ]
    },
    {
      "cell_type": "code",
      "metadata": {
        "id": "wpFu9d0aJEUH"
      },
      "source": [
        "def test_model(model, criterion, optimizer):\n",
        "    labels_input=list()\n",
        "    labels_output=list()\n",
        "    vid_id = list()\n",
        "    for phase in ['validation']:\n",
        "        model.eval()\n",
        "\n",
        "        for inputs, labels, fname in dataloaders[phase]:\n",
        "            inputs = inputs.to(device)\n",
        "            labels = labels.to(device)\n",
        "            labels_input= labels_input + labels.tolist()\n",
        "            for f in fname:\n",
        "                vid_id.append(f.split('/')[-1].split('.')[0].split('_')[0])\n",
        "            outputs = model(inputs)\n",
        "            \n",
        "            loss = criterion(outputs, labels)\n",
        "            _, preds = torch.max(outputs, 1)\n",
        "            \n",
        "            labels_output= labels_output + preds.tolist()\n",
        "    return labels_input,labels_output,vid_id\n",
        "            \n",
        "y_true,y_pred,vid_id = test_model(model, criterion, optimizer)"
      ],
      "execution_count": 18,
      "outputs": []
    },
    {
      "cell_type": "code",
      "metadata": {
        "id": "-lDNrtpAJGAe",
        "colab": {
          "base_uri": "https://localhost:8080/"
        },
        "outputId": "76b6aafc-43a2-4725-ddaa-3bf17cae231f"
      },
      "source": [
        "from sklearn.metrics import confusion_matrix,accuracy_score,classification_report\n",
        "print(classification_report(y_true,y_pred))\n",
        "accuracy_score(y_true, y_pred)"
      ],
      "execution_count": 19,
      "outputs": [
        {
          "output_type": "stream",
          "name": "stdout",
          "text": [
            "              precision    recall  f1-score   support\n",
            "\n",
            "           0       0.66      1.00      0.79       409\n",
            "           1       0.94      0.84      0.89       367\n",
            "           2       0.99      0.79      0.88       831\n",
            "\n",
            "    accuracy                           0.86      1607\n",
            "   macro avg       0.87      0.88      0.86      1607\n",
            "weighted avg       0.90      0.86      0.86      1607\n",
            "\n"
          ]
        },
        {
          "output_type": "execute_result",
          "data": {
            "text/plain": [
              "0.8556316116988176"
            ]
          },
          "metadata": {},
          "execution_count": 19
        }
      ]
    },
    {
      "cell_type": "code",
      "metadata": {
        "id": "apRDr1fOJHrV"
      },
      "source": [
        "df = pd.DataFrame(list(zip(y_true,y_pred,vid_id)),\n",
        "               columns =['y_true','y_pred','vid_id'])\n",
        "df.to_csv('df.csv',encoding='utf-8',index=False)"
      ],
      "execution_count": 20,
      "outputs": []
    },
    {
      "cell_type": "code",
      "metadata": {
        "id": "0c6Wn6emJKHO",
        "colab": {
          "base_uri": "https://localhost:8080/"
        },
        "outputId": "11112cbd-c0a3-42ae-9de7-c4caf7c52a80"
      },
      "source": [
        "vid_list = list(set(df['vid_id'].values))\n",
        "\n",
        "y_true = []\n",
        "y_pred = []\n",
        "for vid in vid_list:\n",
        "    #print(vid)\n",
        "    tmp_df = df[df['vid_id']==vid]\n",
        "    #print(len(tmp_df))\n",
        "    vid_pred = tmp_df['y_pred'].mode().values[0]\n",
        "    vid_label = tmp_df['y_true'].mode().values[0]\n",
        "    y_true.append(vid_label)\n",
        "    y_pred.append(vid_pred)\n",
        "    #print(vid_label,\"\\n\",vid_pred)\n",
        "    \n",
        "    print('vid: {} label: {} pred: {}'.format(vid,vid_label,vid_pred))"
      ],
      "execution_count": 21,
      "outputs": [
        {
          "output_type": "stream",
          "name": "stdout",
          "text": [
            "vid: 189 label: 1 pred: 1\n",
            "vid: 195 label: 2 pred: 2\n",
            "vid: 170 label: 2 pred: 2\n",
            "vid: 164 label: 2 pred: 2\n",
            "vid: 160 label: 2 pred: 2\n",
            "vid: 166 label: 1 pred: 1\n",
            "vid: 177 label: 0 pred: 0\n",
            "vid: 176 label: 0 pred: 0\n",
            "vid: 165 label: 0 pred: 0\n",
            "vid: 185 label: 1 pred: 0\n",
            "vid: 183 label: 0 pred: 0\n",
            "vid: 168 label: 0 pred: 0\n",
            "vid: 184 label: 2 pred: 2\n",
            "vid: 191 label: 0 pred: 0\n",
            "vid: 190 label: 1 pred: 1\n",
            "vid: 193 label: 2 pred: 0\n",
            "vid: 172 label: 2 pred: 2\n",
            "vid: 158 label: 0 pred: 0\n",
            "vid: 171 label: 0 pred: 0\n",
            "vid: 175 label: 1 pred: 1\n",
            "vid: 188 label: 2 pred: 2\n",
            "vid: 186 label: 1 pred: 1\n",
            "vid: 180 label: 2 pred: 2\n",
            "vid: 192 label: 0 pred: 0\n",
            "vid: 174 label: 1 pred: 1\n",
            "vid: 187 label: 2 pred: 2\n",
            "vid: 181 label: 0 pred: 0\n",
            "vid: 173 label: 2 pred: 2\n",
            "vid: 161 label: 1 pred: 1\n",
            "vid: 182 label: 2 pred: 2\n",
            "vid: 162 label: 1 pred: 1\n",
            "vid: 157 label: 1 pred: 1\n",
            "vid: 167 label: 2 pred: 2\n",
            "vid: 194 label: 1 pred: 0\n",
            "vid: 169 label: 0 pred: 0\n",
            "vid: 178 label: 0 pred: 0\n",
            "vid: 179 label: 1 pred: 0\n",
            "vid: 159 label: 1 pred: 1\n",
            "vid: 163 label: 2 pred: 2\n"
          ]
        }
      ]
    },
    {
      "cell_type": "code",
      "metadata": {
        "id": "gEudiACgJMDX",
        "colab": {
          "base_uri": "https://localhost:8080/"
        },
        "outputId": "bdbcfd23-1d4c-4284-d84e-797c29eb4ed0"
      },
      "source": [
        "accuracy_score(y_true,y_pred)"
      ],
      "execution_count": 22,
      "outputs": [
        {
          "output_type": "execute_result",
          "data": {
            "text/plain": [
              "0.8974358974358975"
            ]
          },
          "metadata": {},
          "execution_count": 22
        }
      ]
    }
  ]
}