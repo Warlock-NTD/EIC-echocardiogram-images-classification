{
  "nbformat": 4,
  "nbformat_minor": 0,
  "metadata": {
    "colab": {
      "name": "ResNet_152_augmentation_rescale_128x128.ipynb",
      "provenance": [],
      "collapsed_sections": []
    },
    "kernelspec": {
      "name": "python3",
      "display_name": "Python 3"
    },
    "language_info": {
      "name": "python"
    },
    "accelerator": "GPU"
  },
  "cells": [
    {
      "cell_type": "code",
      "metadata": {
        "id": "pdv7z0IOHs8N"
      },
      "source": [
        "from __future__ import print_function, division\n",
        "import os\n",
        "import torch\n",
        "import pandas as pd\n",
        "from skimage import io, transform\n",
        "import numpy as np\n",
        "import matplotlib.pyplot as plt\n",
        "from torch.utils.data import Dataset, DataLoader\n",
        "from torchvision import transforms, utils, datasets\n",
        "import torch.nn as nn\n",
        "from torch.nn import functional as F\n",
        "import torch.optim as optim"
      ],
      "execution_count": null,
      "outputs": []
    },
    {
      "cell_type": "code",
      "metadata": {
        "id": "IQhg9qJ2H0Ni"
      },
      "source": [
        "input_path = \"../content/DATA_CHAMBER_2021/\"\n",
        "device = torch.device('cuda' if torch.cuda.is_available() else 'cpu')"
      ],
      "execution_count": null,
      "outputs": []
    },
    {
      "cell_type": "code",
      "metadata": {
        "id": "PCiPYTusH27Z",
        "colab": {
          "base_uri": "https://localhost:8080/"
        },
        "outputId": "72000b4f-5c72-421e-f27a-5bed2c8edf77"
      },
      "source": [
        "from google.colab import drive\n",
        "drive.mount('/content/drive')"
      ],
      "execution_count": null,
      "outputs": [
        {
          "output_type": "stream",
          "name": "stdout",
          "text": [
            "Mounted at /content/drive\n"
          ]
        }
      ]
    },
    {
      "cell_type": "code",
      "metadata": {
        "id": "d6v83PedH46d"
      },
      "source": [
        "!unzip -uq \"/content/drive/My Drive/DATA_CHAMBER_2021.zip\" -d \"./\""
      ],
      "execution_count": null,
      "outputs": []
    },
    {
      "cell_type": "code",
      "metadata": {
        "id": "h_0MJ-lpIA3e"
      },
      "source": [
        "class ImageFolderWithPaths(datasets.ImageFolder):\n",
        "\n",
        "    # called by dataloaders\n",
        "    def __getitem__(self, index):\n",
        "        original_tuple = super(ImageFolderWithPaths, self).__getitem__(index)\n",
        "        # the image file path\n",
        "        path = self.imgs[index][0]\n",
        "        tuple_with_path = (original_tuple + (path,))\n",
        "        return tuple_with_path"
      ],
      "execution_count": null,
      "outputs": []
    },
    {
      "cell_type": "code",
      "metadata": {
        "id": "Cr2yCjaOIBjd"
      },
      "source": [
        "preprocess = {\n",
        "    'train':\n",
        "    transforms.Compose([\n",
        "        transforms.Resize(128),\n",
        "        transforms.CenterCrop(224),\n",
        "        # transforms.RandomHorizontalFlip(),\n",
        "        transforms.ToTensor(),\n",
        "        transforms.Normalize(mean=[0.485, 0.456, 0.406], std=[0.229, 0.224, 0.225]),\n",
        "    ]),\n",
        "    'validation':\n",
        "    transforms.Compose([\n",
        "        transforms.Resize(128),\n",
        "        transforms.CenterCrop(224),\n",
        "        transforms.RandomHorizontalFlip(),\n",
        "        transforms.ToTensor(),\n",
        "        transforms.Normalize(mean=[0.485, 0.456, 0.406], std=[0.229, 0.224, 0.225]),\n",
        "    ]),\n",
        "}\n",
        "\n",
        "image_datasets = {\n",
        "    'train': \n",
        "    ImageFolderWithPaths(input_path + 'train', preprocess['train']),\n",
        "    'validation': \n",
        "    ImageFolderWithPaths(input_path + 'test', preprocess['validation'])\n",
        "}\n",
        "dataset_sizes = {x: len(image_datasets[x]) for x in ['train','validation']}\n",
        "\n",
        "dataloaders = {\n",
        "    'train':\n",
        "    torch.utils.data.DataLoader(image_datasets['train'],\n",
        "                                batch_size=16,\n",
        "                                shuffle=True,\n",
        "                                num_workers=2, pin_memory=True),\n",
        "    'validation':\n",
        "    torch.utils.data.DataLoader(image_datasets['validation'],\n",
        "                                batch_size=16,\n",
        "                                shuffle=True,\n",
        "                                num_workers=2, pin_memory=True)\n",
        "}"
      ],
      "execution_count": null,
      "outputs": []
    },
    {
      "cell_type": "code",
      "metadata": {
        "id": "uFSwql2pIN0j",
        "colab": {
          "base_uri": "https://localhost:8080/"
        },
        "outputId": "1e81d0ae-27a3-4643-9e87-733549a65892"
      },
      "source": [
        "model = torch.hub.load('pytorch/vision:v0.10.0', 'resnet152', pretrained=False)\n",
        "model.fc = nn.Linear(2048, 3)\n",
        "# fine tuning"
      ],
      "execution_count": null,
      "outputs": [
        {
          "output_type": "stream",
          "name": "stderr",
          "text": [
            "Downloading: \"https://github.com/pytorch/vision/archive/v0.10.0.zip\" to /root/.cache/torch/hub/v0.10.0.zip\n"
          ]
        }
      ]
    },
    {
      "cell_type": "code",
      "metadata": {
        "id": "xhJQ68KDImf4"
      },
      "source": [
        "import torchvision\n",
        "from torch.autograd import Variable\n",
        "import time\n",
        "from PIL import Image\n",
        "from torchvision import transforms"
      ],
      "execution_count": null,
      "outputs": []
    },
    {
      "cell_type": "code",
      "metadata": {
        "id": "4P8h7vtcIop3"
      },
      "source": [
        "criterion = nn.CrossEntropyLoss()\n",
        "optimizer = optim.SGD(model.parameters(), lr=0.001,momentum=0.9)"
      ],
      "execution_count": null,
      "outputs": []
    },
    {
      "cell_type": "code",
      "metadata": {
        "id": "myouMo7mIsKT"
      },
      "source": [
        "# t0 = time.time()\n",
        "# print('{} seconds'.format(time.time() - t0)\n",
        "epochLine = [1, 2, 3, 4, 5, 6, 7, 8, 9, 10, 11, 12, 13, 14, 15, 16, 17, 18, 19, 20]"
      ],
      "execution_count": null,
      "outputs": []
    },
    {
      "cell_type": "code",
      "metadata": {
        "id": "qWFyi0X9IvWO"
      },
      "source": [
        "def train_model(model, criterion, optimizer, num_epochs=1):\n",
        "    train_batches = len(dataloaders['train'])\n",
        "    lossLine = []\n",
        "    accLine = []\n",
        "    timeLine = []\n",
        "    for epoch in range(num_epochs):\n",
        "        print('-' * 40)\n",
        "        print('Epoch {}/{}'.format(epoch+1, num_epochs))\n",
        "        print('-' * 20)\n",
        "        t0 = time.time()\n",
        "\n",
        "        for phase in ['train']:\n",
        "            if phase == 'train':\n",
        "                model.train()\n",
        "            else:\n",
        "                model.eval()\n",
        "\n",
        "            training_loss = 0.0\n",
        "            training_corrects = 0\n",
        "\n",
        "            for i,data in enumerate(dataloaders[phase]):\n",
        "                inputs, labels,_ = data\n",
        "                print(\"\\rTraining batch {}/{}\".format(i+1, train_batches), end='', flush=True)\n",
        "                inputs = inputs.to(device)\n",
        "                labels = labels.to(device)\n",
        "\n",
        "                outputs = model(inputs)\n",
        "                loss = criterion(outputs, labels)\n",
        "                # loss.requires_grad = True\n",
        "\n",
        "                if phase == 'train':\n",
        "                    optimizer.zero_grad()\n",
        "                    loss.backward()\n",
        "                    optimizer.step()\n",
        "\n",
        "                _, preds = torch.max(outputs, 1)\n",
        "                training_loss += loss.item() * inputs.size(0)\n",
        "                training_corrects += torch.sum(preds == labels.data)\n",
        "\n",
        "            epoch_loss = training_loss / len(image_datasets[phase])\n",
        "            lossLine.append(epoch_loss)\n",
        "            epoch_acc = training_corrects.double() / len(image_datasets[phase])\n",
        "            accLine.append(epoch_acc)\n",
        "\n",
        "            print('{} loss: {:.4f}, acc: {:.4f}'.format(phase,\n",
        "                                                        epoch_loss,\n",
        "                                                        epoch_acc))\n",
        "            t1 = time.time()\n",
        "            t = t1 - t0\n",
        "            print('Duration :{} seconds'.format(t))\n",
        "            ts = pd.DataFrame([t]).apply(np.float32)\n",
        "            timeLine.append(ts)\n",
        "    return model, lossLine, accLine, timeLine"
      ],
      "execution_count": null,
      "outputs": []
    },
    {
      "cell_type": "code",
      "metadata": {
        "id": "PucT0w7SIwCG",
        "colab": {
          "base_uri": "https://localhost:8080/"
        },
        "outputId": "58df2ac8-30c1-439d-99eb-a3a10e4e02ba"
      },
      "source": [
        "model = model.to(device)\n",
        "model_trained, lossLine, accLine, timeLine = train_model(model, criterion, optimizer, num_epochs=20)"
      ],
      "execution_count": null,
      "outputs": [
        {
          "output_type": "stream",
          "name": "stdout",
          "text": [
            "----------------------------------------\n",
            "Epoch 1/20\n",
            "--------------------\n",
            "Training batch 420/420train loss: 0.9406, acc: 0.5754\n",
            "Duration :390.6922845840454 seconds\n",
            "----------------------------------------\n",
            "Epoch 2/20\n",
            "--------------------\n",
            "Training batch 420/420train loss: 0.1304, acc: 0.9546\n",
            "Duration :390.04001569747925 seconds\n",
            "----------------------------------------\n",
            "Epoch 3/20\n",
            "--------------------\n",
            "Training batch 420/420train loss: 0.0373, acc: 0.9887\n",
            "Duration :390.43662571907043 seconds\n",
            "----------------------------------------\n",
            "Epoch 4/20\n",
            "--------------------\n",
            "Training batch 420/420train loss: 0.0283, acc: 0.9902\n",
            "Duration :389.2017722129822 seconds\n",
            "----------------------------------------\n",
            "Epoch 5/20\n",
            "--------------------\n",
            "Training batch 420/420train loss: 0.0254, acc: 0.9917\n",
            "Duration :388.88724756240845 seconds\n",
            "----------------------------------------\n",
            "Epoch 6/20\n",
            "--------------------\n",
            "Training batch 420/420train loss: 0.0158, acc: 0.9939\n",
            "Duration :389.92434906959534 seconds\n",
            "----------------------------------------\n",
            "Epoch 7/20\n",
            "--------------------\n",
            "Training batch 420/420train loss: 0.0034, acc: 0.9990\n",
            "Duration :390.2109708786011 seconds\n",
            "----------------------------------------\n",
            "Epoch 8/20\n",
            "--------------------\n",
            "Training batch 420/420train loss: 0.0084, acc: 0.9973\n",
            "Duration :390.6615650653839 seconds\n",
            "----------------------------------------\n",
            "Epoch 9/20\n",
            "--------------------\n",
            "Training batch 420/420train loss: 0.0056, acc: 0.9984\n",
            "Duration :390.03713941574097 seconds\n",
            "----------------------------------------\n",
            "Epoch 10/20\n",
            "--------------------\n",
            "Training batch 420/420train loss: 0.0115, acc: 0.9960\n",
            "Duration :387.9436717033386 seconds\n",
            "----------------------------------------\n",
            "Epoch 11/20\n",
            "--------------------\n",
            "Training batch 420/420train loss: 0.0079, acc: 0.9963\n",
            "Duration :388.0412676334381 seconds\n",
            "----------------------------------------\n",
            "Epoch 12/20\n",
            "--------------------\n",
            "Training batch 420/420train loss: 0.0050, acc: 0.9979\n",
            "Duration :389.103387594223 seconds\n",
            "----------------------------------------\n",
            "Epoch 13/20\n",
            "--------------------\n",
            "Training batch 420/420train loss: 0.0020, acc: 0.9996\n",
            "Duration :389.3604199886322 seconds\n",
            "----------------------------------------\n",
            "Epoch 14/20\n",
            "--------------------\n",
            "Training batch 420/420train loss: 0.0020, acc: 0.9993\n",
            "Duration :389.2586214542389 seconds\n",
            "----------------------------------------\n",
            "Epoch 15/20\n",
            "--------------------\n",
            "Training batch 420/420train loss: 0.0035, acc: 0.9993\n",
            "Duration :389.3481767177582 seconds\n",
            "----------------------------------------\n",
            "Epoch 16/20\n",
            "--------------------\n",
            "Training batch 420/420train loss: 0.0008, acc: 0.9997\n",
            "Duration :389.083372592926 seconds\n",
            "----------------------------------------\n",
            "Epoch 17/20\n",
            "--------------------\n",
            "Training batch 420/420train loss: 0.0010, acc: 0.9999\n",
            "Duration :389.4704854488373 seconds\n",
            "----------------------------------------\n",
            "Epoch 18/20\n",
            "--------------------\n",
            "Training batch 420/420train loss: 0.0003, acc: 1.0000\n",
            "Duration :389.5205852985382 seconds\n",
            "----------------------------------------\n",
            "Epoch 19/20\n",
            "--------------------\n",
            "Training batch 420/420train loss: 0.0002, acc: 1.0000\n",
            "Duration :389.58159470558167 seconds\n",
            "----------------------------------------\n",
            "Epoch 20/20\n",
            "--------------------\n",
            "Training batch 420/420train loss: 0.0002, acc: 1.0000\n",
            "Duration :389.357622385025 seconds\n"
          ]
        }
      ]
    },
    {
      "cell_type": "code",
      "metadata": {
        "id": "jctYdKjiI2gG",
        "colab": {
          "base_uri": "https://localhost:8080/",
          "height": 295
        },
        "outputId": "bcb8dedc-5019-4c4a-ada5-991fa55e7e70"
      },
      "source": [
        "plt.plot(epochLine, lossLine, label=\"Loss\")\n",
        "plt.plot()\n",
        "\n",
        "plt.xlabel(\"Epochs\")\n",
        "plt.ylabel(\"Loss rate\")\n",
        "plt.title(\"ResNet 152 Loss per Epoch\")\n",
        "plt.legend()\n",
        "plt.show()"
      ],
      "execution_count": null,
      "outputs": [
        {
          "output_type": "display_data",
          "data": {
            "image/png": "[encoded data removed]",
            "text/plain": [
              "<Figure size 432x288 with 1 Axes>"
            ]
          },
          "metadata": {
            "needs_background": "light"
          }
        }
      ]
    },
    {
      "cell_type": "code",
      "metadata": {
        "id": "M2rsHGoITR_e",
        "colab": {
          "base_uri": "https://localhost:8080/"
        },
        "outputId": "ec6a99d0-9206-46cc-fa80-302f521d6c99"
      },
      "source": [
        "print(lossLine)"
      ],
      "execution_count": null,
      "outputs": [
        {
          "output_type": "stream",
          "name": "stdout",
          "text": [
            "[0.9405980905429476, 0.13036628807060896, 0.03726852970232183, 0.028270627168738304, 0.025361051883020097, 0.015833893353927268, 0.003399740776182066, 0.008355743744410029, 0.0056338272721794475, 0.011548024739879353, 0.007857127626733584, 0.005038741613607564, 0.0020200146544266397, 0.0020451913375409006, 0.0034996402185583993, 0.0008299021277583354, 0.0009510575187415471, 0.0003499492632512314, 0.0002028737185645327, 0.00018473239846207272]\n"
          ]
        }
      ]
    },
    {
      "cell_type": "code",
      "metadata": {
        "id": "GuABUMsZI68e",
        "colab": {
          "base_uri": "https://localhost:8080/",
          "height": 295
        },
        "outputId": "41a4bff3-df91-4c16-a8dd-3fda5f02e159"
      },
      "source": [
        "plt.plot(epochLine, accLine, label=\"Accuracy\")\n",
        "plt.plot()\n",
        "\n",
        "plt.xlabel(\"Epochs\")\n",
        "plt.ylabel(\"Accuracy rate\")\n",
        "plt.title(\"ResNet 152 Accurate per Epoch\")\n",
        "plt.legend()\n",
        "plt.show()"
      ],
      "execution_count": null,
      "outputs": [
        {
          "output_type": "display_data",
          "data": {
            "image/png": "[encoded data removed]",
            "text/plain": [
              "<Figure size 432x288 with 1 Axes>"
            ]
          },
          "metadata": {
            "needs_background": "light"
          }
        }
      ]
    },
    {
      "cell_type": "code",
      "metadata": {
        "id": "Vg7OSQnETTvy",
        "colab": {
          "base_uri": "https://localhost:8080/"
        },
        "outputId": "5a3b175c-8eaa-4d8f-c7e0-9ab0c4af7c51"
      },
      "source": [
        "print(accLine)"
      ],
      "execution_count": null,
      "outputs": [
        {
          "output_type": "stream",
          "name": "stdout",
          "text": [
            "[tensor(0.5754, device='cuda:0', dtype=torch.float64), tensor(0.9546, device='cuda:0', dtype=torch.float64), tensor(0.9887, device='cuda:0', dtype=torch.float64), tensor(0.9902, device='cuda:0', dtype=torch.float64), tensor(0.9917, device='cuda:0', dtype=torch.float64), tensor(0.9939, device='cuda:0', dtype=torch.float64), tensor(0.9990, device='cuda:0', dtype=torch.float64), tensor(0.9973, device='cuda:0', dtype=torch.float64), tensor(0.9984, device='cuda:0', dtype=torch.float64), tensor(0.9960, device='cuda:0', dtype=torch.float64), tensor(0.9963, device='cuda:0', dtype=torch.float64), tensor(0.9979, device='cuda:0', dtype=torch.float64), tensor(0.9996, device='cuda:0', dtype=torch.float64), tensor(0.9993, device='cuda:0', dtype=torch.float64), tensor(0.9993, device='cuda:0', dtype=torch.float64), tensor(0.9997, device='cuda:0', dtype=torch.float64), tensor(0.9999, device='cuda:0', dtype=torch.float64), tensor(1., device='cuda:0', dtype=torch.float64), tensor(1., device='cuda:0', dtype=torch.float64), tensor(1., device='cuda:0', dtype=torch.float64)]\n"
          ]
        }
      ]
    },
    {
      "cell_type": "code",
      "metadata": {
        "id": "K4qs1t--JCGm",
        "colab": {
          "base_uri": "https://localhost:8080/"
        },
        "outputId": "18450094-3e0f-4e4f-f03c-e58f8947b751"
      },
      "source": [
        "total_time_train = 0\n",
        "for i in timeLine:  total_time_train += i\n",
        "print(total_time_train)"
      ],
      "execution_count": null,
      "outputs": [
        {
          "output_type": "stream",
          "name": "stdout",
          "text": [
            "             0\n",
            "0  7790.161621\n"
          ]
        }
      ]
    },
    {
      "cell_type": "code",
      "metadata": {
        "id": "wpFu9d0aJEUH"
      },
      "source": [
        "def test_model(model, criterion, optimizer):\n",
        "    labels_input=list()\n",
        "    labels_output=list()\n",
        "    vid_id = list()\n",
        "    for phase in ['validation']:\n",
        "        model.eval()\n",
        "\n",
        "        for inputs, labels, fname in dataloaders[phase]:\n",
        "            inputs = inputs.to(device)\n",
        "            labels = labels.to(device)\n",
        "            labels_input= labels_input + labels.tolist()\n",
        "            for f in fname:\n",
        "                vid_id.append(f.split('/')[-1].split('.')[0].split('_')[0])\n",
        "            outputs = model(inputs)\n",
        "            \n",
        "            loss = criterion(outputs, labels)\n",
        "            _, preds = torch.max(outputs, 1)\n",
        "            \n",
        "            labels_output= labels_output + preds.tolist()\n",
        "    return labels_input,labels_output,vid_id\n",
        "            \n",
        "y_true,y_pred,vid_id = test_model(model, criterion, optimizer)"
      ],
      "execution_count": null,
      "outputs": []
    },
    {
      "cell_type": "code",
      "metadata": {
        "id": "-lDNrtpAJGAe",
        "colab": {
          "base_uri": "https://localhost:8080/"
        },
        "outputId": "1e15d5ae-67d5-40fe-a1c6-f288c249db01"
      },
      "source": [
        "from sklearn.metrics import confusion_matrix,accuracy_score,classification_report\n",
        "print(classification_report(y_true,y_pred))\n",
        "accuracy_score(y_true, y_pred)"
      ],
      "execution_count": null,
      "outputs": [
        {
          "output_type": "stream",
          "name": "stdout",
          "text": [
            "              precision    recall  f1-score   support\n",
            "\n",
            "           0       0.72      0.60      0.65       409\n",
            "           1       0.35      0.53      0.42       367\n",
            "           2       0.60      0.52      0.56       831\n",
            "\n",
            "    accuracy                           0.54      1607\n",
            "   macro avg       0.56      0.55      0.54      1607\n",
            "weighted avg       0.57      0.54      0.55      1607\n",
            "\n"
          ]
        },
        {
          "output_type": "execute_result",
          "data": {
            "text/plain": [
              "0.5401369010578718"
            ]
          },
          "metadata": {},
          "execution_count": 19
        }
      ]
    },
    {
      "cell_type": "code",
      "metadata": {
        "id": "apRDr1fOJHrV"
      },
      "source": [
        "df = pd.DataFrame(list(zip(y_true,y_pred,vid_id)),\n",
        "               columns =['y_true','y_pred','vid_id'])\n",
        "df.to_csv('df.csv',encoding='utf-8',index=False)"
      ],
      "execution_count": null,
      "outputs": []
    },
    {
      "cell_type": "code",
      "metadata": {
        "id": "0c6Wn6emJKHO",
        "colab": {
          "base_uri": "https://localhost:8080/"
        },
        "outputId": "97193053-b7cf-4a80-f30d-240a57ff1b78"
      },
      "source": [
        "vid_list = list(set(df['vid_id'].values))\n",
        "\n",
        "y_true = []\n",
        "y_pred = []\n",
        "for vid in vid_list:\n",
        "    #print(vid)\n",
        "    tmp_df = df[df['vid_id']==vid]\n",
        "    #print(len(tmp_df))\n",
        "    vid_pred = tmp_df['y_pred'].mode().values[0]\n",
        "    vid_label = tmp_df['y_true'].mode().values[0]\n",
        "    y_true.append(vid_label)\n",
        "    y_pred.append(vid_pred)\n",
        "    #print(vid_label,\"\\n\",vid_pred)\n",
        "    \n",
        "    print('vid: {} label: {} pred: {}'.format(vid,vid_label,vid_pred))"
      ],
      "execution_count": null,
      "outputs": [
        {
          "output_type": "stream",
          "name": "stdout",
          "text": [
            "vid: 168 label: 0 pred: 0\n",
            "vid: 157 label: 1 pred: 1\n",
            "vid: 162 label: 1 pred: 2\n",
            "vid: 163 label: 2 pred: 1\n",
            "vid: 186 label: 1 pred: 1\n",
            "vid: 173 label: 2 pred: 2\n",
            "vid: 182 label: 2 pred: 2\n",
            "vid: 180 label: 2 pred: 1\n",
            "vid: 195 label: 2 pred: 1\n",
            "vid: 167 label: 2 pred: 2\n",
            "vid: 183 label: 0 pred: 0\n",
            "vid: 159 label: 1 pred: 2\n",
            "vid: 191 label: 0 pred: 0\n",
            "vid: 160 label: 2 pred: 2\n",
            "vid: 192 label: 0 pred: 0\n",
            "vid: 187 label: 2 pred: 1\n",
            "vid: 179 label: 1 pred: 0\n",
            "vid: 171 label: 0 pred: 0\n",
            "vid: 172 label: 2 pred: 1\n",
            "vid: 178 label: 0 pred: 0\n",
            "vid: 169 label: 0 pred: 0\n",
            "vid: 193 label: 2 pred: 1\n",
            "vid: 177 label: 0 pred: 0\n",
            "vid: 175 label: 1 pred: 1\n",
            "vid: 170 label: 2 pred: 2\n",
            "vid: 190 label: 1 pred: 2\n",
            "vid: 166 label: 1 pred: 2\n",
            "vid: 184 label: 2 pred: 2\n",
            "vid: 188 label: 2 pred: 2\n",
            "vid: 185 label: 1 pred: 1\n",
            "vid: 164 label: 2 pred: 1\n",
            "vid: 189 label: 1 pred: 2\n",
            "vid: 158 label: 0 pred: 2\n",
            "vid: 165 label: 0 pred: 0\n",
            "vid: 176 label: 0 pred: 0\n",
            "vid: 194 label: 1 pred: 2\n",
            "vid: 174 label: 1 pred: 1\n",
            "vid: 181 label: 0 pred: 0\n",
            "vid: 161 label: 1 pred: 2\n"
          ]
        }
      ]
    },
    {
      "cell_type": "code",
      "metadata": {
        "id": "gEudiACgJMDX",
        "colab": {
          "base_uri": "https://localhost:8080/"
        },
        "outputId": "df94036d-e848-4833-90d8-f2f6133a0e0f"
      },
      "source": [
        "accuracy_score(y_true,y_pred)"
      ],
      "execution_count": null,
      "outputs": [
        {
          "output_type": "execute_result",
          "data": {
            "text/plain": [
              "0.5897435897435898"
            ]
          },
          "metadata": {},
          "execution_count": 22
        }
      ]
    }
  ]
}