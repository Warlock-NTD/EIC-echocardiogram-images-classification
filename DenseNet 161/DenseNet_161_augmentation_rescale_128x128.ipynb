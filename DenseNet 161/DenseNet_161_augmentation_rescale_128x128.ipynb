{
  "nbformat": 4,
  "nbformat_minor": 0,
  "metadata": {
    "colab": {
      "name": "DenseNet_161_augmentation_rescale_128x128.ipynb",
      "provenance": [],
      "collapsed_sections": []
    },
    "kernelspec": {
      "name": "python3",
      "display_name": "Python 3"
    },
    "language_info": {
      "name": "python"
    },
    "accelerator": "GPU"
  },
  "cells": [
    {
      "cell_type": "code",
      "metadata": {
        "id": "wPUKl22b6kh1"
      },
      "source": [
        "from __future__ import print_function, division\n",
        "import os\n",
        "import torch\n",
        "import pandas as pd\n",
        "from skimage import io, transform\n",
        "import numpy as np\n",
        "import matplotlib.pyplot as plt\n",
        "from torch.utils.data import Dataset, DataLoader\n",
        "from torchvision import transforms, utils, datasets\n",
        "import torch.nn as nn\n",
        "from torch.nn import functional as F\n",
        "import torch.optim as optim\n"
      ],
      "execution_count": 1,
      "outputs": []
    },
    {
      "cell_type": "code",
      "metadata": {
        "id": "ACF91y2h7I3n"
      },
      "source": [
        "input_path = \"../content/DATA_CHAMBER_2021/\"\n",
        "device = torch.device('cuda' if torch.cuda.is_available() else 'cpu')"
      ],
      "execution_count": 2,
      "outputs": []
    },
    {
      "cell_type": "code",
      "metadata": {
        "colab": {
          "base_uri": "https://localhost:8080/"
        },
        "id": "EnriaaPo7LPC",
        "outputId": "589e5efc-069b-4f85-e226-7405a676c76c"
      },
      "source": [
        "from google.colab import drive\n",
        "drive.mount('/content/drive')"
      ],
      "execution_count": 3,
      "outputs": [
        {
          "output_type": "stream",
          "name": "stdout",
          "text": [
            "Mounted at /content/drive\n"
          ]
        }
      ]
    },
    {
      "cell_type": "code",
      "metadata": {
        "id": "_vf64t6V7TlO"
      },
      "source": [
        "!unzip -uq \"/content/drive/My Drive/DATA_CHAMBER_2021.zip\" -d \"./\""
      ],
      "execution_count": 4,
      "outputs": []
    },
    {
      "cell_type": "code",
      "metadata": {
        "id": "blS1ZYET7Vq-"
      },
      "source": [
        "class ImageFolderWithPaths(datasets.ImageFolder):\n",
        "\n",
        "    # called by dataloaders\n",
        "    def __getitem__(self, index):\n",
        "        original_tuple = super(ImageFolderWithPaths, self).__getitem__(index)\n",
        "        # the image file path\n",
        "        path = self.imgs[index][0]\n",
        "        tuple_with_path = (original_tuple + (path,))\n",
        "        return tuple_with_path"
      ],
      "execution_count": 5,
      "outputs": []
    },
    {
      "cell_type": "code",
      "metadata": {
        "id": "asfnr77P7Zpm"
      },
      "source": [
        "preprocess = {\n",
        "    'train':\n",
        "    transforms.Compose([\n",
        "        transforms.Resize(128),\n",
        "        transforms.CenterCrop(224),\n",
        "        # transforms.RandomHorizontalFlip(),\n",
        "        transforms.ToTensor(),\n",
        "        transforms.Normalize(mean=[0.485, 0.456, 0.406], std=[0.229, 0.224, 0.225]),\n",
        "    ]),\n",
        "    'validation':\n",
        "    transforms.Compose([\n",
        "        transforms.Resize(128),\n",
        "        transforms.CenterCrop(224),\n",
        "        transforms.RandomHorizontalFlip(),\n",
        "        transforms.ToTensor(),\n",
        "        transforms.Normalize(mean=[0.485, 0.456, 0.406], std=[0.229, 0.224, 0.225]),\n",
        "    ]),\n",
        "}\n",
        "\n",
        "image_datasets = {\n",
        "    'train': \n",
        "    ImageFolderWithPaths(input_path + 'train', preprocess['train']),\n",
        "    'validation': \n",
        "    ImageFolderWithPaths(input_path + 'test', preprocess['validation'])\n",
        "}\n",
        "dataset_sizes = {x: len(image_datasets[x]) for x in ['train','validation']}\n",
        "\n",
        "dataloaders = {\n",
        "    'train':\n",
        "    torch.utils.data.DataLoader(image_datasets['train'],\n",
        "                                batch_size=8,\n",
        "                                shuffle=True,\n",
        "                                num_workers=2, pin_memory=True),\n",
        "    'validation':\n",
        "    torch.utils.data.DataLoader(image_datasets['validation'],\n",
        "                                batch_size=8,\n",
        "                                shuffle=True,\n",
        "                                num_workers=2, pin_memory=True)\n",
        "}"
      ],
      "execution_count": 6,
      "outputs": []
    },
    {
      "cell_type": "code",
      "metadata": {
        "colab": {
          "base_uri": "https://localhost:8080/"
        },
        "id": "Fvf3jpEP74NT",
        "outputId": "6a0844b1-112d-41e7-f5ff-3ea3654fabab"
      },
      "source": [
        "model = torch.hub.load('pytorch/vision:v0.10.0', 'densenet161', pretrained=False)\n",
        "model.classifier = nn.Linear(2208, 3)\n",
        "# fine tuning"
      ],
      "execution_count": 7,
      "outputs": [
        {
          "output_type": "stream",
          "name": "stderr",
          "text": [
            "Downloading: \"https://github.com/pytorch/vision/archive/v0.10.0.zip\" to /root/.cache/torch/hub/v0.10.0.zip\n"
          ]
        }
      ]
    },
    {
      "cell_type": "code",
      "metadata": {
        "id": "BXZxD6Ba8jhn"
      },
      "source": [
        "import torchvision\n",
        "from torch.autograd import Variable\n",
        "import time\n",
        "from PIL import Image\n",
        "from torchvision import transforms"
      ],
      "execution_count": 8,
      "outputs": []
    },
    {
      "cell_type": "code",
      "metadata": {
        "id": "-XYJVnUt9qCV"
      },
      "source": [
        "criterion = nn.CrossEntropyLoss()\n",
        "optimizer = optim.SGD(model.parameters(), lr=0.001,momentum=0.9)"
      ],
      "execution_count": 9,
      "outputs": []
    },
    {
      "cell_type": "code",
      "metadata": {
        "id": "VW8_KkBY8tgK"
      },
      "source": [
        "# t0 = time.time()\n",
        "# print('{} seconds'.format(time.time() - t0)\n",
        "epochLine = [1, 2, 3, 4, 5, 6, 7, 8, 9, 10, 11, 12, 13, 14, 15, 16, 17, 18, 19, 20]"
      ],
      "execution_count": 10,
      "outputs": []
    },
    {
      "cell_type": "code",
      "metadata": {
        "id": "sTIiMqYL80aM"
      },
      "source": [
        "def train_model(model, criterion, optimizer, num_epochs=1):\n",
        "    train_batches = len(dataloaders['train'])\n",
        "    lossLine = []\n",
        "    accLine = []\n",
        "    timeLine = []\n",
        "    for epoch in range(num_epochs):\n",
        "        print('-' * 40)\n",
        "        print('Epoch {}/{}'.format(epoch+1, num_epochs))\n",
        "        print('-' * 20)\n",
        "        t0 = time.time()\n",
        "\n",
        "        for phase in ['train']:\n",
        "            if phase == 'train':\n",
        "                model.train()\n",
        "            else:\n",
        "                model.eval()\n",
        "\n",
        "            training_loss = 0.0\n",
        "            training_corrects = 0\n",
        "\n",
        "            for i,data in enumerate(dataloaders[phase]):\n",
        "                inputs, labels,_ = data\n",
        "                print(\"\\rTraining batch {}/{}\".format(i+1, train_batches), end='', flush=True)\n",
        "                inputs = inputs.to(device)\n",
        "                labels = labels.to(device)\n",
        "\n",
        "                outputs = model(inputs)\n",
        "                loss = criterion(outputs, labels)\n",
        "                # loss.requires_grad = True\n",
        "\n",
        "                if phase == 'train':\n",
        "                    optimizer.zero_grad()\n",
        "                    loss.backward()\n",
        "                    optimizer.step()\n",
        "\n",
        "                _, preds = torch.max(outputs, 1)\n",
        "                training_loss += loss.item() * inputs.size(0)\n",
        "                training_corrects += torch.sum(preds == labels.data)\n",
        "\n",
        "            epoch_loss = training_loss / len(image_datasets[phase])\n",
        "            lossLine.append(epoch_loss)\n",
        "            epoch_acc = training_corrects.double() / len(image_datasets[phase])\n",
        "            accLine.append(epoch_acc)\n",
        "\n",
        "            print('{} loss: {:.4f}, acc: {:.4f}'.format(phase,\n",
        "                                                        epoch_loss,\n",
        "                                                        epoch_acc))\n",
        "            t1 = time.time()\n",
        "            t = t1 - t0\n",
        "            print('Duration :{} seconds'.format(t))\n",
        "            ts = pd.DataFrame([t]).apply(np.float32)\n",
        "            timeLine.append(ts)\n",
        "    return model, lossLine, accLine, timeLine"
      ],
      "execution_count": 11,
      "outputs": []
    },
    {
      "cell_type": "code",
      "metadata": {
        "id": "qYiMVO-m-kBq"
      },
      "source": [
        "model = model.to(device)"
      ],
      "execution_count": 12,
      "outputs": []
    },
    {
      "cell_type": "code",
      "metadata": {
        "colab": {
          "base_uri": "https://localhost:8080/"
        },
        "id": "BeSeEU7r9hl2",
        "outputId": "aa8f6b1e-cb39-481a-d443-bbd357d6aa91"
      },
      "source": [
        "model_trained, lossLine, accLine, timeLine = train_model(model, criterion, optimizer, num_epochs=20)"
      ],
      "execution_count": 13,
      "outputs": [
        {
          "output_type": "stream",
          "name": "stdout",
          "text": [
            "----------------------------------------\n",
            "Epoch 1/20\n",
            "--------------------\n",
            "Training batch 840/840train loss: 0.4798, acc: 0.7932\n",
            "Duration :529.7572174072266 seconds\n",
            "----------------------------------------\n",
            "Epoch 2/20\n",
            "--------------------\n",
            "Training batch 840/840train loss: 0.0842, acc: 0.9757\n",
            "Duration :528.0282526016235 seconds\n",
            "----------------------------------------\n",
            "Epoch 3/20\n",
            "--------------------\n",
            "Training batch 840/840train loss: 0.0474, acc: 0.9854\n",
            "Duration :528.3708910942078 seconds\n",
            "----------------------------------------\n",
            "Epoch 4/20\n",
            "--------------------\n",
            "Training batch 840/840train loss: 0.0354, acc: 0.9893\n",
            "Duration :528.6466498374939 seconds\n",
            "----------------------------------------\n",
            "Epoch 5/20\n",
            "--------------------\n",
            "Training batch 840/840train loss: 0.0219, acc: 0.9942\n",
            "Duration :528.5488479137421 seconds\n",
            "----------------------------------------\n",
            "Epoch 6/20\n",
            "--------------------\n",
            "Training batch 840/840train loss: 0.0255, acc: 0.9930\n",
            "Duration :528.3958704471588 seconds\n",
            "----------------------------------------\n",
            "Epoch 7/20\n",
            "--------------------\n",
            "Training batch 840/840train loss: 0.0100, acc: 0.9975\n",
            "Duration :529.0732476711273 seconds\n",
            "----------------------------------------\n",
            "Epoch 8/20\n",
            "--------------------\n",
            "Training batch 840/840train loss: 0.0088, acc: 0.9972\n",
            "Duration :528.7789084911346 seconds\n",
            "----------------------------------------\n",
            "Epoch 9/20\n",
            "--------------------\n",
            "Training batch 840/840train loss: 0.0050, acc: 0.9990\n",
            "Duration :528.4276480674744 seconds\n",
            "----------------------------------------\n",
            "Epoch 10/20\n",
            "--------------------\n",
            "Training batch 840/840train loss: 0.0188, acc: 0.9946\n",
            "Duration :528.5555403232574 seconds\n",
            "----------------------------------------\n",
            "Epoch 11/20\n",
            "--------------------\n",
            "Training batch 840/840train loss: 0.0021, acc: 0.9999\n",
            "Duration :529.0938420295715 seconds\n",
            "----------------------------------------\n",
            "Epoch 12/20\n",
            "--------------------\n",
            "Training batch 840/840train loss: 0.0084, acc: 0.9982\n",
            "Duration :527.3840732574463 seconds\n",
            "----------------------------------------\n",
            "Epoch 13/20\n",
            "--------------------\n",
            "Training batch 840/840train loss: 0.0029, acc: 0.9996\n",
            "Duration :528.7378346920013 seconds\n",
            "----------------------------------------\n",
            "Epoch 14/20\n",
            "--------------------\n",
            "Training batch 840/840train loss: 0.0018, acc: 0.9997\n",
            "Duration :529.0059006214142 seconds\n",
            "----------------------------------------\n",
            "Epoch 15/20\n",
            "--------------------\n",
            "Training batch 840/840train loss: 0.0018, acc: 1.0000\n",
            "Duration :529.0631535053253 seconds\n",
            "----------------------------------------\n",
            "Epoch 16/20\n",
            "--------------------\n",
            "Training batch 840/840train loss: 0.0014, acc: 0.9999\n",
            "Duration :528.3978657722473 seconds\n",
            "----------------------------------------\n",
            "Epoch 17/20\n",
            "--------------------\n",
            "Training batch 840/840train loss: 0.0011, acc: 0.9999\n",
            "Duration :528.5173056125641 seconds\n",
            "----------------------------------------\n",
            "Epoch 18/20\n",
            "--------------------\n",
            "Training batch 840/840train loss: 0.0013, acc: 0.9997\n",
            "Duration :528.6158709526062 seconds\n",
            "----------------------------------------\n",
            "Epoch 19/20\n",
            "--------------------\n",
            "Training batch 840/840train loss: 0.0152, acc: 0.9967\n",
            "Duration :528.724892616272 seconds\n",
            "----------------------------------------\n",
            "Epoch 20/20\n",
            "--------------------\n",
            "Training batch 840/840train loss: 0.0094, acc: 0.9981\n",
            "Duration :528.9109997749329 seconds\n"
          ]
        }
      ]
    },
    {
      "cell_type": "code",
      "metadata": {
        "id": "VAnMv6Sc-5wm",
        "outputId": "a0465471-4a95-4531-83e2-03f3154dd092",
        "colab": {
          "base_uri": "https://localhost:8080/",
          "height": 295
        }
      },
      "source": [
        "plt.plot(epochLine, lossLine, label=\"Loss\")\n",
        "plt.plot()\n",
        "\n",
        "plt.xlabel(\"Epochs\")\n",
        "plt.ylabel(\"Loss rate\")\n",
        "plt.title(\"DenseNet 161 Loss per Epoch\")\n",
        "plt.legend()\n",
        "plt.show()"
      ],
      "execution_count": 14,
      "outputs": [
        {
          "output_type": "display_data",
          "data": {
            "image/png": "[encoded data removed]",
            "text/plain": [
              "<Figure size 432x288 with 1 Axes>"
            ]
          },
          "metadata": {
            "needs_background": "light"
          }
        }
      ]
    },
    {
      "cell_type": "code",
      "metadata": {
        "id": "Wgen6XGPTlwe",
        "outputId": "00e8461e-5081-4ef7-8e55-444d58c3eccd",
        "colab": {
          "base_uri": "https://localhost:8080/"
        }
      },
      "source": [
        "print(lossLine)"
      ],
      "execution_count": 15,
      "outputs": [
        {
          "output_type": "stream",
          "name": "stdout",
          "text": [
            "[0.479750617076301, 0.08424944450708018, 0.04737999772962385, 0.03539182883779867, 0.021926969172957052, 0.025499182739196102, 0.009974590845859308, 0.008845133481207964, 0.00500751991337563, 0.01880104519513094, 0.0021390141964717805, 0.008426061298781456, 0.002904303963650587, 0.0018041448540034018, 0.001793984426430447, 0.001370587324892817, 0.0010654424426739138, 0.0013072582193544991, 0.015169541393543803, 0.00936213188068715]\n"
          ]
        }
      ]
    },
    {
      "cell_type": "code",
      "metadata": {
        "id": "TOqW1Uhz_I-j",
        "outputId": "9f9004df-a74e-495c-f90b-8acaced787a9",
        "colab": {
          "base_uri": "https://localhost:8080/",
          "height": 295
        }
      },
      "source": [
        "plt.plot(epochLine, accLine, label=\"Accuracy\")\n",
        "plt.plot()\n",
        "\n",
        "plt.xlabel(\"Epochs\")\n",
        "plt.ylabel(\"Accuracy rate\")\n",
        "plt.title(\"DenseNet 161 Accurate per Epoch\")\n",
        "plt.legend()\n",
        "plt.show()"
      ],
      "execution_count": 16,
      "outputs": [
        {
          "output_type": "display_data",
          "data": {
            "image/png": "[encoded data removed]",
            "text/plain": [
              "<Figure size 432x288 with 1 Axes>"
            ]
          },
          "metadata": {
            "needs_background": "light"
          }
        }
      ]
    },
    {
      "cell_type": "code",
      "metadata": {
        "id": "zviyi1DzTnWd",
        "outputId": "50cb40ce-408b-4ac4-ea74-d00865df08db",
        "colab": {
          "base_uri": "https://localhost:8080/"
        }
      },
      "source": [
        "print(accLine)"
      ],
      "execution_count": 17,
      "outputs": [
        {
          "output_type": "stream",
          "name": "stdout",
          "text": [
            "[tensor(0.7932, device='cuda:0', dtype=torch.float64), tensor(0.9757, device='cuda:0', dtype=torch.float64), tensor(0.9854, device='cuda:0', dtype=torch.float64), tensor(0.9893, device='cuda:0', dtype=torch.float64), tensor(0.9942, device='cuda:0', dtype=torch.float64), tensor(0.9930, device='cuda:0', dtype=torch.float64), tensor(0.9975, device='cuda:0', dtype=torch.float64), tensor(0.9972, device='cuda:0', dtype=torch.float64), tensor(0.9990, device='cuda:0', dtype=torch.float64), tensor(0.9946, device='cuda:0', dtype=torch.float64), tensor(0.9999, device='cuda:0', dtype=torch.float64), tensor(0.9982, device='cuda:0', dtype=torch.float64), tensor(0.9996, device='cuda:0', dtype=torch.float64), tensor(0.9997, device='cuda:0', dtype=torch.float64), tensor(1., device='cuda:0', dtype=torch.float64), tensor(0.9999, device='cuda:0', dtype=torch.float64), tensor(0.9999, device='cuda:0', dtype=torch.float64), tensor(0.9997, device='cuda:0', dtype=torch.float64), tensor(0.9967, device='cuda:0', dtype=torch.float64), tensor(0.9981, device='cuda:0', dtype=torch.float64)]\n"
          ]
        }
      ]
    },
    {
      "cell_type": "code",
      "metadata": {
        "id": "-Cxgj17j_Ou6",
        "outputId": "8fcd8166-c494-47fd-9ffa-83507f6cd19d",
        "colab": {
          "base_uri": "https://localhost:8080/"
        }
      },
      "source": [
        "total_time_train = 0\n",
        "for i in timeLine:  total_time_train += i\n",
        "print(total_time_train)"
      ],
      "execution_count": 18,
      "outputs": [
        {
          "output_type": "stream",
          "name": "stdout",
          "text": [
            "              0\n",
            "0  10573.035156\n"
          ]
        }
      ]
    },
    {
      "cell_type": "code",
      "metadata": {
        "id": "qs4e9px7_R5n"
      },
      "source": [
        "def test_model(model, criterion, optimizer):\n",
        "    labels_input=list()\n",
        "    labels_output=list()\n",
        "    vid_id = list()\n",
        "    for phase in ['validation']:\n",
        "        model.eval()\n",
        "\n",
        "        for inputs, labels, fname in dataloaders[phase]:\n",
        "            inputs = inputs.to(device)\n",
        "            labels = labels.to(device)\n",
        "            labels_input= labels_input + labels.tolist()\n",
        "            for f in fname:\n",
        "                vid_id.append(f.split('/')[-1].split('.')[0].split('_')[0])\n",
        "            outputs = model(inputs)\n",
        "            \n",
        "            loss = criterion(outputs, labels)\n",
        "            _, preds = torch.max(outputs, 1)\n",
        "            \n",
        "            labels_output= labels_output + preds.tolist()\n",
        "    return labels_input,labels_output,vid_id\n",
        "            \n",
        "y_true,y_pred,vid_id = test_model(model, criterion, optimizer)"
      ],
      "execution_count": 19,
      "outputs": []
    },
    {
      "cell_type": "code",
      "metadata": {
        "id": "PoBwxquk_U3C",
        "outputId": "4e2ecba2-7ec6-476c-e722-be28389b1acf",
        "colab": {
          "base_uri": "https://localhost:8080/"
        }
      },
      "source": [
        "from sklearn.metrics import confusion_matrix,accuracy_score,classification_report\n",
        "print(classification_report(y_true,y_pred))\n",
        "accuracy_score(y_true, y_pred)"
      ],
      "execution_count": 20,
      "outputs": [
        {
          "output_type": "stream",
          "name": "stdout",
          "text": [
            "              precision    recall  f1-score   support\n",
            "\n",
            "           0       0.87      0.55      0.67       409\n",
            "           1       0.40      0.44      0.42       367\n",
            "           2       0.67      0.77      0.72       831\n",
            "\n",
            "    accuracy                           0.64      1607\n",
            "   macro avg       0.65      0.58      0.60      1607\n",
            "weighted avg       0.66      0.64      0.64      1607\n",
            "\n"
          ]
        },
        {
          "output_type": "execute_result",
          "data": {
            "text/plain": [
              "0.6365899191039204"
            ]
          },
          "metadata": {},
          "execution_count": 20
        }
      ]
    },
    {
      "cell_type": "code",
      "metadata": {
        "id": "09D3Xsp1_VdS"
      },
      "source": [
        "df = pd.DataFrame(list(zip(y_true,y_pred,vid_id)),\n",
        "               columns =['y_true','y_pred','vid_id'])\n",
        "df.to_csv('df.csv',encoding='utf-8',index=False)"
      ],
      "execution_count": 21,
      "outputs": []
    },
    {
      "cell_type": "code",
      "metadata": {
        "id": "yLzrYeGc_X-f",
        "outputId": "d8c1d5f8-080d-4b76-bdf9-8469d41f7d31",
        "colab": {
          "base_uri": "https://localhost:8080/"
        }
      },
      "source": [
        "vid_list = list(set(df['vid_id'].values))\n",
        "\n",
        "y_true = []\n",
        "y_pred = []\n",
        "for vid in vid_list:\n",
        "    #print(vid)\n",
        "    tmp_df = df[df['vid_id']==vid]\n",
        "    #print(len(tmp_df))\n",
        "    vid_pred = tmp_df['y_pred'].mode().values[0]\n",
        "    vid_label = tmp_df['y_true'].mode().values[0]\n",
        "    y_true.append(vid_label)\n",
        "    y_pred.append(vid_pred)\n",
        "    #print(vid_label,\"\\n\",vid_pred)\n",
        "    \n",
        "    print('vid: {} label: {} pred: {}'.format(vid,vid_label,vid_pred))"
      ],
      "execution_count": 22,
      "outputs": [
        {
          "output_type": "stream",
          "name": "stdout",
          "text": [
            "vid: 175 label: 1 pred: 1\n",
            "vid: 171 label: 0 pred: 2\n",
            "vid: 190 label: 1 pred: 1\n",
            "vid: 166 label: 1 pred: 2\n",
            "vid: 169 label: 0 pred: 2\n",
            "vid: 162 label: 1 pred: 1\n",
            "vid: 179 label: 1 pred: 2\n",
            "vid: 167 label: 2 pred: 2\n",
            "vid: 195 label: 2 pred: 2\n",
            "vid: 172 label: 2 pred: 1\n",
            "vid: 170 label: 2 pred: 2\n",
            "vid: 159 label: 1 pred: 2\n",
            "vid: 191 label: 0 pred: 0\n",
            "vid: 165 label: 0 pred: 0\n",
            "vid: 161 label: 1 pred: 2\n",
            "vid: 188 label: 2 pred: 2\n",
            "vid: 189 label: 1 pred: 2\n",
            "vid: 183 label: 0 pred: 0\n",
            "vid: 160 label: 2 pred: 2\n",
            "vid: 173 label: 2 pred: 2\n",
            "vid: 184 label: 2 pred: 2\n",
            "vid: 174 label: 1 pred: 0\n",
            "vid: 180 label: 2 pred: 2\n",
            "vid: 168 label: 0 pred: 0\n",
            "vid: 158 label: 0 pred: 0\n",
            "vid: 178 label: 0 pred: 0\n",
            "vid: 182 label: 2 pred: 2\n",
            "vid: 193 label: 2 pred: 2\n",
            "vid: 163 label: 2 pred: 2\n",
            "vid: 187 label: 2 pred: 2\n",
            "vid: 176 label: 0 pred: 0\n",
            "vid: 181 label: 0 pred: 1\n",
            "vid: 157 label: 1 pred: 1\n",
            "vid: 192 label: 0 pred: 0\n",
            "vid: 177 label: 0 pred: 0\n",
            "vid: 164 label: 2 pred: 2\n",
            "vid: 185 label: 1 pred: 2\n",
            "vid: 186 label: 1 pred: 2\n",
            "vid: 194 label: 1 pred: 1\n"
          ]
        }
      ]
    },
    {
      "cell_type": "code",
      "metadata": {
        "id": "MBLGWqCa_bcS",
        "outputId": "06180c1a-d54e-4c41-a7cb-b4c4ae17ac0b",
        "colab": {
          "base_uri": "https://localhost:8080/"
        }
      },
      "source": [
        "accuracy_score(y_true,y_pred)"
      ],
      "execution_count": 23,
      "outputs": [
        {
          "output_type": "execute_result",
          "data": {
            "text/plain": [
              "0.6923076923076923"
            ]
          },
          "metadata": {},
          "execution_count": 23
        }
      ]
    }
  ]
}