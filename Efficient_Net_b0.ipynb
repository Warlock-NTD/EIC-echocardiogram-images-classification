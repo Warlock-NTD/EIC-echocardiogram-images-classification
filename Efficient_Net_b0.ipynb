{
  "nbformat": 4,
  "nbformat_minor": 0,
  "metadata": {
    "colab": {
      "name": "Demo.ipynb",
      "provenance": [],
      "collapsed_sections": [],
      "include_colab_link": true
    },
    "kernelspec": {
      "display_name": "Python 3",
      "name": "python3"
    },
    "language_info": {
      "name": "python"
    },
    "accelerator": "GPU",
    "widgets": {
      "application/vnd.jupyter.widget-state+json": {
        "9cc3c9f1ff364a859cbbdf90d71d14d2": {
          "model_module": "@jupyter-widgets/controls",
          "model_name": "HBoxModel",
          "model_module_version": "1.5.0",
          "state": {
            "_view_name": "HBoxView",
            "_dom_classes": [],
            "_model_name": "HBoxModel",
            "_view_module": "@jupyter-widgets/controls",
            "_model_module_version": "1.5.0",
            "_view_count": null,
            "_view_module_version": "1.5.0",
            "box_style": "",
            "layout": "IPY_MODEL_2f53cc2f29604a7eb0391e1132f4a585",
            "_model_module": "@jupyter-widgets/controls",
            "children": [
              "IPY_MODEL_fca387bca5db4df3a960505e0c51ca1c",
              "IPY_MODEL_b51818e3633f4b84977388e79acf7915",
              "IPY_MODEL_bca8e55a3b014cd38adeb2afc82c3c79"
            ]
          }
        },
        "2f53cc2f29604a7eb0391e1132f4a585": {
          "model_module": "@jupyter-widgets/base",
          "model_name": "LayoutModel",
          "model_module_version": "1.2.0",
          "state": {
            "_view_name": "LayoutView",
            "grid_template_rows": null,
            "right": null,
            "justify_content": null,
            "_view_module": "@jupyter-widgets/base",
            "overflow": null,
            "_model_module_version": "1.2.0",
            "_view_count": null,
            "flex_flow": null,
            "width": null,
            "min_width": null,
            "border": null,
            "align_items": null,
            "bottom": null,
            "_model_module": "@jupyter-widgets/base",
            "top": null,
            "grid_column": null,
            "overflow_y": null,
            "overflow_x": null,
            "grid_auto_flow": null,
            "grid_area": null,
            "grid_template_columns": null,
            "flex": null,
            "_model_name": "LayoutModel",
            "justify_items": null,
            "grid_row": null,
            "max_height": null,
            "align_content": null,
            "visibility": null,
            "align_self": null,
            "height": null,
            "min_height": null,
            "padding": null,
            "grid_auto_rows": null,
            "grid_gap": null,
            "max_width": null,
            "order": null,
            "_view_module_version": "1.2.0",
            "grid_template_areas": null,
            "object_position": null,
            "object_fit": null,
            "grid_auto_columns": null,
            "margin": null,
            "display": null,
            "left": null
          }
        },
        "fca387bca5db4df3a960505e0c51ca1c": {
          "model_module": "@jupyter-widgets/controls",
          "model_name": "HTMLModel",
          "model_module_version": "1.5.0",
          "state": {
            "_view_name": "HTMLView",
            "style": "IPY_MODEL_994352bb6d4d437e821c3b453589ca7c",
            "_dom_classes": [],
            "description": "",
            "_model_name": "HTMLModel",
            "placeholder": "​",
            "_view_module": "@jupyter-widgets/controls",
            "_model_module_version": "1.5.0",
            "value": "100%",
            "_view_count": null,
            "_view_module_version": "1.5.0",
            "description_tooltip": null,
            "_model_module": "@jupyter-widgets/controls",
            "layout": "IPY_MODEL_6ab39c163c7b46d6baf71ea534db5691"
          }
        },
        "b51818e3633f4b84977388e79acf7915": {
          "model_module": "@jupyter-widgets/controls",
          "model_name": "FloatProgressModel",
          "model_module_version": "1.5.0",
          "state": {
            "_view_name": "ProgressView",
            "style": "IPY_MODEL_7f31ed76b3884691900519d1a88d87f5",
            "_dom_classes": [],
            "description": "",
            "_model_name": "FloatProgressModel",
            "bar_style": "success",
            "max": 102530333,
            "_view_module": "@jupyter-widgets/controls",
            "_model_module_version": "1.5.0",
            "value": 102530333,
            "_view_count": null,
            "_view_module_version": "1.5.0",
            "orientation": "horizontal",
            "min": 0,
            "description_tooltip": null,
            "_model_module": "@jupyter-widgets/controls",
            "layout": "IPY_MODEL_90a34b39f5044f9f8eb2d7e978b6a9ff"
          }
        },
        "bca8e55a3b014cd38adeb2afc82c3c79": {
          "model_module": "@jupyter-widgets/controls",
          "model_name": "HTMLModel",
          "model_module_version": "1.5.0",
          "state": {
            "_view_name": "HTMLView",
            "style": "IPY_MODEL_f108a477e88243d2aebc3130939dffea",
            "_dom_classes": [],
            "description": "",
            "_model_name": "HTMLModel",
            "placeholder": "​",
            "_view_module": "@jupyter-widgets/controls",
            "_model_module_version": "1.5.0",
            "value": " 97.8M/97.8M [00:01&lt;00:00, 101MB/s]",
            "_view_count": null,
            "_view_module_version": "1.5.0",
            "description_tooltip": null,
            "_model_module": "@jupyter-widgets/controls",
            "layout": "IPY_MODEL_46a20cc82d8f48fca071e4709aee442d"
          }
        },
        "994352bb6d4d437e821c3b453589ca7c": {
          "model_module": "@jupyter-widgets/controls",
          "model_name": "DescriptionStyleModel",
          "model_module_version": "1.5.0",
          "state": {
            "_view_name": "StyleView",
            "_model_name": "DescriptionStyleModel",
            "description_width": "",
            "_view_module": "@jupyter-widgets/base",
            "_model_module_version": "1.5.0",
            "_view_count": null,
            "_view_module_version": "1.2.0",
            "_model_module": "@jupyter-widgets/controls"
          }
        },
        "6ab39c163c7b46d6baf71ea534db5691": {
          "model_module": "@jupyter-widgets/base",
          "model_name": "LayoutModel",
          "model_module_version": "1.2.0",
          "state": {
            "_view_name": "LayoutView",
            "grid_template_rows": null,
            "right": null,
            "justify_content": null,
            "_view_module": "@jupyter-widgets/base",
            "overflow": null,
            "_model_module_version": "1.2.0",
            "_view_count": null,
            "flex_flow": null,
            "width": null,
            "min_width": null,
            "border": null,
            "align_items": null,
            "bottom": null,
            "_model_module": "@jupyter-widgets/base",
            "top": null,
            "grid_column": null,
            "overflow_y": null,
            "overflow_x": null,
            "grid_auto_flow": null,
            "grid_area": null,
            "grid_template_columns": null,
            "flex": null,
            "_model_name": "LayoutModel",
            "justify_items": null,
            "grid_row": null,
            "max_height": null,
            "align_content": null,
            "visibility": null,
            "align_self": null,
            "height": null,
            "min_height": null,
            "padding": null,
            "grid_auto_rows": null,
            "grid_gap": null,
            "max_width": null,
            "order": null,
            "_view_module_version": "1.2.0",
            "grid_template_areas": null,
            "object_position": null,
            "object_fit": null,
            "grid_auto_columns": null,
            "margin": null,
            "display": null,
            "left": null
          }
        },
        "7f31ed76b3884691900519d1a88d87f5": {
          "model_module": "@jupyter-widgets/controls",
          "model_name": "ProgressStyleModel",
          "model_module_version": "1.5.0",
          "state": {
            "_view_name": "StyleView",
            "_model_name": "ProgressStyleModel",
            "description_width": "",
            "_view_module": "@jupyter-widgets/base",
            "_model_module_version": "1.5.0",
            "_view_count": null,
            "_view_module_version": "1.2.0",
            "bar_color": null,
            "_model_module": "@jupyter-widgets/controls"
          }
        },
        "90a34b39f5044f9f8eb2d7e978b6a9ff": {
          "model_module": "@jupyter-widgets/base",
          "model_name": "LayoutModel",
          "model_module_version": "1.2.0",
          "state": {
            "_view_name": "LayoutView",
            "grid_template_rows": null,
            "right": null,
            "justify_content": null,
            "_view_module": "@jupyter-widgets/base",
            "overflow": null,
            "_model_module_version": "1.2.0",
            "_view_count": null,
            "flex_flow": null,
            "width": null,
            "min_width": null,
            "border": null,
            "align_items": null,
            "bottom": null,
            "_model_module": "@jupyter-widgets/base",
            "top": null,
            "grid_column": null,
            "overflow_y": null,
            "overflow_x": null,
            "grid_auto_flow": null,
            "grid_area": null,
            "grid_template_columns": null,
            "flex": null,
            "_model_name": "LayoutModel",
            "justify_items": null,
            "grid_row": null,
            "max_height": null,
            "align_content": null,
            "visibility": null,
            "align_self": null,
            "height": null,
            "min_height": null,
            "padding": null,
            "grid_auto_rows": null,
            "grid_gap": null,
            "max_width": null,
            "order": null,
            "_view_module_version": "1.2.0",
            "grid_template_areas": null,
            "object_position": null,
            "object_fit": null,
            "grid_auto_columns": null,
            "margin": null,
            "display": null,
            "left": null
          }
        },
        "f108a477e88243d2aebc3130939dffea": {
          "model_module": "@jupyter-widgets/controls",
          "model_name": "DescriptionStyleModel",
          "model_module_version": "1.5.0",
          "state": {
            "_view_name": "StyleView",
            "_model_name": "DescriptionStyleModel",
            "description_width": "",
            "_view_module": "@jupyter-widgets/base",
            "_model_module_version": "1.5.0",
            "_view_count": null,
            "_view_module_version": "1.2.0",
            "_model_module": "@jupyter-widgets/controls"
          }
        },
        "46a20cc82d8f48fca071e4709aee442d": {
          "model_module": "@jupyter-widgets/base",
          "model_name": "LayoutModel",
          "model_module_version": "1.2.0",
          "state": {
            "_view_name": "LayoutView",
            "grid_template_rows": null,
            "right": null,
            "justify_content": null,
            "_view_module": "@jupyter-widgets/base",
            "overflow": null,
            "_model_module_version": "1.2.0",
            "_view_count": null,
            "flex_flow": null,
            "width": null,
            "min_width": null,
            "border": null,
            "align_items": null,
            "bottom": null,
            "_model_module": "@jupyter-widgets/base",
            "top": null,
            "grid_column": null,
            "overflow_y": null,
            "overflow_x": null,
            "grid_auto_flow": null,
            "grid_area": null,
            "grid_template_columns": null,
            "flex": null,
            "_model_name": "LayoutModel",
            "justify_items": null,
            "grid_row": null,
            "max_height": null,
            "align_content": null,
            "visibility": null,
            "align_self": null,
            "height": null,
            "min_height": null,
            "padding": null,
            "grid_auto_rows": null,
            "grid_gap": null,
            "max_width": null,
            "order": null,
            "_view_module_version": "1.2.0",
            "grid_template_areas": null,
            "object_position": null,
            "object_fit": null,
            "grid_auto_columns": null,
            "margin": null,
            "display": null,
            "left": null
          }
        }
      }
    }
  },
  "cells": [
    {
      "cell_type": "markdown",
      "metadata": {
        "id": "view-in-github",
        "colab_type": "text"
      },
      "source": [
        "<a href=\"https://colab.research.google.com/github/Warlock-NTD/EIC-echocardiogram-images-classification/blob/main/Demo.ipynb\" target=\"_parent\"><img src=\"https://colab.research.google.com/assets/colab-badge.svg\" alt=\"Open In Colab\"/></a>"
      ]
    },
    {
      "cell_type": "code",
      "metadata": {
        "id": "2NwiMvYi1Sc6",
        "colab": {
          "base_uri": "https://localhost:8080/"
        },
        "outputId": "bc1ff209-1333-4f17-9a00-284a30749dec"
      },
      "source": [
        "import numpy as np\n",
        "%matplotlib inline\n",
        "import matplotlib.pyplot as plt\n",
        "from PIL import Image\n",
        "import torch\n",
        "from torchvision import datasets, models, transforms\n",
        "import torch.nn as nn\n",
        "from torch.nn import functional as F\n",
        "import torch.optim as optim\n",
        "import torchvision\n",
        "from torch.autograd import Variable\n",
        "import time\n",
        " \n",
        "input_path = \"../content/DATA_CHAMBER_2021/\"\n",
        "use_gpu = torch.cuda.is_available()\n",
        "if use_gpu:\n",
        "    print(\"Using CUDA\")\n"
      ],
      "execution_count": 1,
      "outputs": [
        {
          "output_type": "stream",
          "name": "stdout",
          "text": [
            "Using CUDA\n"
          ]
        }
      ]
    },
    {
      "cell_type": "code",
      "metadata": {
        "colab": {
          "base_uri": "https://localhost:8080/"
        },
        "id": "dIQiBjNfdmvW",
        "outputId": "72616caf-c9ac-4c2e-fda0-4046532a3e37"
      },
      "source": [
        "from google.colab import drive\n",
        "drive.mount('/content/drive')"
      ],
      "execution_count": 3,
      "outputs": [
        {
          "output_type": "stream",
          "name": "stdout",
          "text": [
            "Mounted at /content/drive\n"
          ]
        }
      ]
    },
    {
      "cell_type": "markdown",
      "metadata": {
        "id": "9PSw2Kb5Wz2B"
      },
      "source": [
        "# Mục mới"
      ]
    },
    {
      "cell_type": "code",
      "metadata": {
        "id": "O5UX1sxih2PR"
      },
      "source": [
        "!unzip -uq \"/content/drive/My Drive/Colab Notebooks/DATA_CHAMBER_2021.zip\" -d \"./\""
      ],
      "execution_count": 7,
      "outputs": []
    },
    {
      "cell_type": "code",
      "metadata": {
        "id": "TFR8GvNkaAF5"
      },
      "source": [
        "class ImageFolderWithPaths(datasets.ImageFolder):\n",
        "    \"\"\"Custom dataset that includes image file paths. Extends\n",
        "    torchvision.datasets.ImageFolder\n",
        "    \"\"\"\n",
        "\n",
        "    # override the __getitem__ method. this is the method that dataloader calls\n",
        "    def __getitem__(self, index):\n",
        "        # this is what ImageFolder normally returns \n",
        "        original_tuple = super(ImageFolderWithPaths, self).__getitem__(index)\n",
        "        # the image file path\n",
        "        path = self.imgs[index][0]\n",
        "        # make a new tuple that includes original and the path\n",
        "        tuple_with_path = (original_tuple + (path,))\n",
        "        return tuple_with_path"
      ],
      "execution_count": 8,
      "outputs": []
    },
    {
      "cell_type": "code",
      "metadata": {
        "id": "8FW4RZ0ziu_T"
      },
      "source": [
        "normalize = transforms.Normalize(mean=[0.485, 0.456, 0.406],\n",
        "                                 std=[0.229, 0.224, 0.225])\n",
        "\n",
        "data_transforms = {\n",
        "    'train':\n",
        "    transforms.Compose([\n",
        "        transforms.Resize(64),\n",
        "        transforms.CenterCrop(64),\n",
        "#         transforms.RandomAffine(0, shear=10, scale=(0.8,1.2)),\n",
        "#         transforms.RandomHorizontalFlip(),\n",
        "        transforms.ToTensor(),\n",
        "        normalize\n",
        "    ]),\n",
        "    'validation':\n",
        "    transforms.Compose([\n",
        "        transforms.Resize(64),\n",
        "        transforms.CenterCrop(64),\n",
        "        transforms.ToTensor(),\n",
        "        normalize\n",
        "    ]),\n",
        "}\n",
        "\n",
        "image_datasets = {\n",
        "    'train': \n",
        "    ImageFolderWithPaths(input_path + 'train', data_transforms['train']),\n",
        "    'validation': \n",
        "    ImageFolderWithPaths(input_path + 'test', data_transforms['validation'])\n",
        "}\n",
        "dataset_sizes = {x: len(image_datasets[x]) for x in ['train','validation']}\n",
        "\n",
        "dataloaders = {\n",
        "    'train':\n",
        "    torch.utils.data.DataLoader(image_datasets['train'],\n",
        "                                batch_size=8,\n",
        "                                shuffle=True,\n",
        "                                num_workers=2),  # for Kaggle\n",
        "    'validation':\n",
        "    torch.utils.data.DataLoader(image_datasets['validation'],\n",
        "                                batch_size=8,\n",
        "                                shuffle=True,\n",
        "                                num_workers=2)  # for Kaggle\n",
        "}"
      ],
      "execution_count": 9,
      "outputs": []
    },
    {
      "cell_type": "code",
      "metadata": {
        "colab": {
          "base_uri": "https://localhost:8080/"
        },
        "id": "MyfW1_t9lmS7",
        "outputId": "e7de842c-d238-46b7-872f-f3c4ae03a00b"
      },
      "source": [
        "device = torch.device(\"cuda:0\" if torch.cuda.is_available() else \"cpu\")\n",
        "device"
      ],
      "execution_count": 10,
      "outputs": [
        {
          "output_type": "execute_result",
          "data": {
            "text/plain": [
              "device(type='cuda', index=0)"
            ]
          },
          "metadata": {},
          "execution_count": 10
        }
      ]
    },
    {
      "cell_type": "code",
      "metadata": {
        "colab": {
          "base_uri": "https://localhost:8080/"
        },
        "id": "4ZKEud03lpoc",
        "outputId": "8e6ae8b6-447e-4af9-dd60-20dc3d7071ae"
      },
      "source": [
        "!pip install efficientnet_pytorch "
      ],
      "execution_count": 11,
      "outputs": [
        {
          "output_type": "stream",
          "name": "stdout",
          "text": [
            "Collecting efficientnet_pytorch\n",
            "  Downloading efficientnet_pytorch-0.7.1.tar.gz (21 kB)\n",
            "Requirement already satisfied: torch in /usr/local/lib/python3.7/dist-packages (from efficientnet_pytorch) (1.9.0+cu111)\n",
            "Requirement already satisfied: typing-extensions in /usr/local/lib/python3.7/dist-packages (from torch->efficientnet_pytorch) (3.7.4.3)\n",
            "Building wheels for collected packages: efficientnet-pytorch\n",
            "  Building wheel for efficientnet-pytorch (setup.py) ... \u001b[?25l\u001b[?25hdone\n",
            "  Created wheel for efficientnet-pytorch: filename=efficientnet_pytorch-0.7.1-py3-none-any.whl size=16446 sha256=342aa08818822d69bba47f2ea5a03a5ad09a3b7ab5b6600c302ed0bc65b911bf\n",
            "  Stored in directory: /root/.cache/pip/wheels/0e/cc/b2/49e74588263573ff778da58cc99b9c6349b496636a7e165be6\n",
            "Successfully built efficientnet-pytorch\n",
            "Installing collected packages: efficientnet-pytorch\n",
            "Successfully installed efficientnet-pytorch-0.7.1\n"
          ]
        }
      ]
    },
    {
      "cell_type": "code",
      "metadata": {
        "id": "W-HzUGylmKl8"
      },
      "source": [
        "from efficientnet_pytorch import EfficientNet"
      ],
      "execution_count": 12,
      "outputs": []
    },
    {
      "cell_type": "code",
      "metadata": {
        "id": "Jnp9gIXfl5FA",
        "colab": {
          "base_uri": "https://localhost:8080/",
          "height": 66,
          "referenced_widgets": [
            "9cc3c9f1ff364a859cbbdf90d71d14d2",
            "2f53cc2f29604a7eb0391e1132f4a585",
            "fca387bca5db4df3a960505e0c51ca1c",
            "b51818e3633f4b84977388e79acf7915",
            "bca8e55a3b014cd38adeb2afc82c3c79",
            "994352bb6d4d437e821c3b453589ca7c",
            "6ab39c163c7b46d6baf71ea534db5691",
            "7f31ed76b3884691900519d1a88d87f5",
            "90a34b39f5044f9f8eb2d7e978b6a9ff",
            "f108a477e88243d2aebc3130939dffea",
            "46a20cc82d8f48fca071e4709aee442d"
          ]
        },
        "outputId": "0bd3c7cc-e2fb-4cf7-f0e4-228f16600e3e"
      },
      "source": [
        "model = models.resnet50(pretrained = True).cuda()\n",
        "for param in model.parameters():\n",
        "    param.requires_grad = False   \n",
        "    \n",
        "model.fc = nn.Sequential(\n",
        "               nn.Linear(2048, 128),\n",
        "               nn.ReLU(inplace=True),\n",
        "               nn.Linear(128, 3)).to(device)"
      ],
      "execution_count": 14,
      "outputs": [
        {
          "output_type": "stream",
          "name": "stderr",
          "text": [
            "Downloading: \"https://download.pytorch.org/models/resnet50-0676ba61.pth\" to /root/.cache/torch/hub/checkpoints/resnet50-0676ba61.pth\n"
          ]
        },
        {
          "output_type": "display_data",
          "data": {
            "application/vnd.jupyter.widget-view+json": {
              "model_id": "9cc3c9f1ff364a859cbbdf90d71d14d2",
              "version_minor": 0,
              "version_major": 2
            },
            "text/plain": [
              "  0%|          | 0.00/97.8M [00:00<?, ?B/s]"
            ]
          },
          "metadata": {}
        }
      ]
    },
    {
      "cell_type": "code",
      "metadata": {
        "id": "qngLYITdXzge"
      },
      "source": [
        "criterion = nn.CrossEntropyLoss()\n",
        "optimizer = optim.SGD(model.fc.parameters(),lr=0.001,momentum=0.9)"
      ],
      "execution_count": 15,
      "outputs": []
    },
    {
      "cell_type": "code",
      "metadata": {
        "id": "A1E9cWxzX3H0"
      },
      "source": [
        "def train_model(model, criterion, optimizer, num_epochs=3):\n",
        "    train_batches = len(dataloaders['train'])\n",
        "    for epoch in range(num_epochs):\n",
        "        print('Epoch {}/{}'.format(epoch+1, num_epochs))\n",
        "        print('-' * 10)\n",
        "\n",
        "        for phase in ['train']:\n",
        "            if phase == 'train':\n",
        "                model.train()\n",
        "            else:\n",
        "                model.eval()\n",
        "\n",
        "            running_loss = 0.0\n",
        "            running_corrects = 0\n",
        "\n",
        "            for i,data in enumerate(dataloaders[phase]):\n",
        "                inputs, labels,_ = data\n",
        "                print(\"\\rTraining batch {}/{}\".format(i+1, train_batches), end='', flush=True)\n",
        "                inputs = inputs.to(device)\n",
        "                labels = labels.to(device)\n",
        "\n",
        "                outputs = model(inputs)\n",
        "                loss = criterion(outputs, labels)\n",
        "\n",
        "                if phase == 'train':\n",
        "                    optimizer.zero_grad()\n",
        "                    loss.backward()\n",
        "                    optimizer.step()\n",
        "\n",
        "                _, preds = torch.max(outputs, 1)\n",
        "                running_loss += loss.item() * inputs.size(0)\n",
        "                running_corrects += torch.sum(preds == labels.data)\n",
        "\n",
        "            epoch_loss = running_loss / len(image_datasets[phase])\n",
        "            epoch_acc = running_corrects.double() / len(image_datasets[phase])\n",
        "\n",
        "            print('{} loss: {:.4f}, acc: {:.4f}'.format(phase,\n",
        "                                                        epoch_loss,\n",
        "                                                        epoch_acc))\n",
        "    return model"
      ],
      "execution_count": 16,
      "outputs": []
    },
    {
      "cell_type": "code",
      "metadata": {
        "colab": {
          "base_uri": "https://localhost:8080/"
        },
        "id": "GieXz6fYX-kj",
        "outputId": "bbf59a7d-7ce7-4ad0-c247-84e1432ea25e"
      },
      "source": [
        "model_trained = train_model(model, criterion, optimizer, num_epochs=20)"
      ],
      "execution_count": 17,
      "outputs": [
        {
          "output_type": "stream",
          "name": "stdout",
          "text": [
            "Epoch 1/20\n",
            "----------\n",
            "Training batch 2/840"
          ]
        },
        {
          "output_type": "stream",
          "name": "stderr",
          "text": [
            "/usr/local/lib/python3.7/dist-packages/torch/nn/functional.py:718: UserWarning: Named tensors and all their associated APIs are an experimental feature and subject to change. Please do not use them for anything important until they are released as stable. (Triggered internally at  /pytorch/c10/core/TensorImpl.h:1156.)\n",
            "  return torch.max_pool2d(input, kernel_size, stride, padding, dilation, ceil_mode)\n"
          ]
        },
        {
          "output_type": "stream",
          "name": "stdout",
          "text": [
            "Training batch 840/840train loss: 0.7838, acc: 0.6516\n",
            "Epoch 2/20\n",
            "----------\n",
            "Training batch 840/840train loss: 0.5998, acc: 0.7529\n",
            "Epoch 3/20\n",
            "----------\n",
            "Training batch 840/840train loss: 0.4925, acc: 0.8053\n",
            "Epoch 4/20\n",
            "----------\n",
            "Training batch 840/840train loss: 0.4210, acc: 0.8361\n",
            "Epoch 5/20\n",
            "----------\n",
            "Training batch 840/840train loss: 0.3805, acc: 0.8540\n",
            "Epoch 6/20\n",
            "----------\n",
            "Training batch 840/840train loss: 0.3206, acc: 0.8758\n",
            "Epoch 7/20\n",
            "----------\n",
            "Training batch 840/840train loss: 0.2997, acc: 0.8849\n",
            "Epoch 8/20\n",
            "----------\n",
            "Training batch 840/840train loss: 0.2657, acc: 0.8970\n",
            "Epoch 9/20\n",
            "----------\n",
            "Training batch 840/840train loss: 0.2444, acc: 0.9107\n",
            "Epoch 10/20\n",
            "----------\n",
            "Training batch 840/840train loss: 0.2405, acc: 0.9087\n",
            "Epoch 11/20\n",
            "----------\n",
            "Training batch 840/840train loss: 0.2157, acc: 0.9204\n",
            "Epoch 12/20\n",
            "----------\n",
            "Training batch 840/840train loss: 0.2009, acc: 0.9275\n",
            "Epoch 13/20\n",
            "----------\n",
            "Training batch 840/840train loss: 0.1937, acc: 0.9308\n",
            "Epoch 14/20\n",
            "----------\n",
            "Training batch 840/840train loss: 0.1962, acc: 0.9239\n",
            "Epoch 15/20\n",
            "----------\n",
            "Training batch 840/840train loss: 0.1699, acc: 0.9382\n",
            "Epoch 16/20\n",
            "----------\n",
            "Training batch 840/840train loss: 0.1748, acc: 0.9352\n",
            "Epoch 17/20\n",
            "----------\n",
            "Training batch 840/840train loss: 0.1543, acc: 0.9442\n",
            "Epoch 18/20\n",
            "----------\n",
            "Training batch 840/840train loss: 0.1642, acc: 0.9394\n",
            "Epoch 19/20\n",
            "----------\n",
            "Training batch 840/840train loss: 0.1489, acc: 0.9443\n",
            "Epoch 20/20\n",
            "----------\n",
            "Training batch 840/840train loss: 0.1503, acc: 0.9449\n"
          ]
        }
      ]
    },
    {
      "cell_type": "code",
      "metadata": {
        "id": "owrzt5RAX_tA"
      },
      "source": [
        "def test_model(model, criterion, optimizer):\n",
        "    labels_input=list()\n",
        "    labels_output=list()\n",
        "    vid_id = list()\n",
        "    for phase in ['validation']:\n",
        "        model.eval()\n",
        "\n",
        "        running_loss = 0.0\n",
        "        running_corrects = 0\n",
        "\n",
        "        for inputs, labels, fname in dataloaders[phase]:\n",
        "            inputs = inputs.to(device)\n",
        "            labels = labels.to(device)\n",
        "            labels_input= labels_input + labels.tolist()\n",
        "            for f in fname:\n",
        "                vid_id.append(f.split('/')[-1].split('.')[0].split('_')[0])\n",
        "            outputs = model(inputs)\n",
        "            \n",
        "            loss = criterion(outputs, labels)\n",
        "            _, preds = torch.max(outputs, 1)\n",
        "            \n",
        "            labels_output= labels_output + preds.tolist()\n",
        "    return labels_input,labels_output,vid_id\n",
        "            \n",
        "y_true,y_pred,vid_id = test_model(model, criterion, optimizer)"
      ],
      "execution_count": 18,
      "outputs": []
    },
    {
      "cell_type": "code",
      "metadata": {
        "colab": {
          "base_uri": "https://localhost:8080/"
        },
        "id": "KhcYt7pyYIb8",
        "outputId": "b730722c-55dc-4ef3-cf02-eed4eb42a124"
      },
      "source": [
        "from sklearn.metrics import confusion_matrix,accuracy_score,classification_report\n",
        "print(classification_report(y_true,y_pred))\n",
        "accuracy_score(y_true, y_pred)"
      ],
      "execution_count": 19,
      "outputs": [
        {
          "output_type": "stream",
          "name": "stdout",
          "text": [
            "              precision    recall  f1-score   support\n",
            "\n",
            "           0       0.45      0.68      0.54       409\n",
            "           1       0.58      0.74      0.65       367\n",
            "           2       0.74      0.46      0.56       831\n",
            "\n",
            "    accuracy                           0.58      1607\n",
            "   macro avg       0.59      0.63      0.58      1607\n",
            "weighted avg       0.63      0.58      0.58      1607\n",
            "\n"
          ]
        },
        {
          "output_type": "execute_result",
          "data": {
            "text/plain": [
              "0.5787181082762912"
            ]
          },
          "metadata": {},
          "execution_count": 19
        }
      ]
    },
    {
      "cell_type": "code",
      "metadata": {
        "id": "kBzldMAXYMKc"
      },
      "source": [
        "import pandas as pd\n",
        "\n",
        "df = pd.DataFrame(list(zip(y_true,y_pred,vid_id)),\n",
        "               columns =['y_true','y_pred','vid_id'])\n",
        "df.to_csv('df.csv',encoding='utf-8',index=False)"
      ],
      "execution_count": 20,
      "outputs": []
    },
    {
      "cell_type": "code",
      "metadata": {
        "colab": {
          "base_uri": "https://localhost:8080/"
        },
        "id": "gxk87kxNYPni",
        "outputId": "db6bda43-30f5-4607-f0af-764ef585e105"
      },
      "source": [
        "vid_list = list(set(df['vid_id'].values))\n",
        "\n",
        "y_true = []\n",
        "y_pred = []\n",
        "for vid in vid_list:\n",
        "    #print(vid)\n",
        "    tmp_df = df[df['vid_id']==vid]\n",
        "    #print(len(tmp_df))\n",
        "    vid_pred = tmp_df['y_pred'].mode().values[0]\n",
        "    vid_label = tmp_df['y_true'].mode().values[0]\n",
        "    y_true.append(vid_label)\n",
        "    y_pred.append(vid_pred)\n",
        "    #print(vid_label,\"\\n\",vid_pred)\n",
        "    \n",
        "    print('vid: {} label: {} pred: {}'.format(vid,vid_label,vid_pred))\n"
      ],
      "execution_count": 21,
      "outputs": [
        {
          "output_type": "stream",
          "name": "stdout",
          "text": [
            "vid: 180 label: 2 pred: 2\n",
            "vid: 159 label: 1 pred: 1\n",
            "vid: 169 label: 0 pred: 0\n",
            "vid: 195 label: 2 pred: 1\n",
            "vid: 182 label: 2 pred: 1\n",
            "vid: 158 label: 0 pred: 0\n",
            "vid: 162 label: 1 pred: 1\n",
            "vid: 184 label: 2 pred: 2\n",
            "vid: 171 label: 0 pred: 0\n",
            "vid: 185 label: 1 pred: 0\n",
            "vid: 177 label: 0 pred: 0\n",
            "vid: 189 label: 1 pred: 1\n",
            "vid: 181 label: 0 pred: 2\n",
            "vid: 173 label: 2 pred: 0\n",
            "vid: 194 label: 1 pred: 1\n",
            "vid: 175 label: 1 pred: 1\n",
            "vid: 192 label: 0 pred: 0\n",
            "vid: 176 label: 0 pred: 0\n",
            "vid: 172 label: 2 pred: 2\n",
            "vid: 160 label: 2 pred: 1\n",
            "vid: 186 label: 1 pred: 1\n",
            "vid: 157 label: 1 pred: 2\n",
            "vid: 190 label: 1 pred: 1\n",
            "vid: 188 label: 2 pred: 0\n",
            "vid: 193 label: 2 pred: 0\n",
            "vid: 163 label: 2 pred: 2\n",
            "vid: 174 label: 1 pred: 1\n",
            "vid: 167 label: 2 pred: 2\n",
            "vid: 165 label: 0 pred: 0\n",
            "vid: 170 label: 2 pred: 0\n",
            "vid: 187 label: 2 pred: 0\n",
            "vid: 178 label: 0 pred: 0\n",
            "vid: 168 label: 0 pred: 0\n",
            "vid: 179 label: 1 pred: 1\n",
            "vid: 191 label: 0 pred: 0\n",
            "vid: 183 label: 0 pred: 0\n",
            "vid: 164 label: 2 pred: 2\n",
            "vid: 161 label: 1 pred: 1\n",
            "vid: 166 label: 1 pred: 1\n"
          ]
        }
      ]
    },
    {
      "cell_type": "code",
      "metadata": {
        "colab": {
          "base_uri": "https://localhost:8080/"
        },
        "id": "DmIGKbgmYSyz",
        "outputId": "0c08fb7d-541e-419d-a83e-2b79f0d744a8"
      },
      "source": [
        "accuracy_score(y_true,y_pred)"
      ],
      "execution_count": 22,
      "outputs": [
        {
          "output_type": "execute_result",
          "data": {
            "text/plain": [
              "0.717948717948718"
            ]
          },
          "metadata": {},
          "execution_count": 22
        }
      ]
    }
  ]
}
